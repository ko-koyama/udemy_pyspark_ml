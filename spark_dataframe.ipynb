{
 "cells": [
  {
   "cell_type": "markdown",
   "id": "93e23f10-b351-458f-9d8e-50fff3c20c27",
   "metadata": {},
   "source": [
    "### Spark DataFrame"
   ]
  },
  {
   "cell_type": "markdown",
   "id": "e3939da1-ff6d-4b1f-bb93-472e90d34fcb",
   "metadata": {},
   "source": [
    "#### SparkSessionの作成"
   ]
  },
  {
   "cell_type": "code",
   "execution_count": 1,
   "id": "1e19c735-6c21-4ed5-8ee2-43ad8caa9765",
   "metadata": {},
   "outputs": [],
   "source": [
    "from pyspark.sql import SparkSession"
   ]
  },
  {
   "cell_type": "code",
   "execution_count": 2,
   "id": "5c7dacf6-c38f-4544-95d7-b512cc23a158",
   "metadata": {},
   "outputs": [],
   "source": [
    "spark = SparkSession.builder.getOrCreate()"
   ]
  },
  {
   "cell_type": "markdown",
   "id": "6ef2e514-b885-4c34-b8c5-d6efc35cc12d",
   "metadata": {},
   "source": [
    "#### データの読み込み"
   ]
  },
  {
   "cell_type": "code",
   "execution_count": 3,
   "id": "09d80be5-049d-4f5d-88a1-9c62441caeeb",
   "metadata": {},
   "outputs": [],
   "source": [
    "# 型を推測してロードする\n",
    "df = spark.read.format('csv') \\\n",
    "          .option('inferSchema', 'True') \\\n",
    "          .option('header', 'True') \\\n",
    "          .option('sep', ',') \\\n",
    "          .load('data/Online_Retail.csv')"
   ]
  },
  {
   "cell_type": "code",
   "execution_count": 4,
   "id": "019c9198-b077-4e9f-a61a-281ccb1d7f8a",
   "metadata": {},
   "outputs": [],
   "source": [
    "# チェインメソッドでoptionを記述しなくとも、loadの中でも記述できる\n",
    "df = spark.read.load('data/Online_Retail.csv',\n",
    "                     format = 'csv',\n",
    "                     sep = ',',\n",
    "                     header = 'true',\n",
    "                     inferSchema = 'true')"
   ]
  },
  {
   "cell_type": "code",
   "execution_count": 5,
   "id": "cec263b1-6e1c-4e0f-a4c7-f75082047eb2",
   "metadata": {},
   "outputs": [],
   "source": [
    "# 型を指定してロードする\n",
    "from pyspark.sql.types import StructType, StructField, StringType, IntegerType, FloatType, DateType\n",
    "\n",
    "schema = StructType([StructField('InvoiceNo', StringType(), False),\n",
    "                     StructField('StockCode', StringType(), False),\n",
    "                     StructField('Description', StringType(), False),\n",
    "                     StructField('Quantity', IntegerType(), False),\n",
    "                     StructField('InvoiceDate', DateType(), False),\n",
    "                     StructField('UnitPrice', FloatType(), False),\n",
    "                     StructField('CustomerID', StringType(), False),\n",
    "                     StructField('Country', StringType(), False)])\n",
    "\n",
    "df = spark.read.load('data/Online_Retail.csv',\n",
    "                     format = 'csv',\n",
    "                     sep = ',',\n",
    "                     header = 'true',\n",
    "                     schema = schema)"
   ]
  },
  {
   "cell_type": "markdown",
   "id": "ea7abe99-aeee-45ed-96f3-d026206fe2ce",
   "metadata": {},
   "source": [
    "#### データの表示"
   ]
  },
  {
   "cell_type": "code",
   "execution_count": 6,
   "id": "aed084d7-4c76-4b93-914b-da277f654afa",
   "metadata": {},
   "outputs": [
    {
     "name": "stdout",
     "output_type": "stream",
     "text": [
      "+---------+---------+--------------------+--------+-----------+---------+----------+--------------+\n",
      "|InvoiceNo|StockCode|         Description|Quantity|InvoiceDate|UnitPrice|CustomerID|       Country|\n",
      "+---------+---------+--------------------+--------+-----------+---------+----------+--------------+\n",
      "|   536365|   85123A|WHITE HANGING HEA...|       6| 2010-12-01|     2.55|     17850|United Kingdom|\n",
      "|   536365|    71053| WHITE METAL LANTERN|       6| 2010-12-01|     3.39|     17850|United Kingdom|\n",
      "|   536365|   84406B|CREAM CUPID HEART...|       8| 2010-12-01|     2.75|     17850|United Kingdom|\n",
      "|   536365|   84029G|KNITTED UNION FLA...|       6| 2010-12-01|     3.39|     17850|United Kingdom|\n",
      "|   536365|   84029E|RED WOOLLY HOTTIE...|       6| 2010-12-01|     3.39|     17850|United Kingdom|\n",
      "|   536365|    22752|SET 7 BABUSHKA NE...|       2| 2010-12-01|     7.65|     17850|United Kingdom|\n",
      "|   536365|    21730|GLASS STAR FROSTE...|       6| 2010-12-01|     4.25|     17850|United Kingdom|\n",
      "|   536366|    22633|HAND WARMER UNION...|       6| 2010-12-01|     1.85|     17850|United Kingdom|\n",
      "|   536366|    22632|HAND WARMER RED P...|       6| 2010-12-01|     1.85|     17850|United Kingdom|\n",
      "|   536367|    84879|ASSORTED COLOUR B...|      32| 2010-12-01|     1.69|     13047|United Kingdom|\n",
      "|   536367|    22745|POPPY'S PLAYHOUSE...|       6| 2010-12-01|      2.1|     13047|United Kingdom|\n",
      "|   536367|    22748|POPPY'S PLAYHOUSE...|       6| 2010-12-01|      2.1|     13047|United Kingdom|\n",
      "|   536367|    22749|FELTCRAFT PRINCES...|       8| 2010-12-01|     3.75|     13047|United Kingdom|\n",
      "|   536367|    22310|IVORY KNITTED MUG...|       6| 2010-12-01|     1.65|     13047|United Kingdom|\n",
      "|   536367|    84969|BOX OF 6 ASSORTED...|       6| 2010-12-01|     4.25|     13047|United Kingdom|\n",
      "|   536367|    22623|BOX OF VINTAGE JI...|       3| 2010-12-01|     4.95|     13047|United Kingdom|\n",
      "|   536367|    22622|BOX OF VINTAGE AL...|       2| 2010-12-01|     9.95|     13047|United Kingdom|\n",
      "|   536367|    21754|HOME BUILDING BLO...|       3| 2010-12-01|     5.95|     13047|United Kingdom|\n",
      "|   536367|    21755|LOVE BUILDING BLO...|       3| 2010-12-01|     5.95|     13047|United Kingdom|\n",
      "|   536367|    21777|RECIPE BOX WITH M...|       4| 2010-12-01|     7.95|     13047|United Kingdom|\n",
      "+---------+---------+--------------------+--------+-----------+---------+----------+--------------+\n",
      "only showing top 20 rows\n",
      "\n"
     ]
    }
   ],
   "source": [
    "# データ表示\n",
    "df.show()"
   ]
  },
  {
   "cell_type": "code",
   "execution_count": 7,
   "id": "74cb99b2-9f4c-41a4-b613-b6cc955076b6",
   "metadata": {},
   "outputs": [
    {
     "name": "stdout",
     "output_type": "stream",
     "text": [
      "+---------+---------+-----------------------------------+--------+-----------+---------+----------+--------------+\n",
      "|InvoiceNo|StockCode|Description                        |Quantity|InvoiceDate|UnitPrice|CustomerID|Country       |\n",
      "+---------+---------+-----------------------------------+--------+-----------+---------+----------+--------------+\n",
      "|536365   |85123A   |WHITE HANGING HEART T-LIGHT HOLDER |6       |2010-12-01 |2.55     |17850     |United Kingdom|\n",
      "|536365   |71053    |WHITE METAL LANTERN                |6       |2010-12-01 |3.39     |17850     |United Kingdom|\n",
      "|536365   |84406B   |CREAM CUPID HEARTS COAT HANGER     |8       |2010-12-01 |2.75     |17850     |United Kingdom|\n",
      "|536365   |84029G   |KNITTED UNION FLAG HOT WATER BOTTLE|6       |2010-12-01 |3.39     |17850     |United Kingdom|\n",
      "|536365   |84029E   |RED WOOLLY HOTTIE WHITE HEART.     |6       |2010-12-01 |3.39     |17850     |United Kingdom|\n",
      "|536365   |22752    |SET 7 BABUSHKA NESTING BOXES       |2       |2010-12-01 |7.65     |17850     |United Kingdom|\n",
      "|536365   |21730    |GLASS STAR FROSTED T-LIGHT HOLDER  |6       |2010-12-01 |4.25     |17850     |United Kingdom|\n",
      "|536366   |22633    |HAND WARMER UNION JACK             |6       |2010-12-01 |1.85     |17850     |United Kingdom|\n",
      "|536366   |22632    |HAND WARMER RED POLKA DOT          |6       |2010-12-01 |1.85     |17850     |United Kingdom|\n",
      "|536367   |84879    |ASSORTED COLOUR BIRD ORNAMENT      |32      |2010-12-01 |1.69     |13047     |United Kingdom|\n",
      "|536367   |22745    |POPPY'S PLAYHOUSE BEDROOM          |6       |2010-12-01 |2.1      |13047     |United Kingdom|\n",
      "|536367   |22748    |POPPY'S PLAYHOUSE KITCHEN          |6       |2010-12-01 |2.1      |13047     |United Kingdom|\n",
      "|536367   |22749    |FELTCRAFT PRINCESS CHARLOTTE DOLL  |8       |2010-12-01 |3.75     |13047     |United Kingdom|\n",
      "|536367   |22310    |IVORY KNITTED MUG COSY             |6       |2010-12-01 |1.65     |13047     |United Kingdom|\n",
      "|536367   |84969    |BOX OF 6 ASSORTED COLOUR TEASPOONS |6       |2010-12-01 |4.25     |13047     |United Kingdom|\n",
      "|536367   |22623    |BOX OF VINTAGE JIGSAW BLOCKS       |3       |2010-12-01 |4.95     |13047     |United Kingdom|\n",
      "|536367   |22622    |BOX OF VINTAGE ALPHABET BLOCKS     |2       |2010-12-01 |9.95     |13047     |United Kingdom|\n",
      "|536367   |21754    |HOME BUILDING BLOCK WORD           |3       |2010-12-01 |5.95     |13047     |United Kingdom|\n",
      "|536367   |21755    |LOVE BUILDING BLOCK WORD           |3       |2010-12-01 |5.95     |13047     |United Kingdom|\n",
      "|536367   |21777    |RECIPE BOX WITH METAL HEART        |4       |2010-12-01 |7.95     |13047     |United Kingdom|\n",
      "+---------+---------+-----------------------------------+--------+-----------+---------+----------+--------------+\n",
      "only showing top 20 rows\n",
      "\n"
     ]
    }
   ],
   "source": [
    "# 省略しないでデータ表示\n",
    "df.show(truncate = False)"
   ]
  },
  {
   "cell_type": "code",
   "execution_count": 8,
   "id": "4d8935e2-f449-40e7-bf2e-16e95efcc772",
   "metadata": {},
   "outputs": [
    {
     "name": "stdout",
     "output_type": "stream",
     "text": [
      "root\n",
      " |-- InvoiceNo: string (nullable = true)\n",
      " |-- StockCode: string (nullable = true)\n",
      " |-- Description: string (nullable = true)\n",
      " |-- Quantity: integer (nullable = true)\n",
      " |-- InvoiceDate: date (nullable = true)\n",
      " |-- UnitPrice: float (nullable = true)\n",
      " |-- CustomerID: string (nullable = true)\n",
      " |-- Country: string (nullable = true)\n",
      "\n"
     ]
    }
   ],
   "source": [
    "# 型確認\n",
    "df.printSchema()"
   ]
  },
  {
   "cell_type": "code",
   "execution_count": 9,
   "id": "4180160d-2fea-4302-982e-1e5dd4a5e893",
   "metadata": {},
   "outputs": [
    {
     "data": {
      "text/plain": [
       "[('InvoiceNo', 'string'),\n",
       " ('StockCode', 'string'),\n",
       " ('Description', 'string'),\n",
       " ('Quantity', 'int'),\n",
       " ('InvoiceDate', 'date'),\n",
       " ('UnitPrice', 'float'),\n",
       " ('CustomerID', 'string'),\n",
       " ('Country', 'string')]"
      ]
     },
     "execution_count": 9,
     "metadata": {},
     "output_type": "execute_result"
    }
   ],
   "source": [
    "# 型確認\n",
    "df.dtypes"
   ]
  },
  {
   "cell_type": "code",
   "execution_count": 10,
   "id": "74b064cf-bd8b-478c-af78-cf59d2f9b4db",
   "metadata": {},
   "outputs": [
    {
     "data": {
      "text/plain": [
       "['InvoiceNo',\n",
       " 'StockCode',\n",
       " 'Description',\n",
       " 'Quantity',\n",
       " 'InvoiceDate',\n",
       " 'UnitPrice',\n",
       " 'CustomerID',\n",
       " 'Country']"
      ]
     },
     "execution_count": 10,
     "metadata": {},
     "output_type": "execute_result"
    }
   ],
   "source": [
    "# 列名確認\n",
    "df.columns"
   ]
  },
  {
   "cell_type": "code",
   "execution_count": 11,
   "id": "83601ee3-1ec6-441a-9f25-e528585a50b4",
   "metadata": {},
   "outputs": [
    {
     "data": {
      "text/plain": [
       "541909"
      ]
     },
     "execution_count": 11,
     "metadata": {},
     "output_type": "execute_result"
    }
   ],
   "source": [
    "# 行数確認\n",
    "df.count()"
   ]
  },
  {
   "cell_type": "markdown",
   "id": "1163b2ad-d4c1-4e24-b9e1-a9b53c7e5c58",
   "metadata": {},
   "source": [
    "#### データの抽出"
   ]
  },
  {
   "cell_type": "code",
   "execution_count": 12,
   "id": "9f766403-072f-4c29-8c2f-eb8225794661",
   "metadata": {},
   "outputs": [
    {
     "name": "stdout",
     "output_type": "stream",
     "text": [
      "+---------+--------------------+\n",
      "|InvoiceNo|         Description|\n",
      "+---------+--------------------+\n",
      "|   536365|WHITE HANGING HEA...|\n",
      "|   536365| WHITE METAL LANTERN|\n",
      "|   536365|CREAM CUPID HEART...|\n",
      "|   536365|KNITTED UNION FLA...|\n",
      "|   536365|RED WOOLLY HOTTIE...|\n",
      "|   536365|SET 7 BABUSHKA NE...|\n",
      "|   536365|GLASS STAR FROSTE...|\n",
      "|   536366|HAND WARMER UNION...|\n",
      "|   536366|HAND WARMER RED P...|\n",
      "|   536367|ASSORTED COLOUR B...|\n",
      "|   536367|POPPY'S PLAYHOUSE...|\n",
      "|   536367|POPPY'S PLAYHOUSE...|\n",
      "|   536367|FELTCRAFT PRINCES...|\n",
      "|   536367|IVORY KNITTED MUG...|\n",
      "|   536367|BOX OF 6 ASSORTED...|\n",
      "|   536367|BOX OF VINTAGE JI...|\n",
      "|   536367|BOX OF VINTAGE AL...|\n",
      "|   536367|HOME BUILDING BLO...|\n",
      "|   536367|LOVE BUILDING BLO...|\n",
      "|   536367|RECIPE BOX WITH M...|\n",
      "+---------+--------------------+\n",
      "only showing top 20 rows\n",
      "\n"
     ]
    }
   ],
   "source": [
    "# 列抽出\n",
    "df.select(['InvoiceNo', 'Description']).show()"
   ]
  },
  {
   "cell_type": "code",
   "execution_count": 13,
   "id": "223b58c8-9b4b-4d64-8200-8785f0294e68",
   "metadata": {},
   "outputs": [
    {
     "name": "stdout",
     "output_type": "stream",
     "text": [
      "+---------+---------+--------------------+--------+-----------+---------+----------+--------------+\n",
      "|InvoiceNo|StockCode|         Description|Quantity|InvoiceDate|UnitPrice|CustomerID|       Country|\n",
      "+---------+---------+--------------------+--------+-----------+---------+----------+--------------+\n",
      "|   536392|    22827|RUSTIC  SEVENTEEN...|       1| 2010-12-01|    165.0|     13705|United Kingdom|\n",
      "|   536396|    22803|IVORY EMBROIDERED...|       2| 2010-12-01|    35.75|     17850|United Kingdom|\n",
      "|   536406|    22803|IVORY EMBROIDERED...|       2| 2010-12-01|    35.75|     17850|United Kingdom|\n",
      "|   536540|       C2|            CARRIAGE|       1| 2010-12-01|     50.0|     14911|          EIRE|\n",
      "|   536544|    22769|CHALKBOARD KITCHE...|       1| 2010-12-01|    51.02|      null|United Kingdom|\n",
      "|   536544|    22847|BREAD BIN DINER S...|       1| 2010-12-01|     34.0|      null|United Kingdom|\n",
      "|   536544|      DOT|      DOTCOM POSTAGE|       1| 2010-12-01|   569.77|      null|United Kingdom|\n",
      "|   536592|    22503|CABIN BAG VINTAGE...|       1| 2010-12-01|    59.53|      null|United Kingdom|\n",
      "|   536592|    22946|WOODEN ADVENT CAL...|       1| 2010-12-01|     34.0|      null|United Kingdom|\n",
      "|   536592|    22947|WOODEN ADVENT CAL...|       1| 2010-12-01|     34.0|      null|United Kingdom|\n",
      "|   536592|      DOT|      DOTCOM POSTAGE|       1| 2010-12-01|   607.49|      null|United Kingdom|\n",
      "|   536600|    22803|IVORY EMBROIDERED...|       2| 2010-12-02|    35.75|     17850|United Kingdom|\n",
      "|   536676|    21769|VINTAGE POST OFFI...|       1| 2010-12-02|    79.95|     16752|United Kingdom|\n",
      "|   536685|    22803|IVORY EMBROIDERED...|       2| 2010-12-02|    35.75|     17850|United Kingdom|\n",
      "|   536690|    22803|IVORY EMBROIDERED...|       2| 2010-12-02|    35.75|     17850|United Kingdom|\n",
      "|   536750|    22803|IVORY EMBROIDERED...|       2| 2010-12-02|    35.75|     17850|United Kingdom|\n",
      "|   536752|    22803|IVORY EMBROIDERED...|       2| 2010-12-02|    35.75|     17850|United Kingdom|\n",
      "|   536790|    22803|IVORY EMBROIDERED...|       3| 2010-12-02|    35.75|     17850|United Kingdom|\n",
      "|   536835|    22655|VINTAGE RED KITCH...|       1| 2010-12-02|    295.0|     13145|United Kingdom|\n",
      "|   536858|     POST|             POSTAGE|       2| 2010-12-03|     40.0|     13520|   Switzerland|\n",
      "+---------+---------+--------------------+--------+-----------+---------+----------+--------------+\n",
      "only showing top 20 rows\n",
      "\n"
     ]
    }
   ],
   "source": [
    "# 行抽出\n",
    "df.filter(df['UnitPrice'] > 30).show()"
   ]
  },
  {
   "cell_type": "code",
   "execution_count": 14,
   "id": "8593dc3d-da33-4511-bbf0-a2332b5de3be",
   "metadata": {},
   "outputs": [
    {
     "name": "stdout",
     "output_type": "stream",
     "text": [
      "+---------+---------+--------------------+--------+-----------+---------+----------+--------------+\n",
      "|InvoiceNo|StockCode|         Description|Quantity|InvoiceDate|UnitPrice|CustomerID|       Country|\n",
      "+---------+---------+--------------------+--------+-----------+---------+----------+--------------+\n",
      "|   536392|    22827|RUSTIC  SEVENTEEN...|       1| 2010-12-01|    165.0|     13705|United Kingdom|\n",
      "|   536396|    22803|IVORY EMBROIDERED...|       2| 2010-12-01|    35.75|     17850|United Kingdom|\n",
      "|   536406|    22803|IVORY EMBROIDERED...|       2| 2010-12-01|    35.75|     17850|United Kingdom|\n",
      "|   536540|       C2|            CARRIAGE|       1| 2010-12-01|     50.0|     14911|          EIRE|\n",
      "|   536544|    22769|CHALKBOARD KITCHE...|       1| 2010-12-01|    51.02|      null|United Kingdom|\n",
      "|   536544|    22847|BREAD BIN DINER S...|       1| 2010-12-01|     34.0|      null|United Kingdom|\n",
      "|   536544|      DOT|      DOTCOM POSTAGE|       1| 2010-12-01|   569.77|      null|United Kingdom|\n",
      "|   536592|    22503|CABIN BAG VINTAGE...|       1| 2010-12-01|    59.53|      null|United Kingdom|\n",
      "|   536592|    22946|WOODEN ADVENT CAL...|       1| 2010-12-01|     34.0|      null|United Kingdom|\n",
      "|   536592|    22947|WOODEN ADVENT CAL...|       1| 2010-12-01|     34.0|      null|United Kingdom|\n",
      "|   536592|      DOT|      DOTCOM POSTAGE|       1| 2010-12-01|   607.49|      null|United Kingdom|\n",
      "|   536600|    22803|IVORY EMBROIDERED...|       2| 2010-12-02|    35.75|     17850|United Kingdom|\n",
      "|   536676|    21769|VINTAGE POST OFFI...|       1| 2010-12-02|    79.95|     16752|United Kingdom|\n",
      "|   536685|    22803|IVORY EMBROIDERED...|       2| 2010-12-02|    35.75|     17850|United Kingdom|\n",
      "|   536690|    22803|IVORY EMBROIDERED...|       2| 2010-12-02|    35.75|     17850|United Kingdom|\n",
      "|   536750|    22803|IVORY EMBROIDERED...|       2| 2010-12-02|    35.75|     17850|United Kingdom|\n",
      "|   536752|    22803|IVORY EMBROIDERED...|       2| 2010-12-02|    35.75|     17850|United Kingdom|\n",
      "|   536790|    22803|IVORY EMBROIDERED...|       3| 2010-12-02|    35.75|     17850|United Kingdom|\n",
      "|   536835|    22655|VINTAGE RED KITCH...|       1| 2010-12-02|    295.0|     13145|United Kingdom|\n",
      "|   536858|     POST|             POSTAGE|       2| 2010-12-03|     40.0|     13520|   Switzerland|\n",
      "+---------+---------+--------------------+--------+-----------+---------+----------+--------------+\n",
      "only showing top 20 rows\n",
      "\n"
     ]
    }
   ],
   "source": [
    "# 行抽出 col()でも比較対象カラムを指定できる\n",
    "from pyspark.sql.functions import col\n",
    "df.filter(col('UnitPrice') > 30).show()"
   ]
  },
  {
   "cell_type": "code",
   "execution_count": 15,
   "id": "5b7561db-ee47-4a94-863e-8af166556ea6",
   "metadata": {},
   "outputs": [
    {
     "name": "stdout",
     "output_type": "stream",
     "text": [
      "+---------+---------+--------------------+--------+-----------+---------+----------+--------------+\n",
      "|InvoiceNo|StockCode|         Description|Quantity|InvoiceDate|UnitPrice|CustomerID|       Country|\n",
      "+---------+---------+--------------------+--------+-----------+---------+----------+--------------+\n",
      "|   536365|   84029G|KNITTED UNION FLA...|       6| 2010-12-01|     3.39|     17850|United Kingdom|\n",
      "|   536373|   84029G|KNITTED UNION FLA...|       6| 2010-12-01|     3.39|     17850|United Kingdom|\n",
      "|   536375|   84029G|KNITTED UNION FLA...|       6| 2010-12-01|     3.39|     17850|United Kingdom|\n",
      "|   536376|    22114|HOT WATER BOTTLE ...|      48| 2010-12-01|     3.45|     15291|United Kingdom|\n",
      "|   536390|    21485|RETROSPOT HEART H...|      24| 2010-12-01|     4.25|     17511|United Kingdom|\n",
      "|   536390|   84029G|KNITTED UNION FLA...|      24| 2010-12-01|     3.39|     17511|United Kingdom|\n",
      "|   536390|   84030E|ENGLISH ROSE HOT ...|      24| 2010-12-01|     3.75|     17511|United Kingdom|\n",
      "|  C536391|    21484|CHICK GREY HOT WA...|     -12| 2010-12-01|     3.45|     17548|United Kingdom|\n",
      "|   536394|    21485|RETROSPOT HEART H...|      12| 2010-12-01|     4.95|     13408|United Kingdom|\n",
      "|   536395|    21484|CHICK GREY HOT WA...|       8| 2010-12-01|     3.45|     13767|United Kingdom|\n",
      "|   536395|    22114|HOT WATER BOTTLE ...|       8| 2010-12-01|     3.95|     13767|United Kingdom|\n",
      "|   536396|   84029G|KNITTED UNION FLA...|       6| 2010-12-01|     3.39|     17850|United Kingdom|\n",
      "|   536398|    22114|HOT WATER BOTTLE ...|       4| 2010-12-01|     3.95|     13448|United Kingdom|\n",
      "|   536398|    22835|HOT WATER BOTTLE ...|       8| 2010-12-01|     4.65|     13448|United Kingdom|\n",
      "|   536398|    22112|CHOCOLATE HOT WAT...|       9| 2010-12-01|     4.95|     13448|United Kingdom|\n",
      "|   536398|    21479|WHITE SKULL HOT W...|       4| 2010-12-01|     3.75|     13448|United Kingdom|\n",
      "|   536398|    22111|SCOTTIE DOG HOT W...|       9| 2010-12-01|     4.95|     13448|United Kingdom|\n",
      "|   536401|    22110|BIRD HOUSE HOT WA...|       1| 2010-12-01|     2.55|     15862|United Kingdom|\n",
      "|   536401|   84030E|ENGLISH ROSE HOT ...|       1| 2010-12-01|     4.25|     15862|United Kingdom|\n",
      "|   536402|    22837|HOT WATER BOTTLE ...|      36| 2010-12-01|     4.25|     15513|United Kingdom|\n",
      "+---------+---------+--------------------+--------+-----------+---------+----------+--------------+\n",
      "only showing top 20 rows\n",
      "\n"
     ]
    }
   ],
   "source": [
    "# 行抽出 filterのエイリアスとしてwhereがある\n",
    "df.where(df['Description'].contains('WATER')).show()"
   ]
  },
  {
   "cell_type": "code",
   "execution_count": 16,
   "id": "a9e922d9-b69e-40be-b386-4c1fd245713f",
   "metadata": {},
   "outputs": [
    {
     "name": "stdout",
     "output_type": "stream",
     "text": [
      "+---------+---------+--------------------+--------+-----------+---------+----------+-------+\n",
      "|InvoiceNo|StockCode|         Description|Quantity|InvoiceDate|UnitPrice|CustomerID|Country|\n",
      "+---------+---------+--------------------+--------+-----------+---------+----------+-------+\n",
      "|   536540|    22968|ROSE COTTAGE KEEP...|       4| 2010-12-01|     9.95|     14911|   EIRE|\n",
      "|   536540|   85071A|BLUE CHARLIE+LOLA...|       6| 2010-12-01|     2.95|     14911|   EIRE|\n",
      "|   536540|   85071C|\"CHARLIE+LOLA\"\"EX...|       6| 2010-12-01|     2.55|     14911|   EIRE|\n",
      "|   536540|    22355|CHARLOTTE BAG SUK...|      50| 2010-12-01|     0.85|     14911|   EIRE|\n",
      "|   536540|    21579|LOLITA  DESIGN  C...|       6| 2010-12-01|     2.25|     14911|   EIRE|\n",
      "|   536540|    21576|LETS GO SHOPPING ...|       6| 2010-12-01|     2.25|     14911|   EIRE|\n",
      "|   536540|    22147|FELTCRAFT BUTTERF...|      12| 2010-12-01|     1.45|     14911|   EIRE|\n",
      "|   536540|    22150|3 STRIPEY MICE FE...|      12| 2010-12-01|     1.95|     14911|   EIRE|\n",
      "|   536540|    22492|MINI PAINT SET VI...|      36| 2010-12-01|     0.65|     14911|   EIRE|\n",
      "|   536540|    22493|PAINT YOUR OWN CA...|      24| 2010-12-01|     1.65|     14911|   EIRE|\n",
      "|   536540|    21833|CAMOUFLAGE LED TORCH|      12| 2010-12-01|     1.69|     14911|   EIRE|\n",
      "|   536540|   85135B|BLUE DRAGONFLY HE...|       2| 2010-12-01|     7.95|     14911|   EIRE|\n",
      "|   536540|   85136A|YELLOW SHARK HELI...|       2| 2010-12-01|     7.95|     14911|   EIRE|\n",
      "|   536540|   85136C|RED SHARK HELICOPTER|       2| 2010-12-01|     7.95|     14911|   EIRE|\n",
      "|   536540|    21055|  TOOL BOX SOFT TOY |       4| 2010-12-01|     8.95|     14911|   EIRE|\n",
      "|   536540|    21056|DOCTOR'S BAG SOFT...|       4| 2010-12-01|     8.95|     14911|   EIRE|\n",
      "|   536540|    21889|WOODEN BOX OF DOM...|      24| 2010-12-01|     1.25|     14911|   EIRE|\n",
      "|   536540|    21891|TRADITIONAL WOODE...|      12| 2010-12-01|     1.25|     14911|   EIRE|\n",
      "|   536540|    22622|BOX OF VINTAGE AL...|       6| 2010-12-01|     9.95|     14911|   EIRE|\n",
      "|   536540|       C2|            CARRIAGE|       1| 2010-12-01|     50.0|     14911|   EIRE|\n",
      "+---------+---------+--------------------+--------+-----------+---------+----------+-------+\n",
      "only showing top 20 rows\n",
      "\n"
     ]
    }
   ],
   "source": [
    "# 行抽出 Pandasのquery風にも記述できる\n",
    "df.filter('Country == \"EIRE\"').show()"
   ]
  },
  {
   "cell_type": "code",
   "execution_count": 17,
   "id": "ec5b7705-b1cf-4132-81fe-6928acc12b57",
   "metadata": {},
   "outputs": [
    {
     "name": "stdout",
     "output_type": "stream",
     "text": [
      "+---------+---------+--------------------+--------+-----------+---------+----------+--------------+\n",
      "|InvoiceNo|StockCode|         Description|Quantity|InvoiceDate|UnitPrice|CustomerID|       Country|\n",
      "+---------+---------+--------------------+--------+-----------+---------+----------+--------------+\n",
      "|   536392|    22827|RUSTIC  SEVENTEEN...|       1| 2010-12-01|    165.0|     13705|United Kingdom|\n",
      "|   536396|    22803|IVORY EMBROIDERED...|       2| 2010-12-01|    35.75|     17850|United Kingdom|\n",
      "|   536406|    22803|IVORY EMBROIDERED...|       2| 2010-12-01|    35.75|     17850|United Kingdom|\n",
      "|   536540|       C2|            CARRIAGE|       1| 2010-12-01|     50.0|     14911|          EIRE|\n",
      "|   536544|    22769|CHALKBOARD KITCHE...|       1| 2010-12-01|    51.02|      null|United Kingdom|\n",
      "|   536544|    22847|BREAD BIN DINER S...|       1| 2010-12-01|     34.0|      null|United Kingdom|\n",
      "|   536544|      DOT|      DOTCOM POSTAGE|       1| 2010-12-01|   569.77|      null|United Kingdom|\n",
      "|   536592|    22503|CABIN BAG VINTAGE...|       1| 2010-12-01|    59.53|      null|United Kingdom|\n",
      "|   536592|    22946|WOODEN ADVENT CAL...|       1| 2010-12-01|     34.0|      null|United Kingdom|\n",
      "|   536592|    22947|WOODEN ADVENT CAL...|       1| 2010-12-01|     34.0|      null|United Kingdom|\n",
      "|   536592|      DOT|      DOTCOM POSTAGE|       1| 2010-12-01|   607.49|      null|United Kingdom|\n",
      "|   536600|    22803|IVORY EMBROIDERED...|       2| 2010-12-02|    35.75|     17850|United Kingdom|\n",
      "|   536676|    21769|VINTAGE POST OFFI...|       1| 2010-12-02|    79.95|     16752|United Kingdom|\n",
      "|   536685|    22803|IVORY EMBROIDERED...|       2| 2010-12-02|    35.75|     17850|United Kingdom|\n",
      "|   536690|    22803|IVORY EMBROIDERED...|       2| 2010-12-02|    35.75|     17850|United Kingdom|\n",
      "|   536750|    22803|IVORY EMBROIDERED...|       2| 2010-12-02|    35.75|     17850|United Kingdom|\n",
      "|   536752|    22803|IVORY EMBROIDERED...|       2| 2010-12-02|    35.75|     17850|United Kingdom|\n",
      "|   536790|    22803|IVORY EMBROIDERED...|       3| 2010-12-02|    35.75|     17850|United Kingdom|\n",
      "|   536835|    22655|VINTAGE RED KITCH...|       1| 2010-12-02|    295.0|     13145|United Kingdom|\n",
      "|   536858|     POST|             POSTAGE|       2| 2010-12-03|     40.0|     13520|   Switzerland|\n",
      "+---------+---------+--------------------+--------+-----------+---------+----------+--------------+\n",
      "only showing top 20 rows\n",
      "\n"
     ]
    }
   ],
   "source": [
    "# 行抽出 filterが実は不要説\n",
    "df[df['UnitPrice'] > 30].show()"
   ]
  },
  {
   "cell_type": "markdown",
   "id": "aa41f57a-393e-4317-83f7-a8ea068e33a1",
   "metadata": {},
   "source": [
    "#### 列の追加・削除"
   ]
  },
  {
   "cell_type": "code",
   "execution_count": 18,
   "id": "8fa32d1c-a556-4f5a-be1d-ea758a85bd74",
   "metadata": {},
   "outputs": [
    {
     "name": "stdout",
     "output_type": "stream",
     "text": [
      "+---------+---------+--------------------+--------+-----------+---------+----------+--------------+---------+\n",
      "|InvoiceNo|StockCode|         Description|Quantity|InvoiceDate|UnitPrice|CustomerID|       Country|   amount|\n",
      "+---------+---------+--------------------+--------+-----------+---------+----------+--------------+---------+\n",
      "|   536365|   85123A|WHITE HANGING HEA...|       6| 2010-12-01|     2.55|     17850|United Kingdom|15.299999|\n",
      "|   536365|    71053| WHITE METAL LANTERN|       6| 2010-12-01|     3.39|     17850|United Kingdom|    20.34|\n",
      "|   536365|   84406B|CREAM CUPID HEART...|       8| 2010-12-01|     2.75|     17850|United Kingdom|     22.0|\n",
      "|   536365|   84029G|KNITTED UNION FLA...|       6| 2010-12-01|     3.39|     17850|United Kingdom|    20.34|\n",
      "|   536365|   84029E|RED WOOLLY HOTTIE...|       6| 2010-12-01|     3.39|     17850|United Kingdom|    20.34|\n",
      "|   536365|    22752|SET 7 BABUSHKA NE...|       2| 2010-12-01|     7.65|     17850|United Kingdom|     15.3|\n",
      "|   536365|    21730|GLASS STAR FROSTE...|       6| 2010-12-01|     4.25|     17850|United Kingdom|     25.5|\n",
      "|   536366|    22633|HAND WARMER UNION...|       6| 2010-12-01|     1.85|     17850|United Kingdom|     11.1|\n",
      "|   536366|    22632|HAND WARMER RED P...|       6| 2010-12-01|     1.85|     17850|United Kingdom|     11.1|\n",
      "|   536367|    84879|ASSORTED COLOUR B...|      32| 2010-12-01|     1.69|     13047|United Kingdom|    54.08|\n",
      "|   536367|    22745|POPPY'S PLAYHOUSE...|       6| 2010-12-01|      2.1|     13047|United Kingdom|12.599999|\n",
      "|   536367|    22748|POPPY'S PLAYHOUSE...|       6| 2010-12-01|      2.1|     13047|United Kingdom|12.599999|\n",
      "|   536367|    22749|FELTCRAFT PRINCES...|       8| 2010-12-01|     3.75|     13047|United Kingdom|     30.0|\n",
      "|   536367|    22310|IVORY KNITTED MUG...|       6| 2010-12-01|     1.65|     13047|United Kingdom|      9.9|\n",
      "|   536367|    84969|BOX OF 6 ASSORTED...|       6| 2010-12-01|     4.25|     13047|United Kingdom|     25.5|\n",
      "|   536367|    22623|BOX OF VINTAGE JI...|       3| 2010-12-01|     4.95|     13047|United Kingdom|14.849999|\n",
      "|   536367|    22622|BOX OF VINTAGE AL...|       2| 2010-12-01|     9.95|     13047|United Kingdom|     19.9|\n",
      "|   536367|    21754|HOME BUILDING BLO...|       3| 2010-12-01|     5.95|     13047|United Kingdom|17.849998|\n",
      "|   536367|    21755|LOVE BUILDING BLO...|       3| 2010-12-01|     5.95|     13047|United Kingdom|17.849998|\n",
      "|   536367|    21777|RECIPE BOX WITH M...|       4| 2010-12-01|     7.95|     13047|United Kingdom|     31.8|\n",
      "+---------+---------+--------------------+--------+-----------+---------+----------+--------------+---------+\n",
      "only showing top 20 rows\n",
      "\n"
     ]
    }
   ],
   "source": [
    "# 列の追加\n",
    "df = df.withColumn('amount', df['UnitPrice'] * df['Quantity'])\n",
    "df.show()"
   ]
  },
  {
   "cell_type": "code",
   "execution_count": 19,
   "id": "7d193a5c-1ea7-46f5-bf22-5002ac53c11e",
   "metadata": {},
   "outputs": [
    {
     "name": "stdout",
     "output_type": "stream",
     "text": [
      "+---------+---------+--------------------+--------+-----------+---------+----------+--------------+---------+--------+\n",
      "|InvoiceNo|StockCode|         Description|Quantity|InvoiceDate|UnitPrice|CustomerID|       Country|   amount|constant|\n",
      "+---------+---------+--------------------+--------+-----------+---------+----------+--------------+---------+--------+\n",
      "|   536365|   85123A|WHITE HANGING HEA...|       6| 2010-12-01|     2.55|     17850|United Kingdom|15.299999|       1|\n",
      "|   536365|    71053| WHITE METAL LANTERN|       6| 2010-12-01|     3.39|     17850|United Kingdom|    20.34|       1|\n",
      "|   536365|   84406B|CREAM CUPID HEART...|       8| 2010-12-01|     2.75|     17850|United Kingdom|     22.0|       1|\n",
      "|   536365|   84029G|KNITTED UNION FLA...|       6| 2010-12-01|     3.39|     17850|United Kingdom|    20.34|       1|\n",
      "|   536365|   84029E|RED WOOLLY HOTTIE...|       6| 2010-12-01|     3.39|     17850|United Kingdom|    20.34|       1|\n",
      "|   536365|    22752|SET 7 BABUSHKA NE...|       2| 2010-12-01|     7.65|     17850|United Kingdom|     15.3|       1|\n",
      "|   536365|    21730|GLASS STAR FROSTE...|       6| 2010-12-01|     4.25|     17850|United Kingdom|     25.5|       1|\n",
      "|   536366|    22633|HAND WARMER UNION...|       6| 2010-12-01|     1.85|     17850|United Kingdom|     11.1|       1|\n",
      "|   536366|    22632|HAND WARMER RED P...|       6| 2010-12-01|     1.85|     17850|United Kingdom|     11.1|       1|\n",
      "|   536367|    84879|ASSORTED COLOUR B...|      32| 2010-12-01|     1.69|     13047|United Kingdom|    54.08|       1|\n",
      "|   536367|    22745|POPPY'S PLAYHOUSE...|       6| 2010-12-01|      2.1|     13047|United Kingdom|12.599999|       1|\n",
      "|   536367|    22748|POPPY'S PLAYHOUSE...|       6| 2010-12-01|      2.1|     13047|United Kingdom|12.599999|       1|\n",
      "|   536367|    22749|FELTCRAFT PRINCES...|       8| 2010-12-01|     3.75|     13047|United Kingdom|     30.0|       1|\n",
      "|   536367|    22310|IVORY KNITTED MUG...|       6| 2010-12-01|     1.65|     13047|United Kingdom|      9.9|       1|\n",
      "|   536367|    84969|BOX OF 6 ASSORTED...|       6| 2010-12-01|     4.25|     13047|United Kingdom|     25.5|       1|\n",
      "|   536367|    22623|BOX OF VINTAGE JI...|       3| 2010-12-01|     4.95|     13047|United Kingdom|14.849999|       1|\n",
      "|   536367|    22622|BOX OF VINTAGE AL...|       2| 2010-12-01|     9.95|     13047|United Kingdom|     19.9|       1|\n",
      "|   536367|    21754|HOME BUILDING BLO...|       3| 2010-12-01|     5.95|     13047|United Kingdom|17.849998|       1|\n",
      "|   536367|    21755|LOVE BUILDING BLO...|       3| 2010-12-01|     5.95|     13047|United Kingdom|17.849998|       1|\n",
      "|   536367|    21777|RECIPE BOX WITH M...|       4| 2010-12-01|     7.95|     13047|United Kingdom|     31.8|       1|\n",
      "+---------+---------+--------------------+--------+-----------+---------+----------+--------------+---------+--------+\n",
      "only showing top 20 rows\n",
      "\n"
     ]
    }
   ],
   "source": [
    "# 列の追加（定数）\n",
    "from pyspark.sql.functions import lit\n",
    "\n",
    "df.withColumn('constant', lit(1)).show()"
   ]
  },
  {
   "cell_type": "code",
   "execution_count": 20,
   "id": "ed9ce3e2-873f-4596-b07f-5514bd56a17c",
   "metadata": {},
   "outputs": [
    {
     "name": "stdout",
     "output_type": "stream",
     "text": [
      "+---------+---------+--------------------+--------+-----------+---------+----------+--------------+\n",
      "|InvoiceNo|StockCode|         Description|Quantity|InvoiceDate|UnitPrice|CustomerID|       Country|\n",
      "+---------+---------+--------------------+--------+-----------+---------+----------+--------------+\n",
      "|   536365|   85123A|WHITE HANGING HEA...|       6| 2010-12-01|     2.55|     17850|United Kingdom|\n",
      "|   536365|    71053| WHITE METAL LANTERN|       6| 2010-12-01|     3.39|     17850|United Kingdom|\n",
      "|   536365|   84406B|CREAM CUPID HEART...|       8| 2010-12-01|     2.75|     17850|United Kingdom|\n",
      "|   536365|   84029G|KNITTED UNION FLA...|       6| 2010-12-01|     3.39|     17850|United Kingdom|\n",
      "|   536365|   84029E|RED WOOLLY HOTTIE...|       6| 2010-12-01|     3.39|     17850|United Kingdom|\n",
      "|   536365|    22752|SET 7 BABUSHKA NE...|       2| 2010-12-01|     7.65|     17850|United Kingdom|\n",
      "|   536365|    21730|GLASS STAR FROSTE...|       6| 2010-12-01|     4.25|     17850|United Kingdom|\n",
      "|   536366|    22633|HAND WARMER UNION...|       6| 2010-12-01|     1.85|     17850|United Kingdom|\n",
      "|   536366|    22632|HAND WARMER RED P...|       6| 2010-12-01|     1.85|     17850|United Kingdom|\n",
      "|   536367|    84879|ASSORTED COLOUR B...|      32| 2010-12-01|     1.69|     13047|United Kingdom|\n",
      "|   536367|    22745|POPPY'S PLAYHOUSE...|       6| 2010-12-01|      2.1|     13047|United Kingdom|\n",
      "|   536367|    22748|POPPY'S PLAYHOUSE...|       6| 2010-12-01|      2.1|     13047|United Kingdom|\n",
      "|   536367|    22749|FELTCRAFT PRINCES...|       8| 2010-12-01|     3.75|     13047|United Kingdom|\n",
      "|   536367|    22310|IVORY KNITTED MUG...|       6| 2010-12-01|     1.65|     13047|United Kingdom|\n",
      "|   536367|    84969|BOX OF 6 ASSORTED...|       6| 2010-12-01|     4.25|     13047|United Kingdom|\n",
      "|   536367|    22623|BOX OF VINTAGE JI...|       3| 2010-12-01|     4.95|     13047|United Kingdom|\n",
      "|   536367|    22622|BOX OF VINTAGE AL...|       2| 2010-12-01|     9.95|     13047|United Kingdom|\n",
      "|   536367|    21754|HOME BUILDING BLO...|       3| 2010-12-01|     5.95|     13047|United Kingdom|\n",
      "|   536367|    21755|LOVE BUILDING BLO...|       3| 2010-12-01|     5.95|     13047|United Kingdom|\n",
      "|   536367|    21777|RECIPE BOX WITH M...|       4| 2010-12-01|     7.95|     13047|United Kingdom|\n",
      "+---------+---------+--------------------+--------+-----------+---------+----------+--------------+\n",
      "only showing top 20 rows\n",
      "\n"
     ]
    }
   ],
   "source": [
    "# 列の削除\n",
    "df = df.drop('amount', 'constant')\n",
    "df.show()"
   ]
  },
  {
   "cell_type": "markdown",
   "id": "84f89659-7506-4e7c-8414-491ca82a1a9d",
   "metadata": {},
   "source": [
    "#### 列名変更"
   ]
  },
  {
   "cell_type": "code",
   "execution_count": 21,
   "id": "18f462ee-330f-4ef2-a82d-fd8870fcdbf9",
   "metadata": {},
   "outputs": [
    {
     "name": "stdout",
     "output_type": "stream",
     "text": [
      "+---------+---------+--------------------+--------+-----------+---------+----------+--------------+\n",
      "|InvoiceNo|StockCode|         Description|Quantity|InvoiceDate|UnitPrice|CustomerID|   CountryName|\n",
      "+---------+---------+--------------------+--------+-----------+---------+----------+--------------+\n",
      "|   536365|   85123A|WHITE HANGING HEA...|       6| 2010-12-01|     2.55|     17850|United Kingdom|\n",
      "|   536365|    71053| WHITE METAL LANTERN|       6| 2010-12-01|     3.39|     17850|United Kingdom|\n",
      "|   536365|   84406B|CREAM CUPID HEART...|       8| 2010-12-01|     2.75|     17850|United Kingdom|\n",
      "|   536365|   84029G|KNITTED UNION FLA...|       6| 2010-12-01|     3.39|     17850|United Kingdom|\n",
      "|   536365|   84029E|RED WOOLLY HOTTIE...|       6| 2010-12-01|     3.39|     17850|United Kingdom|\n",
      "|   536365|    22752|SET 7 BABUSHKA NE...|       2| 2010-12-01|     7.65|     17850|United Kingdom|\n",
      "|   536365|    21730|GLASS STAR FROSTE...|       6| 2010-12-01|     4.25|     17850|United Kingdom|\n",
      "|   536366|    22633|HAND WARMER UNION...|       6| 2010-12-01|     1.85|     17850|United Kingdom|\n",
      "|   536366|    22632|HAND WARMER RED P...|       6| 2010-12-01|     1.85|     17850|United Kingdom|\n",
      "|   536367|    84879|ASSORTED COLOUR B...|      32| 2010-12-01|     1.69|     13047|United Kingdom|\n",
      "|   536367|    22745|POPPY'S PLAYHOUSE...|       6| 2010-12-01|      2.1|     13047|United Kingdom|\n",
      "|   536367|    22748|POPPY'S PLAYHOUSE...|       6| 2010-12-01|      2.1|     13047|United Kingdom|\n",
      "|   536367|    22749|FELTCRAFT PRINCES...|       8| 2010-12-01|     3.75|     13047|United Kingdom|\n",
      "|   536367|    22310|IVORY KNITTED MUG...|       6| 2010-12-01|     1.65|     13047|United Kingdom|\n",
      "|   536367|    84969|BOX OF 6 ASSORTED...|       6| 2010-12-01|     4.25|     13047|United Kingdom|\n",
      "|   536367|    22623|BOX OF VINTAGE JI...|       3| 2010-12-01|     4.95|     13047|United Kingdom|\n",
      "|   536367|    22622|BOX OF VINTAGE AL...|       2| 2010-12-01|     9.95|     13047|United Kingdom|\n",
      "|   536367|    21754|HOME BUILDING BLO...|       3| 2010-12-01|     5.95|     13047|United Kingdom|\n",
      "|   536367|    21755|LOVE BUILDING BLO...|       3| 2010-12-01|     5.95|     13047|United Kingdom|\n",
      "|   536367|    21777|RECIPE BOX WITH M...|       4| 2010-12-01|     7.95|     13047|United Kingdom|\n",
      "+---------+---------+--------------------+--------+-----------+---------+----------+--------------+\n",
      "only showing top 20 rows\n",
      "\n"
     ]
    }
   ],
   "source": [
    "# 列名変更\n",
    "df = df.withColumnRenamed('Country', 'CountryName')\n",
    "df.show()"
   ]
  },
  {
   "cell_type": "markdown",
   "id": "877a1227-3cd7-482a-a1f5-e2438e82ba0b",
   "metadata": {},
   "source": [
    "#### ソート"
   ]
  },
  {
   "cell_type": "code",
   "execution_count": 22,
   "id": "09238153-afc4-46b4-84da-7606cb994948",
   "metadata": {},
   "outputs": [
    {
     "name": "stdout",
     "output_type": "stream",
     "text": [
      "+---------+---------+---------------+--------+-----------+---------+----------+--------------+\n",
      "|InvoiceNo|StockCode|    Description|Quantity|InvoiceDate|UnitPrice|CustomerID|   CountryName|\n",
      "+---------+---------+---------------+--------+-----------+---------+----------+--------------+\n",
      "|  A563186|        B|Adjust bad debt|       1| 2011-08-12|-11062.06|      null|United Kingdom|\n",
      "|  A563187|        B|Adjust bad debt|       1| 2011-08-12|-11062.06|      null|United Kingdom|\n",
      "|   578691|   85034A|          check|      24| 2011-11-25|      0.0|      null|United Kingdom|\n",
      "|   578629|    22943|           null|      24| 2011-11-24|      0.0|      null|United Kingdom|\n",
      "|   578431|    22579|           null|     -18| 2011-11-24|      0.0|      null|United Kingdom|\n",
      "|   578628|    23541|           null|      20| 2011-11-24|      0.0|      null|United Kingdom|\n",
      "|   578340|    22568|           null|       8| 2011-11-24|      0.0|      null|United Kingdom|\n",
      "|   578374|    21937|          found|      50| 2011-11-24|      0.0|      null|United Kingdom|\n",
      "|   578632|    22579|           null|       4| 2011-11-24|      0.0|      null|United Kingdom|\n",
      "|   578528|    22601|          check|     -20| 2011-11-24|      0.0|      null|United Kingdom|\n",
      "|   578529|    22087|           null|     -23| 2011-11-24|      0.0|      null|United Kingdom|\n",
      "|   578329|   72807C|     wet pallet|    -408| 2011-11-23|      0.0|      null|United Kingdom|\n",
      "|   578476|   72807B|    ????missing|    -124| 2011-11-24|      0.0|      null|United Kingdom|\n",
      "|   578327|   72807A|     wet pallet|    -504| 2011-11-23|      0.0|      null|United Kingdom|\n",
      "|   578145|    22579|         dotcom|     -40| 2011-11-23|      0.0|      null|United Kingdom|\n",
      "|   578527|    21819|          check|     -14| 2011-11-24|      0.0|      null|United Kingdom|\n",
      "|   578245|    22568|     ?? missing|    -170| 2011-11-23|      0.0|      null|United Kingdom|\n",
      "|   578930|    22848|         AMAZON|       1| 2011-11-27|      0.0|      null|United Kingdom|\n",
      "|   578525|    22152|          check|    -179| 2011-11-24|      0.0|      null|United Kingdom|\n",
      "|   578478|   72807C|     ???missing|    -428| 2011-11-24|      0.0|      null|United Kingdom|\n",
      "+---------+---------+---------------+--------+-----------+---------+----------+--------------+\n",
      "only showing top 20 rows\n",
      "\n"
     ]
    }
   ],
   "source": [
    "# ソート\n",
    "from pyspark.sql.functions import asc\n",
    "from pyspark.sql.functions import desc\n",
    "\n",
    "df.sort(asc('UnitPrice')).show()"
   ]
  },
  {
   "cell_type": "markdown",
   "id": "d9c71e8f-1e65-460a-be5e-579c7fbc3cc1",
   "metadata": {},
   "source": [
    "#### 型変更"
   ]
  },
  {
   "cell_type": "code",
   "execution_count": 23,
   "id": "e7dc46f2-886e-452e-8279-bc0e95998126",
   "metadata": {},
   "outputs": [
    {
     "name": "stdout",
     "output_type": "stream",
     "text": [
      "+---------+---------+--------------------+--------+-----------+---------+----------+--------------+\n",
      "|InvoiceNo|StockCode|         Description|Quantity|InvoiceDate|UnitPrice|CustomerID|   CountryName|\n",
      "+---------+---------+--------------------+--------+-----------+---------+----------+--------------+\n",
      "|   536365|   85123A|WHITE HANGING HEA...|     6.0| 2010-12-01|     2.55|     17850|United Kingdom|\n",
      "|   536365|    71053| WHITE METAL LANTERN|     6.0| 2010-12-01|     3.39|     17850|United Kingdom|\n",
      "|   536365|   84406B|CREAM CUPID HEART...|     8.0| 2010-12-01|     2.75|     17850|United Kingdom|\n",
      "|   536365|   84029G|KNITTED UNION FLA...|     6.0| 2010-12-01|     3.39|     17850|United Kingdom|\n",
      "|   536365|   84029E|RED WOOLLY HOTTIE...|     6.0| 2010-12-01|     3.39|     17850|United Kingdom|\n",
      "|   536365|    22752|SET 7 BABUSHKA NE...|     2.0| 2010-12-01|     7.65|     17850|United Kingdom|\n",
      "|   536365|    21730|GLASS STAR FROSTE...|     6.0| 2010-12-01|     4.25|     17850|United Kingdom|\n",
      "|   536366|    22633|HAND WARMER UNION...|     6.0| 2010-12-01|     1.85|     17850|United Kingdom|\n",
      "|   536366|    22632|HAND WARMER RED P...|     6.0| 2010-12-01|     1.85|     17850|United Kingdom|\n",
      "|   536367|    84879|ASSORTED COLOUR B...|    32.0| 2010-12-01|     1.69|     13047|United Kingdom|\n",
      "|   536367|    22745|POPPY'S PLAYHOUSE...|     6.0| 2010-12-01|      2.1|     13047|United Kingdom|\n",
      "|   536367|    22748|POPPY'S PLAYHOUSE...|     6.0| 2010-12-01|      2.1|     13047|United Kingdom|\n",
      "|   536367|    22749|FELTCRAFT PRINCES...|     8.0| 2010-12-01|     3.75|     13047|United Kingdom|\n",
      "|   536367|    22310|IVORY KNITTED MUG...|     6.0| 2010-12-01|     1.65|     13047|United Kingdom|\n",
      "|   536367|    84969|BOX OF 6 ASSORTED...|     6.0| 2010-12-01|     4.25|     13047|United Kingdom|\n",
      "|   536367|    22623|BOX OF VINTAGE JI...|     3.0| 2010-12-01|     4.95|     13047|United Kingdom|\n",
      "|   536367|    22622|BOX OF VINTAGE AL...|     2.0| 2010-12-01|     9.95|     13047|United Kingdom|\n",
      "|   536367|    21754|HOME BUILDING BLO...|     3.0| 2010-12-01|     5.95|     13047|United Kingdom|\n",
      "|   536367|    21755|LOVE BUILDING BLO...|     3.0| 2010-12-01|     5.95|     13047|United Kingdom|\n",
      "|   536367|    21777|RECIPE BOX WITH M...|     4.0| 2010-12-01|     7.95|     13047|United Kingdom|\n",
      "+---------+---------+--------------------+--------+-----------+---------+----------+--------------+\n",
      "only showing top 20 rows\n",
      "\n"
     ]
    }
   ],
   "source": [
    "# 型変更\n",
    "df.withColumn('Quantity', df['Quantity'].cast('float')).show()"
   ]
  },
  {
   "cell_type": "markdown",
   "id": "020b0185-a666-4c8a-94bd-62e7609a3100",
   "metadata": {},
   "source": [
    "#### 日付型の扱い"
   ]
  },
  {
   "cell_type": "code",
   "execution_count": 24,
   "id": "f91d4fad-4a7e-434c-a0bd-ade649ef4955",
   "metadata": {},
   "outputs": [
    {
     "name": "stdout",
     "output_type": "stream",
     "text": [
      "+---------+---------+--------------------+--------+-----------+---------+----------+--------------+-----------+------------+----------+\n",
      "|InvoiceNo|StockCode|         Description|Quantity|InvoiceDate|UnitPrice|CustomerID|   CountryName|InvoiceYear|InvoiceMonth|InvoiceDay|\n",
      "+---------+---------+--------------------+--------+-----------+---------+----------+--------------+-----------+------------+----------+\n",
      "|   536365|   85123A|WHITE HANGING HEA...|       6| 2010-12-01|     2.55|     17850|United Kingdom|       2010|          12|         1|\n",
      "|   536365|    71053| WHITE METAL LANTERN|       6| 2010-12-01|     3.39|     17850|United Kingdom|       2010|          12|         1|\n",
      "|   536365|   84406B|CREAM CUPID HEART...|       8| 2010-12-01|     2.75|     17850|United Kingdom|       2010|          12|         1|\n",
      "|   536365|   84029G|KNITTED UNION FLA...|       6| 2010-12-01|     3.39|     17850|United Kingdom|       2010|          12|         1|\n",
      "|   536365|   84029E|RED WOOLLY HOTTIE...|       6| 2010-12-01|     3.39|     17850|United Kingdom|       2010|          12|         1|\n",
      "|   536365|    22752|SET 7 BABUSHKA NE...|       2| 2010-12-01|     7.65|     17850|United Kingdom|       2010|          12|         1|\n",
      "|   536365|    21730|GLASS STAR FROSTE...|       6| 2010-12-01|     4.25|     17850|United Kingdom|       2010|          12|         1|\n",
      "|   536366|    22633|HAND WARMER UNION...|       6| 2010-12-01|     1.85|     17850|United Kingdom|       2010|          12|         1|\n",
      "|   536366|    22632|HAND WARMER RED P...|       6| 2010-12-01|     1.85|     17850|United Kingdom|       2010|          12|         1|\n",
      "|   536367|    84879|ASSORTED COLOUR B...|      32| 2010-12-01|     1.69|     13047|United Kingdom|       2010|          12|         1|\n",
      "|   536367|    22745|POPPY'S PLAYHOUSE...|       6| 2010-12-01|      2.1|     13047|United Kingdom|       2010|          12|         1|\n",
      "|   536367|    22748|POPPY'S PLAYHOUSE...|       6| 2010-12-01|      2.1|     13047|United Kingdom|       2010|          12|         1|\n",
      "|   536367|    22749|FELTCRAFT PRINCES...|       8| 2010-12-01|     3.75|     13047|United Kingdom|       2010|          12|         1|\n",
      "|   536367|    22310|IVORY KNITTED MUG...|       6| 2010-12-01|     1.65|     13047|United Kingdom|       2010|          12|         1|\n",
      "|   536367|    84969|BOX OF 6 ASSORTED...|       6| 2010-12-01|     4.25|     13047|United Kingdom|       2010|          12|         1|\n",
      "|   536367|    22623|BOX OF VINTAGE JI...|       3| 2010-12-01|     4.95|     13047|United Kingdom|       2010|          12|         1|\n",
      "|   536367|    22622|BOX OF VINTAGE AL...|       2| 2010-12-01|     9.95|     13047|United Kingdom|       2010|          12|         1|\n",
      "|   536367|    21754|HOME BUILDING BLO...|       3| 2010-12-01|     5.95|     13047|United Kingdom|       2010|          12|         1|\n",
      "|   536367|    21755|LOVE BUILDING BLO...|       3| 2010-12-01|     5.95|     13047|United Kingdom|       2010|          12|         1|\n",
      "|   536367|    21777|RECIPE BOX WITH M...|       4| 2010-12-01|     7.95|     13047|United Kingdom|       2010|          12|         1|\n",
      "+---------+---------+--------------------+--------+-----------+---------+----------+--------------+-----------+------------+----------+\n",
      "only showing top 20 rows\n",
      "\n"
     ]
    }
   ],
   "source": [
    "# 年、月、日の抽出\n",
    "from pyspark.sql.functions import year, month, dayofmonth\n",
    "\n",
    "df = df.withColumn('InvoiceYear', year('InvoiceDate'))\n",
    "df = df.withColumn('InvoiceMonth', month('InvoiceDate'))\n",
    "df = df.withColumn('InvoiceDay', dayofmonth('InvoiceDate'))\n",
    "df.show()"
   ]
  },
  {
   "cell_type": "markdown",
   "id": "226cdd42-030e-46c3-81fb-891f7a0ceafb",
   "metadata": {},
   "source": [
    "#### 欠損値の扱い"
   ]
  },
  {
   "cell_type": "code",
   "execution_count": 25,
   "id": "64466cdc-1488-4508-a71f-6238a76c6a9f",
   "metadata": {},
   "outputs": [
    {
     "data": {
      "text/plain": [
       "1454"
      ]
     },
     "execution_count": 25,
     "metadata": {},
     "output_type": "execute_result"
    }
   ],
   "source": [
    "# Nullのカウント\n",
    "df.filter(df['Description'].isNull()).count()"
   ]
  },
  {
   "cell_type": "code",
   "execution_count": 26,
   "id": "1c96f253-b0e7-4d8c-833d-01c0885970c5",
   "metadata": {},
   "outputs": [
    {
     "data": {
      "text/plain": [
       "0"
      ]
     },
     "execution_count": 26,
     "metadata": {},
     "output_type": "execute_result"
    }
   ],
   "source": [
    "# Nanのカウント\n",
    "from pyspark.sql.functions import isnan\n",
    "\n",
    "df.filter(isnan(df['Description'])).count()"
   ]
  },
  {
   "cell_type": "code",
   "execution_count": 27,
   "id": "12c22dbd-e6b3-43ba-a20e-dedd980347db",
   "metadata": {},
   "outputs": [],
   "source": [
    "# Nullの補完\n",
    "df = df.fillna('unknown', subset = ['Description'])"
   ]
  },
  {
   "cell_type": "code",
   "execution_count": 28,
   "id": "c7d1f7a6-83e4-493f-8e48-f8221a6c6b79",
   "metadata": {},
   "outputs": [],
   "source": [
    "# Nullの行を削除\n",
    "df = df.dropna(subset = ['customerID'])"
   ]
  },
  {
   "cell_type": "markdown",
   "id": "6bed5075-341b-4b16-bec7-c7d226c60e9e",
   "metadata": {},
   "source": [
    "#### 統計量の算出"
   ]
  },
  {
   "cell_type": "code",
   "execution_count": 29,
   "id": "1ed64978-0df1-4a25-8e1c-8442c3d62f24",
   "metadata": {},
   "outputs": [
    {
     "name": "stdout",
     "output_type": "stream",
     "text": [
      "+-------+------------------+------------------+\n",
      "|summary|          Quantity|         UnitPrice|\n",
      "+-------+------------------+------------------+\n",
      "|  count|            406829|            406829|\n",
      "|   mean| 12.06130339774205|3.4604709991255356|\n",
      "| stddev|248.69337001882576| 69.31516174563585|\n",
      "|    min|            -80995|               0.0|\n",
      "|    max|             80995|           38970.0|\n",
      "+-------+------------------+------------------+\n",
      "\n"
     ]
    }
   ],
   "source": [
    "# 統計量の算出\n",
    "df.describe(['Quantity', 'UnitPrice']).show()"
   ]
  },
  {
   "cell_type": "code",
   "execution_count": 30,
   "id": "ed958704-d364-4d58-9224-dd3d3b58ca65",
   "metadata": {},
   "outputs": [
    {
     "name": "stdout",
     "output_type": "stream",
     "text": [
      "+-------+------------------+------------------+\n",
      "|summary|          Quantity|         UnitPrice|\n",
      "+-------+------------------+------------------+\n",
      "|  count|            406829|            406829|\n",
      "|   mean| 12.06130339774205|3.4604709991255356|\n",
      "| stddev|248.69337001882576| 69.31516174563585|\n",
      "|    min|            -80995|               0.0|\n",
      "|    25%|                 2|              1.25|\n",
      "|    50%|                 5|              1.95|\n",
      "|    75%|                12|              3.75|\n",
      "|    max|             80995|           38970.0|\n",
      "+-------+------------------+------------------+\n",
      "\n"
     ]
    }
   ],
   "source": [
    "# describeに似ているsummaryという関数もある\n",
    "df.select(['Quantity', 'UnitPrice']).summary().show()"
   ]
  },
  {
   "cell_type": "markdown",
   "id": "ed3b8232-7ab6-4340-ac70-a91797f99374",
   "metadata": {},
   "source": [
    "#### 集約"
   ]
  },
  {
   "cell_type": "code",
   "execution_count": 31,
   "id": "ca85893b-7183-4890-9ed6-857c7a231317",
   "metadata": {},
   "outputs": [
    {
     "name": "stdout",
     "output_type": "stream",
     "text": [
      "+-----------------+\n",
      "|    avg(Quantity)|\n",
      "+-----------------+\n",
      "|12.06130339774205|\n",
      "+-----------------+\n",
      "\n"
     ]
    }
   ],
   "source": [
    "# 全レコードの集約 groupby\n",
    "df.select('Quantity').groupby().mean().show()"
   ]
  },
  {
   "cell_type": "code",
   "execution_count": 32,
   "id": "9c3b478d-84bb-40b3-85a5-96a72c2d8f09",
   "metadata": {},
   "outputs": [
    {
     "name": "stdout",
     "output_type": "stream",
     "text": [
      "+-----------------+\n",
      "|    avg(Quantity)|\n",
      "+-----------------+\n",
      "|12.06130339774205|\n",
      "+-----------------+\n",
      "\n"
     ]
    }
   ],
   "source": [
    "# 全レコードの集約 agg\n",
    "df.agg({'Quantity': 'mean'}).show()"
   ]
  },
  {
   "cell_type": "code",
   "execution_count": 33,
   "id": "e98570e6-ad98-49e8-887e-a455ad0f6267",
   "metadata": {},
   "outputs": [
    {
     "name": "stdout",
     "output_type": "stream",
     "text": [
      "+--------------------+------------------+-------------------+------------------+------------------+------------------+\n",
      "|         Description|     avg(Quantity)|     avg(UnitPrice)|  avg(InvoiceYear)| avg(InvoiceMonth)|   avg(InvoiceDay)|\n",
      "+--------------------+------------------+-------------------+------------------+------------------+------------------+\n",
      "|10 COLOUR SPACEBO...|            24.408| 0.8718400230407715|          2010.896|              7.62|            14.144|\n",
      "|SET/10 BLUE POLKA...|16.685106382978724| 1.2475744673546325|2010.9702127659575| 6.208510638297873|15.136170212765958|\n",
      "|POTTING SHED SOW ...|               1.0|               4.25|            2010.0|              12.0|               1.0|\n",
      "|SET/3 RED GINGHAM...| 7.925595238095238| 3.6936904915741513| 2010.922619047619|6.5773809523809526|            14.875|\n",
      "|MAGNETS PACK OF 4...|13.988505747126437| 0.5904597592079777|2010.9310344827586| 7.793103448275862|16.919540229885058|\n",
      "|WHITE CHRYSANTHEM...|               7.6| 2.0999999046325684|            2010.6|               7.0|               7.4|\n",
      "|SILVER FABRIC MIRROR|12.290322580645162| 0.5677419247165802|2010.9354838709678|10.064516129032258|17.322580645161292|\n",
      "|PINK  HONEYCOMB P...| 9.282608695652174| 0.9336956143379211|2010.9565217391305|  8.41304347826087|14.956521739130435|\n",
      "|PAPERWEIGHT KINGS...| 9.058823529411764| 1.6688235086553238|2010.8235294117646|7.9411764705882355|12.588235294117647|\n",
      "|PINK BOUDOIR T-LI...|              12.0| 0.8500000238418579|            2010.0|              12.0|              19.0|\n",
      "| BLACK CHERRY LIGHTS|               0.0|               6.75|            2011.0|1.6666666666666667| 9.333333333333334|\n",
      "|IVORY ENCHANTED F...|  7.39622641509434| 1.6424528090458996|2010.8490566037735| 8.150943396226415|13.415094339622641|\n",
      "|PACK OF 12 COLOUR...|19.107843137254903| 0.8557353177491356| 2010.921568627451| 7.357843137254902| 16.15686274509804|\n",
      "|ANTIQUE SILVER TE...|22.901315789473685| 1.2237499920945418|2010.5855263157894| 6.151315789473684|12.078947368421053|\n",
      "|   CLAM SHELL SMALL |            6.4375| 1.9771874155849218|        2010.90625|            7.0625|            14.125|\n",
      "|TWO DOOR CURIO CA...|1.8631578947368421|  12.50842103456196|2010.9052631578948| 5.621052631578947|13.978947368421053|\n",
      "|MULTICOLOUR HONEY...|18.112903225806452| 0.6635483734069332| 2010.983870967742| 7.354838709677419|14.193548387096774|\n",
      "|GREEN GOOSE FEATH...| 6.185185185185185| 3.4685185926931874| 2010.962962962963| 9.666666666666666|15.962962962962964|\n",
      "|BOTANICAL LILY GR...| 11.64516129032258|0.41999998688697815| 2010.967741935484| 6.935483870967742|15.290322580645162|\n",
      "|    CANDY SPOT BUNNY|2.3333333333333335|  2.950000047683716|            2011.0|               8.5|13.833333333333334|\n",
      "+--------------------+------------------+-------------------+------------------+------------------+------------------+\n",
      "only showing top 20 rows\n",
      "\n"
     ]
    }
   ],
   "source": [
    "# 集約キーを指定した集約\n",
    "df.groupby('Description').mean().show()"
   ]
  },
  {
   "cell_type": "code",
   "execution_count": 34,
   "id": "4fb87209-5392-4baf-915d-4f6a0893f3f3",
   "metadata": {},
   "outputs": [
    {
     "name": "stdout",
     "output_type": "stream",
     "text": [
      "+--------------------+------------------+\n",
      "|         Description|     avg(Quantity)|\n",
      "+--------------------+------------------+\n",
      "|10 COLOUR SPACEBO...|            24.408|\n",
      "|SET/10 BLUE POLKA...|16.685106382978724|\n",
      "|POTTING SHED SOW ...|               1.0|\n",
      "|SET/3 RED GINGHAM...| 7.925595238095238|\n",
      "|MAGNETS PACK OF 4...|13.988505747126437|\n",
      "|WHITE CHRYSANTHEM...|               7.6|\n",
      "|SILVER FABRIC MIRROR|12.290322580645162|\n",
      "|PINK  HONEYCOMB P...| 9.282608695652174|\n",
      "|PAPERWEIGHT KINGS...| 9.058823529411764|\n",
      "|PINK BOUDOIR T-LI...|              12.0|\n",
      "| BLACK CHERRY LIGHTS|               0.0|\n",
      "|IVORY ENCHANTED F...|  7.39622641509434|\n",
      "|PACK OF 12 COLOUR...|19.107843137254903|\n",
      "|ANTIQUE SILVER TE...|22.901315789473685|\n",
      "|   CLAM SHELL SMALL |            6.4375|\n",
      "|TWO DOOR CURIO CA...|1.8631578947368421|\n",
      "|MULTICOLOUR HONEY...|18.112903225806452|\n",
      "|GREEN GOOSE FEATH...| 6.185185185185185|\n",
      "|BOTANICAL LILY GR...| 11.64516129032258|\n",
      "|    CANDY SPOT BUNNY|2.3333333333333335|\n",
      "+--------------------+------------------+\n",
      "only showing top 20 rows\n",
      "\n"
     ]
    }
   ],
   "source": [
    "# 集約キーを指定した集約 groupby+agg\n",
    "df.groupby('Description').agg({'Quantity': 'mean'}).show()"
   ]
  },
  {
   "cell_type": "code",
   "execution_count": 35,
   "id": "124a41f8-816d-4e2f-9194-1bc435d4ada2",
   "metadata": {},
   "outputs": [
    {
     "name": "stdout",
     "output_type": "stream",
     "text": [
      "+--------------------+------------------+\n",
      "|         Description|     avg(Quantity)|\n",
      "+--------------------+------------------+\n",
      "|10 COLOUR SPACEBO...|            24.408|\n",
      "|ANTIQUE SILVER TE...|22.901315789473685|\n",
      "|BIRTHDAY BANNER TAPE|              24.0|\n",
      "|CAST IRON HOOK GA...|              25.0|\n",
      "|DRAGONS BLOOD INC...|26.846153846153847|\n",
      "|PACK OF 72 SKULL ...|      27.853515625|\n",
      "|PINK MARSHMALLOW ...|              36.0|\n",
      "| BROCADE RING PURSE |108.30188679245283|\n",
      "|OPIUM SCENTED VOT...|46.666666666666664|\n",
      "|HAIRCLIPS FORTIES...|           20.9375|\n",
      "|ASSORTED COLOUR B...|24.904090267983076|\n",
      "|       WRAP FOLK ART|              25.0|\n",
      "|LOVE POTION MASAL...|            28.125|\n",
      "|HOMEMADE JAM SCEN...| 22.67931688804554|\n",
      "|CHRISTMAS CARD ST...|22.666666666666668|\n",
      "|COLOUR GLASS T-LI...|28.420475319926872|\n",
      "|PAPER POCKET TRAV...| 52.98947368421052|\n",
      "|SWALLOWS GREETING...|21.881632653061224|\n",
      "|CHRISTMAS TREE PA...| 39.50877192982456|\n",
      "|ASSORTED CREEPY C...|27.138297872340427|\n",
      "+--------------------+------------------+\n",
      "only showing top 20 rows\n",
      "\n"
     ]
    }
   ],
   "source": [
    "# 集約結果で行抽出\n",
    "df.groupby('Description').agg({'Quantity': 'mean'}).filter(col('avg(Quantity)') >= 20).show()"
   ]
  },
  {
   "cell_type": "markdown",
   "id": "75a030cc-c189-41c0-975d-180ade5cb691",
   "metadata": {},
   "source": [
    "#### 条件分岐"
   ]
  },
  {
   "cell_type": "code",
   "execution_count": 36,
   "id": "d86bad61-a808-495f-b64a-a38ded7563fe",
   "metadata": {},
   "outputs": [
    {
     "name": "stdout",
     "output_type": "stream",
     "text": [
      "+---------+---------+--------------------+--------+-----------+---------+----------+--------------+-----------+------------+----------+------------+\n",
      "|InvoiceNo|StockCode|         Description|Quantity|InvoiceDate|UnitPrice|CustomerID|   CountryName|InvoiceYear|InvoiceMonth|InvoiceDay|cansel_value|\n",
      "+---------+---------+--------------------+--------+-----------+---------+----------+--------------+-----------+------------+----------+------------+\n",
      "|  C536379|        D|            Discount|      -1| 2010-12-01|     27.5|     14527|United Kingdom|       2010|          12|         1|        9999|\n",
      "|  C536383|   35004C|SET OF 3 COLOURED...|      -1| 2010-12-01|     4.65|     15311|United Kingdom|       2010|          12|         1|        9999|\n",
      "|  C536391|    22556|PLASTERS IN TIN C...|     -12| 2010-12-01|     1.65|     17548|United Kingdom|       2010|          12|         1|        9999|\n",
      "|  C536391|    21984|PACK OF 12 PINK P...|     -24| 2010-12-01|     0.29|     17548|United Kingdom|       2010|          12|         1|        9999|\n",
      "|  C536391|    21983|PACK OF 12 BLUE P...|     -24| 2010-12-01|     0.29|     17548|United Kingdom|       2010|          12|         1|        9999|\n",
      "|  C536391|    21980|PACK OF 12 RED RE...|     -24| 2010-12-01|     0.29|     17548|United Kingdom|       2010|          12|         1|        9999|\n",
      "|  C536391|    21484|CHICK GREY HOT WA...|     -12| 2010-12-01|     3.45|     17548|United Kingdom|       2010|          12|         1|        9999|\n",
      "|  C536391|    22557|PLASTERS IN TIN V...|     -12| 2010-12-01|     1.65|     17548|United Kingdom|       2010|          12|         1|        9999|\n",
      "|  C536391|    22553|PLASTERS IN TIN S...|     -24| 2010-12-01|     1.65|     17548|United Kingdom|       2010|          12|         1|        9999|\n",
      "|  C536506|    22960|JAM MAKING SET WI...|      -6| 2010-12-01|     4.25|     17897|United Kingdom|       2010|          12|         1|        9999|\n",
      "|  C536543|    22632|HAND WARMER RED R...|      -1| 2010-12-01|      2.1|     17841|United Kingdom|       2010|          12|         1|        9999|\n",
      "|  C536543|    22355|CHARLOTTE BAG SUK...|      -2| 2010-12-01|     0.85|     17841|United Kingdom|       2010|          12|         1|        9999|\n",
      "|  C536548|    22244|3 HOOK HANGER MAG...|      -4| 2010-12-01|     1.95|     12472|       Germany|       2010|          12|         1|        9999|\n",
      "|  C536548|    22242|5 HOOK HANGER MAG...|      -5| 2010-12-01|     1.65|     12472|       Germany|       2010|          12|         1|        9999|\n",
      "|  C536548|    20914|SET/5 RED RETROSP...|      -1| 2010-12-01|     2.95|     12472|       Germany|       2010|          12|         1|        9999|\n",
      "|  C536548|    22892|SET OF SALT AND P...|      -7| 2010-12-01|     1.25|     12472|       Germany|       2010|          12|         1|        9999|\n",
      "|  C536548|    22654|  DELUXE SEWING KIT |      -1| 2010-12-01|     5.95|     12472|       Germany|       2010|          12|         1|        9999|\n",
      "|  C536548|    22767|TRIPLE PHOTO FRAM...|      -2| 2010-12-01|     9.95|     12472|       Germany|       2010|          12|         1|        9999|\n",
      "|  C536548|    22333|RETROSPOT PARTY B...|      -1| 2010-12-01|     1.65|     12472|       Germany|       2010|          12|         1|        9999|\n",
      "|  C536548|    22245|HOOK, 1 HANGER ,M...|      -2| 2010-12-01|     0.85|     12472|       Germany|       2010|          12|         1|        9999|\n",
      "+---------+---------+--------------------+--------+-----------+---------+----------+--------------+-----------+------------+----------+------------+\n",
      "only showing top 20 rows\n",
      "\n"
     ]
    }
   ],
   "source": [
    "# 条件分岐 if else\n",
    "from pyspark.sql.functions import when\n",
    "\n",
    "df = df.withColumn('cansel_value', when(df['Quantity'] < 0, lit('9999')).otherwise(lit('1')))\n",
    "df.filter(df['cansel_value'] == '9999').show()"
   ]
  },
  {
   "cell_type": "code",
   "execution_count": 37,
   "id": "874a506f-7e40-4173-9e8e-0078af956275",
   "metadata": {},
   "outputs": [
    {
     "name": "stdout",
     "output_type": "stream",
     "text": [
      "+---------+---------+--------------------+--------+-----------+---------+----------+--------------+-----------+------------+----------+------------+-------------+\n",
      "|InvoiceNo|StockCode|         Description|Quantity|InvoiceDate|UnitPrice|CustomerID|   CountryName|InvoiceYear|InvoiceMonth|InvoiceDay|cansel_value|PriceCategory|\n",
      "+---------+---------+--------------------+--------+-----------+---------+----------+--------------+-----------+------------+----------+------------+-------------+\n",
      "|   536365|   85123A|WHITE HANGING HEA...|       6| 2010-12-01|     2.55|     17850|United Kingdom|       2010|          12|         1|           1|        cheep|\n",
      "|   536365|    71053| WHITE METAL LANTERN|       6| 2010-12-01|     3.39|     17850|United Kingdom|       2010|          12|         1|           1|        cheep|\n",
      "|   536365|   84406B|CREAM CUPID HEART...|       8| 2010-12-01|     2.75|     17850|United Kingdom|       2010|          12|         1|           1|        cheep|\n",
      "|   536365|   84029G|KNITTED UNION FLA...|       6| 2010-12-01|     3.39|     17850|United Kingdom|       2010|          12|         1|           1|        cheep|\n",
      "|   536365|   84029E|RED WOOLLY HOTTIE...|       6| 2010-12-01|     3.39|     17850|United Kingdom|       2010|          12|         1|           1|        cheep|\n",
      "|   536365|    22752|SET 7 BABUSHKA NE...|       2| 2010-12-01|     7.65|     17850|United Kingdom|       2010|          12|         1|           1|       medium|\n",
      "|   536365|    21730|GLASS STAR FROSTE...|       6| 2010-12-01|     4.25|     17850|United Kingdom|       2010|          12|         1|           1|        cheep|\n",
      "|   536366|    22633|HAND WARMER UNION...|       6| 2010-12-01|     1.85|     17850|United Kingdom|       2010|          12|         1|           1|        cheep|\n",
      "|   536366|    22632|HAND WARMER RED P...|       6| 2010-12-01|     1.85|     17850|United Kingdom|       2010|          12|         1|           1|        cheep|\n",
      "|   536367|    84879|ASSORTED COLOUR B...|      32| 2010-12-01|     1.69|     13047|United Kingdom|       2010|          12|         1|           1|        cheep|\n",
      "|   536367|    22745|POPPY'S PLAYHOUSE...|       6| 2010-12-01|      2.1|     13047|United Kingdom|       2010|          12|         1|           1|        cheep|\n",
      "|   536367|    22748|POPPY'S PLAYHOUSE...|       6| 2010-12-01|      2.1|     13047|United Kingdom|       2010|          12|         1|           1|        cheep|\n",
      "|   536367|    22749|FELTCRAFT PRINCES...|       8| 2010-12-01|     3.75|     13047|United Kingdom|       2010|          12|         1|           1|        cheep|\n",
      "|   536367|    22310|IVORY KNITTED MUG...|       6| 2010-12-01|     1.65|     13047|United Kingdom|       2010|          12|         1|           1|        cheep|\n",
      "|   536367|    84969|BOX OF 6 ASSORTED...|       6| 2010-12-01|     4.25|     13047|United Kingdom|       2010|          12|         1|           1|        cheep|\n",
      "|   536367|    22623|BOX OF VINTAGE JI...|       3| 2010-12-01|     4.95|     13047|United Kingdom|       2010|          12|         1|           1|        cheep|\n",
      "|   536367|    22622|BOX OF VINTAGE AL...|       2| 2010-12-01|     9.95|     13047|United Kingdom|       2010|          12|         1|           1|       medium|\n",
      "|   536367|    21754|HOME BUILDING BLO...|       3| 2010-12-01|     5.95|     13047|United Kingdom|       2010|          12|         1|           1|       medium|\n",
      "|   536367|    21755|LOVE BUILDING BLO...|       3| 2010-12-01|     5.95|     13047|United Kingdom|       2010|          12|         1|           1|       medium|\n",
      "|   536367|    21777|RECIPE BOX WITH M...|       4| 2010-12-01|     7.95|     13047|United Kingdom|       2010|          12|         1|           1|       medium|\n",
      "+---------+---------+--------------------+--------+-----------+---------+----------+--------------+-----------+------------+----------+------------+-------------+\n",
      "only showing top 20 rows\n",
      "\n"
     ]
    }
   ],
   "source": [
    "# 条件分岐 if elif else\n",
    "df = df.withColumn('PriceCategory',\n",
    "                   when(df['UnitPrice'] > 15, 'expensive')\n",
    "                   .when((df['UnitPrice'] <= 15) & (df['UnitPrice'] > 5), 'medium')\n",
    "                   .when((df['UnitPrice'] <=5) & (df['UnitPrice'] > 0), 'cheep')\n",
    "                   .otherwise('unknown'))\n",
    "df.show()"
   ]
  },
  {
   "cell_type": "markdown",
   "id": "219acb71-f0ec-47a4-a22f-02d4e5d482be",
   "metadata": {
    "tags": []
   },
   "source": [
    "#### ユニーク値"
   ]
  },
  {
   "cell_type": "code",
   "execution_count": 38,
   "id": "a0c2dcfe-fae0-4426-8619-90e622506af7",
   "metadata": {},
   "outputs": [
    {
     "name": "stdout",
     "output_type": "stream",
     "text": [
      "+---------------+\n",
      "|    CountryName|\n",
      "+---------------+\n",
      "|         Sweden|\n",
      "|        Germany|\n",
      "|         France|\n",
      "|        Belgium|\n",
      "|        Finland|\n",
      "|          Italy|\n",
      "|           EIRE|\n",
      "|      Lithuania|\n",
      "|         Norway|\n",
      "|          Spain|\n",
      "|        Denmark|\n",
      "|        Iceland|\n",
      "|         Israel|\n",
      "|Channel Islands|\n",
      "|         Cyprus|\n",
      "|    Switzerland|\n",
      "|          Japan|\n",
      "|         Poland|\n",
      "|       Portugal|\n",
      "|      Australia|\n",
      "+---------------+\n",
      "only showing top 20 rows\n",
      "\n"
     ]
    }
   ],
   "source": [
    "# ユニーク値\n",
    "df.select('CountryName').distinct().show()"
   ]
  },
  {
   "cell_type": "markdown",
   "id": "5fa67789-a974-432e-94d8-5bfa5183ae0f",
   "metadata": {
    "tags": []
   },
   "source": [
    "#### 重複行の削除"
   ]
  },
  {
   "cell_type": "code",
   "execution_count": 39,
   "id": "4448e6dd-d4ed-41f0-8d74-d6f39c09894d",
   "metadata": {},
   "outputs": [
    {
     "name": "stdout",
     "output_type": "stream",
     "text": [
      "+---------+---------+--------------------+--------+-----------+---------+----------+--------------+-----------+------------+----------+------------+-------------+\n",
      "|InvoiceNo|StockCode|         Description|Quantity|InvoiceDate|UnitPrice|CustomerID|   CountryName|InvoiceYear|InvoiceMonth|InvoiceDay|cansel_value|PriceCategory|\n",
      "+---------+---------+--------------------+--------+-----------+---------+----------+--------------+-----------+------------+----------+------------+-------------+\n",
      "|   536366|    22633|HAND WARMER UNION...|       6| 2010-12-01|     1.85|     17850|United Kingdom|       2010|          12|         1|           1|        cheep|\n",
      "|   536367|    84879|ASSORTED COLOUR B...|      32| 2010-12-01|     1.69|     13047|United Kingdom|       2010|          12|         1|           1|        cheep|\n",
      "|   536371|    22086|PAPER CHAIN KIT 5...|      80| 2010-12-01|     2.55|     13748|United Kingdom|       2010|          12|         1|           1|        cheep|\n",
      "|   536374|    21258|VICTORIAN SEWING ...|      32| 2010-12-01|    10.95|     15100|United Kingdom|       2010|          12|         1|           1|       medium|\n",
      "|   536375|   85123A|WHITE HANGING HEA...|       6| 2010-12-01|     2.55|     17850|United Kingdom|       2010|          12|         1|           1|        cheep|\n",
      "|   536377|    22632|HAND WARMER RED P...|       6| 2010-12-01|     1.85|     17850|United Kingdom|       2010|          12|         1|           1|        cheep|\n",
      "|   536384|    82484|WOOD BLACK BOARD ...|       3| 2010-12-01|     6.45|     18074|United Kingdom|       2010|          12|         1|           1|       medium|\n",
      "|   536385|    22783|SET 3 WICKER OVAL...|       1| 2010-12-01|    19.95|     17420|United Kingdom|       2010|          12|         1|           1|    expensive|\n",
      "|   536386|    84880|WHITE WIRE EGG HO...|      36| 2010-12-01|     4.95|     16029|United Kingdom|       2010|          12|         1|           1|        cheep|\n",
      "|   536387|    79321|       CHILLI LIGHTS|     192| 2010-12-01|     3.82|     16029|United Kingdom|       2010|          12|         1|           1|        cheep|\n",
      "|   536389|    22941|CHRISTMAS LIGHTS ...|       6| 2010-12-01|      8.5|     12431|     Australia|       2010|          12|         1|           1|       medium|\n",
      "|   536395|    22188|BLACK HEART CARD ...|       8| 2010-12-01|     3.95|     13767|United Kingdom|       2010|          12|         1|           1|        cheep|\n",
      "|   536396|   85123A|WHITE HANGING HEA...|       6| 2010-12-01|     2.55|     17850|United Kingdom|       2010|          12|         1|           1|        cheep|\n",
      "|   536398|    21980|PACK OF 12 RED RE...|      24| 2010-12-01|     0.29|     13448|United Kingdom|       2010|          12|         1|           1|        cheep|\n",
      "|   536403|    22867|HAND WARMER BIRD ...|      96| 2010-12-01|     1.85|     12791|   Netherlands|       2010|          12|         1|           1|        cheep|\n",
      "|   536404|    22297|HEART IVORY TRELL...|      24| 2010-12-01|     1.25|     16218|United Kingdom|       2010|          12|         1|           1|        cheep|\n",
      "|   536407|    22632|HAND WARMER RED P...|       6| 2010-12-01|     1.85|     17850|United Kingdom|       2010|          12|         1|           1|        cheep|\n",
      "|   536415|    22952|60 CAKE CASES VIN...|      10| 2010-12-01|     0.55|     12838|United Kingdom|       2010|          12|         1|           1|        cheep|\n",
      "|   536460|    22670|FRENCH WC SIGN BL...|      12| 2010-12-01|     1.25|     14849|United Kingdom|       2010|          12|         1|           1|        cheep|\n",
      "|   536477|    21314|SMALL GLASS HEART...|      48| 2010-12-01|     1.85|     16210|United Kingdom|       2010|          12|         1|           1|        cheep|\n",
      "+---------+---------+--------------------+--------+-----------+---------+----------+--------------+-----------+------------+----------+------------+-------------+\n",
      "only showing top 20 rows\n",
      "\n"
     ]
    }
   ],
   "source": [
    "# 重複行の削除\n",
    "df.dropDuplicates(['InvoiceNo']).show()"
   ]
  },
  {
   "cell_type": "markdown",
   "id": "40bf731e-84b7-4908-bdf0-4eddf451c426",
   "metadata": {},
   "source": [
    "#### 結合"
   ]
  },
  {
   "cell_type": "code",
   "execution_count": 40,
   "id": "c21aa466-1c28-4b3b-8faf-2a4f02a1425b",
   "metadata": {},
   "outputs": [
    {
     "name": "stdout",
     "output_type": "stream",
     "text": [
      "+----+------+\n",
      "|  id|value1|\n",
      "+----+------+\n",
      "|   1| apple|\n",
      "|   2|orange|\n",
      "|   3|  null|\n",
      "|   4|banana|\n",
      "|null|grapes|\n",
      "+----+------+\n",
      "\n"
     ]
    }
   ],
   "source": [
    "df1 = spark.createDataFrame([(1, 'apple'), (2, 'orange'), (3, None), (4, 'banana'), (None, 'grapes')], ['id', 'value1'])\n",
    "df1.show()"
   ]
  },
  {
   "cell_type": "code",
   "execution_count": 41,
   "id": "5a0e694b-8898-4ba4-8905-318a0fe00ac3",
   "metadata": {},
   "outputs": [
    {
     "name": "stdout",
     "output_type": "stream",
     "text": [
      "+----+------+\n",
      "|  id|value2|\n",
      "+----+------+\n",
      "|   2| onion|\n",
      "|   4|potato|\n",
      "|   6|  null|\n",
      "|null|carrot|\n",
      "+----+------+\n",
      "\n"
     ]
    }
   ],
   "source": [
    "df2 = spark.createDataFrame([(2, 'onion'), (4, 'potato'), (6, None), (None, 'carrot')], ['id', 'value2'])\n",
    "df2.show()"
   ]
  },
  {
   "cell_type": "code",
   "execution_count": 42,
   "id": "de4ad3a7-8c2c-4a63-9eff-28feefc1feb4",
   "metadata": {},
   "outputs": [
    {
     "name": "stdout",
     "output_type": "stream",
     "text": [
      "+---+------+------+\n",
      "| id|value1|value2|\n",
      "+---+------+------+\n",
      "|  2|orange| onion|\n",
      "|  4|banana|potato|\n",
      "+---+------+------+\n",
      "\n"
     ]
    }
   ],
   "source": [
    "# 内部結合\n",
    "df1.join(df2, 'id', 'inner').show()"
   ]
  },
  {
   "cell_type": "code",
   "execution_count": 43,
   "id": "043c95d0-3f95-4661-aa12-056c7f1967fe",
   "metadata": {},
   "outputs": [
    {
     "name": "stdout",
     "output_type": "stream",
     "text": [
      "+----+------+------+\n",
      "|  id|value1|value2|\n",
      "+----+------+------+\n",
      "|   1| apple|  null|\n",
      "|   2|orange| onion|\n",
      "|   3|  null|  null|\n",
      "|   4|banana|potato|\n",
      "|null|grapes|  null|\n",
      "+----+------+------+\n",
      "\n"
     ]
    }
   ],
   "source": [
    "# 外部結合\n",
    "df1.join(df2, 'id', 'left').show()"
   ]
  },
  {
   "cell_type": "markdown",
   "id": "06e50392-b6b2-4e6f-9631-51957ce9f932",
   "metadata": {},
   "source": [
    "#### Spark ⇔ Pandasに変換"
   ]
  },
  {
   "cell_type": "code",
   "execution_count": 44,
   "id": "c37c8d3e-3ef3-4e76-889a-1aa28b5c93cd",
   "metadata": {},
   "outputs": [
    {
     "data": {
      "text/html": [
       "<div>\n",
       "<style scoped>\n",
       "    .dataframe tbody tr th:only-of-type {\n",
       "        vertical-align: middle;\n",
       "    }\n",
       "\n",
       "    .dataframe tbody tr th {\n",
       "        vertical-align: top;\n",
       "    }\n",
       "\n",
       "    .dataframe thead th {\n",
       "        text-align: right;\n",
       "    }\n",
       "</style>\n",
       "<table border=\"1\" class=\"dataframe\">\n",
       "  <thead>\n",
       "    <tr style=\"text-align: right;\">\n",
       "      <th></th>\n",
       "      <th>InvoiceNo</th>\n",
       "      <th>StockCode</th>\n",
       "      <th>Description</th>\n",
       "      <th>Quantity</th>\n",
       "      <th>InvoiceDate</th>\n",
       "      <th>UnitPrice</th>\n",
       "      <th>CustomerID</th>\n",
       "      <th>CountryName</th>\n",
       "      <th>InvoiceYear</th>\n",
       "      <th>InvoiceMonth</th>\n",
       "      <th>InvoiceDay</th>\n",
       "      <th>cansel_value</th>\n",
       "      <th>PriceCategory</th>\n",
       "    </tr>\n",
       "  </thead>\n",
       "  <tbody>\n",
       "    <tr>\n",
       "      <th>0</th>\n",
       "      <td>536365</td>\n",
       "      <td>85123A</td>\n",
       "      <td>WHITE HANGING HEART T-LIGHT HOLDER</td>\n",
       "      <td>6</td>\n",
       "      <td>2010-12-01</td>\n",
       "      <td>2.55</td>\n",
       "      <td>17850</td>\n",
       "      <td>United Kingdom</td>\n",
       "      <td>2010</td>\n",
       "      <td>12</td>\n",
       "      <td>1</td>\n",
       "      <td>1</td>\n",
       "      <td>cheep</td>\n",
       "    </tr>\n",
       "    <tr>\n",
       "      <th>1</th>\n",
       "      <td>536365</td>\n",
       "      <td>71053</td>\n",
       "      <td>WHITE METAL LANTERN</td>\n",
       "      <td>6</td>\n",
       "      <td>2010-12-01</td>\n",
       "      <td>3.39</td>\n",
       "      <td>17850</td>\n",
       "      <td>United Kingdom</td>\n",
       "      <td>2010</td>\n",
       "      <td>12</td>\n",
       "      <td>1</td>\n",
       "      <td>1</td>\n",
       "      <td>cheep</td>\n",
       "    </tr>\n",
       "    <tr>\n",
       "      <th>2</th>\n",
       "      <td>536365</td>\n",
       "      <td>84406B</td>\n",
       "      <td>CREAM CUPID HEARTS COAT HANGER</td>\n",
       "      <td>8</td>\n",
       "      <td>2010-12-01</td>\n",
       "      <td>2.75</td>\n",
       "      <td>17850</td>\n",
       "      <td>United Kingdom</td>\n",
       "      <td>2010</td>\n",
       "      <td>12</td>\n",
       "      <td>1</td>\n",
       "      <td>1</td>\n",
       "      <td>cheep</td>\n",
       "    </tr>\n",
       "    <tr>\n",
       "      <th>3</th>\n",
       "      <td>536365</td>\n",
       "      <td>84029G</td>\n",
       "      <td>KNITTED UNION FLAG HOT WATER BOTTLE</td>\n",
       "      <td>6</td>\n",
       "      <td>2010-12-01</td>\n",
       "      <td>3.39</td>\n",
       "      <td>17850</td>\n",
       "      <td>United Kingdom</td>\n",
       "      <td>2010</td>\n",
       "      <td>12</td>\n",
       "      <td>1</td>\n",
       "      <td>1</td>\n",
       "      <td>cheep</td>\n",
       "    </tr>\n",
       "    <tr>\n",
       "      <th>4</th>\n",
       "      <td>536365</td>\n",
       "      <td>84029E</td>\n",
       "      <td>RED WOOLLY HOTTIE WHITE HEART.</td>\n",
       "      <td>6</td>\n",
       "      <td>2010-12-01</td>\n",
       "      <td>3.39</td>\n",
       "      <td>17850</td>\n",
       "      <td>United Kingdom</td>\n",
       "      <td>2010</td>\n",
       "      <td>12</td>\n",
       "      <td>1</td>\n",
       "      <td>1</td>\n",
       "      <td>cheep</td>\n",
       "    </tr>\n",
       "  </tbody>\n",
       "</table>\n",
       "</div>"
      ],
      "text/plain": [
       "  InvoiceNo StockCode                          Description  Quantity  \\\n",
       "0    536365    85123A   WHITE HANGING HEART T-LIGHT HOLDER         6   \n",
       "1    536365     71053                  WHITE METAL LANTERN         6   \n",
       "2    536365    84406B       CREAM CUPID HEARTS COAT HANGER         8   \n",
       "3    536365    84029G  KNITTED UNION FLAG HOT WATER BOTTLE         6   \n",
       "4    536365    84029E       RED WOOLLY HOTTIE WHITE HEART.         6   \n",
       "\n",
       "  InvoiceDate  UnitPrice CustomerID     CountryName  InvoiceYear  \\\n",
       "0  2010-12-01       2.55      17850  United Kingdom         2010   \n",
       "1  2010-12-01       3.39      17850  United Kingdom         2010   \n",
       "2  2010-12-01       2.75      17850  United Kingdom         2010   \n",
       "3  2010-12-01       3.39      17850  United Kingdom         2010   \n",
       "4  2010-12-01       3.39      17850  United Kingdom         2010   \n",
       "\n",
       "   InvoiceMonth  InvoiceDay cansel_value PriceCategory  \n",
       "0            12           1            1         cheep  \n",
       "1            12           1            1         cheep  \n",
       "2            12           1            1         cheep  \n",
       "3            12           1            1         cheep  \n",
       "4            12           1            1         cheep  "
      ]
     },
     "execution_count": 44,
     "metadata": {},
     "output_type": "execute_result"
    }
   ],
   "source": [
    "# Skark → Pandasに変換\n",
    "df_pandas = df.toPandas()\n",
    "df_pandas.head()"
   ]
  },
  {
   "cell_type": "code",
   "execution_count": 45,
   "id": "07be3073-cd0d-4ae1-9f04-c6f4957afb29",
   "metadata": {},
   "outputs": [
    {
     "name": "stderr",
     "output_type": "stream",
     "text": [
      "/usr/local/spark/python/pyspark/sql/pandas/conversion.py:474: FutureWarning: iteritems is deprecated and will be removed in a future version. Use .items instead.\n",
      "  for column, series in pdf.iteritems():\n",
      "/usr/local/spark/python/pyspark/sql/pandas/conversion.py:486: FutureWarning: iteritems is deprecated and will be removed in a future version. Use .items instead.\n",
      "  for column, series in pdf.iteritems():\n"
     ]
    },
    {
     "name": "stdout",
     "output_type": "stream",
     "text": [
      "+---------+---------+--------------------+--------+-----------+------------------+----------+--------------+-----------+------------+----------+------------+-------------+\n",
      "|InvoiceNo|StockCode|         Description|Quantity|InvoiceDate|         UnitPrice|CustomerID|   CountryName|InvoiceYear|InvoiceMonth|InvoiceDay|cansel_value|PriceCategory|\n",
      "+---------+---------+--------------------+--------+-----------+------------------+----------+--------------+-----------+------------+----------+------------+-------------+\n",
      "|   536365|   85123A|WHITE HANGING HEA...|       6| 2010-12-01| 2.549999952316284|     17850|United Kingdom|       2010|          12|         1|           1|        cheep|\n",
      "|   536365|    71053| WHITE METAL LANTERN|       6| 2010-12-01| 3.390000104904175|     17850|United Kingdom|       2010|          12|         1|           1|        cheep|\n",
      "|   536365|   84406B|CREAM CUPID HEART...|       8| 2010-12-01|              2.75|     17850|United Kingdom|       2010|          12|         1|           1|        cheep|\n",
      "|   536365|   84029G|KNITTED UNION FLA...|       6| 2010-12-01| 3.390000104904175|     17850|United Kingdom|       2010|          12|         1|           1|        cheep|\n",
      "|   536365|   84029E|RED WOOLLY HOTTIE...|       6| 2010-12-01| 3.390000104904175|     17850|United Kingdom|       2010|          12|         1|           1|        cheep|\n",
      "|   536365|    22752|SET 7 BABUSHKA NE...|       2| 2010-12-01| 7.650000095367432|     17850|United Kingdom|       2010|          12|         1|           1|       medium|\n",
      "|   536365|    21730|GLASS STAR FROSTE...|       6| 2010-12-01|              4.25|     17850|United Kingdom|       2010|          12|         1|           1|        cheep|\n",
      "|   536366|    22633|HAND WARMER UNION...|       6| 2010-12-01| 1.850000023841858|     17850|United Kingdom|       2010|          12|         1|           1|        cheep|\n",
      "|   536366|    22632|HAND WARMER RED P...|       6| 2010-12-01| 1.850000023841858|     17850|United Kingdom|       2010|          12|         1|           1|        cheep|\n",
      "|   536367|    84879|ASSORTED COLOUR B...|      32| 2010-12-01| 1.690000057220459|     13047|United Kingdom|       2010|          12|         1|           1|        cheep|\n",
      "|   536367|    22745|POPPY'S PLAYHOUSE...|       6| 2010-12-01|2.0999999046325684|     13047|United Kingdom|       2010|          12|         1|           1|        cheep|\n",
      "|   536367|    22748|POPPY'S PLAYHOUSE...|       6| 2010-12-01|2.0999999046325684|     13047|United Kingdom|       2010|          12|         1|           1|        cheep|\n",
      "|   536367|    22749|FELTCRAFT PRINCES...|       8| 2010-12-01|              3.75|     13047|United Kingdom|       2010|          12|         1|           1|        cheep|\n",
      "|   536367|    22310|IVORY KNITTED MUG...|       6| 2010-12-01| 1.649999976158142|     13047|United Kingdom|       2010|          12|         1|           1|        cheep|\n",
      "|   536367|    84969|BOX OF 6 ASSORTED...|       6| 2010-12-01|              4.25|     13047|United Kingdom|       2010|          12|         1|           1|        cheep|\n",
      "|   536367|    22623|BOX OF VINTAGE JI...|       3| 2010-12-01| 4.949999809265137|     13047|United Kingdom|       2010|          12|         1|           1|        cheep|\n",
      "|   536367|    22622|BOX OF VINTAGE AL...|       2| 2010-12-01| 9.949999809265137|     13047|United Kingdom|       2010|          12|         1|           1|       medium|\n",
      "|   536367|    21754|HOME BUILDING BLO...|       3| 2010-12-01| 5.949999809265137|     13047|United Kingdom|       2010|          12|         1|           1|       medium|\n",
      "|   536367|    21755|LOVE BUILDING BLO...|       3| 2010-12-01| 5.949999809265137|     13047|United Kingdom|       2010|          12|         1|           1|       medium|\n",
      "|   536367|    21777|RECIPE BOX WITH M...|       4| 2010-12-01| 7.949999809265137|     13047|United Kingdom|       2010|          12|         1|           1|       medium|\n",
      "+---------+---------+--------------------+--------+-----------+------------------+----------+--------------+-----------+------------+----------+------------+-------------+\n",
      "only showing top 20 rows\n",
      "\n"
     ]
    }
   ],
   "source": [
    "# Pandas → Skarkに変換\n",
    "df_pyspark = spark.createDataFrame(df_pandas)\n",
    "df_pyspark.show()"
   ]
  },
  {
   "cell_type": "markdown",
   "id": "f7ba9211-a122-46a1-a5f2-786895cb23a2",
   "metadata": {},
   "source": [
    "#### Spark SQL"
   ]
  },
  {
   "cell_type": "code",
   "execution_count": 46,
   "id": "5ea18009-e9ed-4661-9c87-5edaaa0717a1",
   "metadata": {},
   "outputs": [],
   "source": [
    "# テンポラリーテーブル作成\n",
    "df.createOrReplaceTempView('df_tbl')"
   ]
  },
  {
   "cell_type": "code",
   "execution_count": 47,
   "id": "4b1ec342-d275-4b36-b57d-b6f617547d45",
   "metadata": {},
   "outputs": [
    {
     "name": "stdout",
     "output_type": "stream",
     "text": [
      "+---------+---------+--------------------+--------+-----------+---------+----------+--------------+-----------+------------+----------+------------+-------------+\n",
      "|InvoiceNo|StockCode|         Description|Quantity|InvoiceDate|UnitPrice|CustomerID|   CountryName|InvoiceYear|InvoiceMonth|InvoiceDay|cansel_value|PriceCategory|\n",
      "+---------+---------+--------------------+--------+-----------+---------+----------+--------------+-----------+------------+----------+------------+-------------+\n",
      "|   536365|   85123A|WHITE HANGING HEA...|       6| 2010-12-01|     2.55|     17850|United Kingdom|       2010|          12|         1|           1|        cheep|\n",
      "|   536365|    71053| WHITE METAL LANTERN|       6| 2010-12-01|     3.39|     17850|United Kingdom|       2010|          12|         1|           1|        cheep|\n",
      "|   536365|   84406B|CREAM CUPID HEART...|       8| 2010-12-01|     2.75|     17850|United Kingdom|       2010|          12|         1|           1|        cheep|\n",
      "|   536365|   84029G|KNITTED UNION FLA...|       6| 2010-12-01|     3.39|     17850|United Kingdom|       2010|          12|         1|           1|        cheep|\n",
      "|   536365|   84029E|RED WOOLLY HOTTIE...|       6| 2010-12-01|     3.39|     17850|United Kingdom|       2010|          12|         1|           1|        cheep|\n",
      "|   536365|    22752|SET 7 BABUSHKA NE...|       2| 2010-12-01|     7.65|     17850|United Kingdom|       2010|          12|         1|           1|       medium|\n",
      "|   536365|    21730|GLASS STAR FROSTE...|       6| 2010-12-01|     4.25|     17850|United Kingdom|       2010|          12|         1|           1|        cheep|\n",
      "|   536366|    22633|HAND WARMER UNION...|       6| 2010-12-01|     1.85|     17850|United Kingdom|       2010|          12|         1|           1|        cheep|\n",
      "|   536366|    22632|HAND WARMER RED P...|       6| 2010-12-01|     1.85|     17850|United Kingdom|       2010|          12|         1|           1|        cheep|\n",
      "|   536367|    84879|ASSORTED COLOUR B...|      32| 2010-12-01|     1.69|     13047|United Kingdom|       2010|          12|         1|           1|        cheep|\n",
      "|   536367|    22745|POPPY'S PLAYHOUSE...|       6| 2010-12-01|      2.1|     13047|United Kingdom|       2010|          12|         1|           1|        cheep|\n",
      "|   536367|    22748|POPPY'S PLAYHOUSE...|       6| 2010-12-01|      2.1|     13047|United Kingdom|       2010|          12|         1|           1|        cheep|\n",
      "|   536367|    22749|FELTCRAFT PRINCES...|       8| 2010-12-01|     3.75|     13047|United Kingdom|       2010|          12|         1|           1|        cheep|\n",
      "|   536367|    22310|IVORY KNITTED MUG...|       6| 2010-12-01|     1.65|     13047|United Kingdom|       2010|          12|         1|           1|        cheep|\n",
      "|   536367|    84969|BOX OF 6 ASSORTED...|       6| 2010-12-01|     4.25|     13047|United Kingdom|       2010|          12|         1|           1|        cheep|\n",
      "|   536367|    22623|BOX OF VINTAGE JI...|       3| 2010-12-01|     4.95|     13047|United Kingdom|       2010|          12|         1|           1|        cheep|\n",
      "|   536367|    22622|BOX OF VINTAGE AL...|       2| 2010-12-01|     9.95|     13047|United Kingdom|       2010|          12|         1|           1|       medium|\n",
      "|   536367|    21754|HOME BUILDING BLO...|       3| 2010-12-01|     5.95|     13047|United Kingdom|       2010|          12|         1|           1|       medium|\n",
      "|   536367|    21755|LOVE BUILDING BLO...|       3| 2010-12-01|     5.95|     13047|United Kingdom|       2010|          12|         1|           1|       medium|\n",
      "|   536367|    21777|RECIPE BOX WITH M...|       4| 2010-12-01|     7.95|     13047|United Kingdom|       2010|          12|         1|           1|       medium|\n",
      "+---------+---------+--------------------+--------+-----------+---------+----------+--------------+-----------+------------+----------+------------+-------------+\n",
      "only showing top 20 rows\n",
      "\n"
     ]
    }
   ],
   "source": [
    "# クエリ発行\n",
    "quary = '''\n",
    "select\n",
    "    *\n",
    "from\n",
    "    df_tbl\n",
    "'''\n",
    "\n",
    "df_sql = spark.sql(quary)\n",
    "df_sql.show()"
   ]
  },
  {
   "cell_type": "markdown",
   "id": "623e845e-7ed7-4e0a-bf50-16bb45e44e08",
   "metadata": {
    "tags": []
   },
   "source": [
    "#### データ出力"
   ]
  },
  {
   "cell_type": "code",
   "execution_count": 48,
   "id": "faa088ef-b0da-428f-91ed-850d588af498",
   "metadata": {},
   "outputs": [],
   "source": [
    "# データ出力 標準では分散保存する\n",
    "df.write.format('csv').option('delimiter', ',').save('data/save_dataframe.csv')"
   ]
  },
  {
   "cell_type": "code",
   "execution_count": 49,
   "id": "d6e7f433-2338-44e4-b902-ac77e9bda9cd",
   "metadata": {},
   "outputs": [],
   "source": [
    "# データ出力 1つのファイルにまとめて保存する\n",
    "df.coalesce(1).write.format('csv').option('delimiter', ',').save('data/save_coalesce_dataframe.csv')"
   ]
  },
  {
   "cell_type": "code",
   "execution_count": 50,
   "id": "50064ec4-5617-402a-ad6c-a484ca81f7ab",
   "metadata": {},
   "outputs": [],
   "source": [
    "# 格納値をもとパーティションを切り、分散保存する\n",
    "df.write.partitionBy('InvoiceYear', 'InvoiceMonth').format('csv').option('delimiter', ',').save('data/save_partition_dataframe.csv')"
   ]
  }
 ],
 "metadata": {
  "kernelspec": {
   "display_name": "Python 3 (ipykernel)",
   "language": "python",
   "name": "python3"
  },
  "language_info": {
   "codemirror_mode": {
    "name": "ipython",
    "version": 3
   },
   "file_extension": ".py",
   "mimetype": "text/x-python",
   "name": "python",
   "nbconvert_exporter": "python",
   "pygments_lexer": "ipython3",
   "version": "3.10.8"
  }
 },
 "nbformat": 4,
 "nbformat_minor": 5
}
