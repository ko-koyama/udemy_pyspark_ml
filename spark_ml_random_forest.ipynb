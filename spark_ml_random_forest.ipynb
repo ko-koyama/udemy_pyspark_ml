{
 "cells": [
  {
   "cell_type": "markdown",
   "id": "48fb0aa8-dd0d-4954-a5f1-95c85e1c3c83",
   "metadata": {},
   "source": [
    "### Spark ML ランダムフォレストによる分類予測"
   ]
  },
  {
   "cell_type": "markdown",
   "id": "dea0f1cf-40ed-4af2-85a4-d65eb1fb203d",
   "metadata": {},
   "source": [
    "* bank-fullのy列について分類予測する\n",
    "* 特徴量は簡易化のため、数値列と文字列の'default'列のみを使用する\n",
    "* パイプラインを使用せずに実行する"
   ]
  },
  {
   "cell_type": "code",
   "execution_count": 37,
   "id": "a4f1acef-d023-48ee-bb75-1ab16e3d5d85",
   "metadata": {},
   "outputs": [],
   "source": [
    "import pandas as pd\n",
    "import numpy as np\n",
    "\n",
    "from pyspark.sql import SparkSession\n",
    "from pyspark.sql.functions import lit, when, col\n",
    "from pyspark.ml import Pipeline\n",
    "from pyspark.ml.feature import StringIndexer, VectorAssembler, StandardScaler\n",
    "from pyspark.ml.classification import RandomForestClassifier\n",
    "from pyspark.ml.evaluation import BinaryClassificationEvaluator"
   ]
  },
  {
   "cell_type": "markdown",
   "id": "9498e653-c141-46de-83e1-38288001cf13",
   "metadata": {},
   "source": [
    "#### SparkSessionの作成"
   ]
  },
  {
   "cell_type": "code",
   "execution_count": 13,
   "id": "11a61b74-0da7-4000-b2a1-32ac79bf2ce0",
   "metadata": {},
   "outputs": [],
   "source": [
    "spark = SparkSession.builder.getOrCreate()"
   ]
  },
  {
   "cell_type": "markdown",
   "id": "4246e712-1464-43d7-af86-921c65e08c7f",
   "metadata": {},
   "source": [
    "#### データの読み込み"
   ]
  },
  {
   "cell_type": "code",
   "execution_count": 14,
   "id": "883113bc-5db9-4091-9f4d-c446b14c77fb",
   "metadata": {},
   "outputs": [],
   "source": [
    "data = spark.read.load('data/bank-full.csv',\n",
    "                       format = 'csv',\n",
    "                       sep = ';',\n",
    "                       header = True,\n",
    "                       inferSchema = True)"
   ]
  },
  {
   "cell_type": "code",
   "execution_count": 15,
   "id": "a0b42513-7293-41b8-a9d5-a840c7a8baa9",
   "metadata": {},
   "outputs": [
    {
     "name": "stdout",
     "output_type": "stream",
     "text": [
      "+---+------------+--------+---------+-------+-------+-------+----+-------+---+-----+--------+--------+-----+--------+--------+---+\n",
      "|age|         job| marital|education|default|balance|housing|loan|contact|day|month|duration|campaign|pdays|previous|poutcome|  y|\n",
      "+---+------------+--------+---------+-------+-------+-------+----+-------+---+-----+--------+--------+-----+--------+--------+---+\n",
      "| 58|  management| married| tertiary|     no|   2143|    yes|  no|unknown|  5|  may|     261|       1|   -1|       0| unknown| no|\n",
      "| 44|  technician|  single|secondary|     no|     29|    yes|  no|unknown|  5|  may|     151|       1|   -1|       0| unknown| no|\n",
      "| 33|entrepreneur| married|secondary|     no|      2|    yes| yes|unknown|  5|  may|      76|       1|   -1|       0| unknown| no|\n",
      "| 47| blue-collar| married|  unknown|     no|   1506|    yes|  no|unknown|  5|  may|      92|       1|   -1|       0| unknown| no|\n",
      "| 33|     unknown|  single|  unknown|     no|      1|     no|  no|unknown|  5|  may|     198|       1|   -1|       0| unknown| no|\n",
      "| 35|  management| married| tertiary|     no|    231|    yes|  no|unknown|  5|  may|     139|       1|   -1|       0| unknown| no|\n",
      "| 28|  management|  single| tertiary|     no|    447|    yes| yes|unknown|  5|  may|     217|       1|   -1|       0| unknown| no|\n",
      "| 42|entrepreneur|divorced| tertiary|    yes|      2|    yes|  no|unknown|  5|  may|     380|       1|   -1|       0| unknown| no|\n",
      "| 58|     retired| married|  primary|     no|    121|    yes|  no|unknown|  5|  may|      50|       1|   -1|       0| unknown| no|\n",
      "| 43|  technician|  single|secondary|     no|    593|    yes|  no|unknown|  5|  may|      55|       1|   -1|       0| unknown| no|\n",
      "| 41|      admin.|divorced|secondary|     no|    270|    yes|  no|unknown|  5|  may|     222|       1|   -1|       0| unknown| no|\n",
      "| 29|      admin.|  single|secondary|     no|    390|    yes|  no|unknown|  5|  may|     137|       1|   -1|       0| unknown| no|\n",
      "| 53|  technician| married|secondary|     no|      6|    yes|  no|unknown|  5|  may|     517|       1|   -1|       0| unknown| no|\n",
      "| 58|  technician| married|  unknown|     no|     71|    yes|  no|unknown|  5|  may|      71|       1|   -1|       0| unknown| no|\n",
      "| 57|    services| married|secondary|     no|    162|    yes|  no|unknown|  5|  may|     174|       1|   -1|       0| unknown| no|\n",
      "| 51|     retired| married|  primary|     no|    229|    yes|  no|unknown|  5|  may|     353|       1|   -1|       0| unknown| no|\n",
      "| 45|      admin.|  single|  unknown|     no|     13|    yes|  no|unknown|  5|  may|      98|       1|   -1|       0| unknown| no|\n",
      "| 57| blue-collar| married|  primary|     no|     52|    yes|  no|unknown|  5|  may|      38|       1|   -1|       0| unknown| no|\n",
      "| 60|     retired| married|  primary|     no|     60|    yes|  no|unknown|  5|  may|     219|       1|   -1|       0| unknown| no|\n",
      "| 33|    services| married|secondary|     no|      0|    yes|  no|unknown|  5|  may|      54|       1|   -1|       0| unknown| no|\n",
      "+---+------------+--------+---------+-------+-------+-------+----+-------+---+-----+--------+--------+-----+--------+--------+---+\n",
      "only showing top 20 rows\n",
      "\n"
     ]
    }
   ],
   "source": [
    "data.show()"
   ]
  },
  {
   "cell_type": "code",
   "execution_count": 16,
   "id": "9d39dbf9-f689-4e45-be01-d6b9a02c5a61",
   "metadata": {},
   "outputs": [
    {
     "data": {
      "text/plain": [
       "[('age', 'int'),\n",
       " ('job', 'string'),\n",
       " ('marital', 'string'),\n",
       " ('education', 'string'),\n",
       " ('default', 'string'),\n",
       " ('balance', 'int'),\n",
       " ('housing', 'string'),\n",
       " ('loan', 'string'),\n",
       " ('contact', 'string'),\n",
       " ('day', 'int'),\n",
       " ('month', 'string'),\n",
       " ('duration', 'int'),\n",
       " ('campaign', 'int'),\n",
       " ('pdays', 'int'),\n",
       " ('previous', 'int'),\n",
       " ('poutcome', 'string'),\n",
       " ('y', 'string')]"
      ]
     },
     "execution_count": 16,
     "metadata": {},
     "output_type": "execute_result"
    }
   ],
   "source": [
    "data.dtypes"
   ]
  },
  {
   "cell_type": "markdown",
   "id": "e6822945-2f16-4664-b7bb-4f6f67df5a01",
   "metadata": {},
   "source": [
    "#### 目的変数の作成"
   ]
  },
  {
   "cell_type": "code",
   "execution_count": 17,
   "id": "be6576ad-3e4f-45d7-b40e-6e5005b8807d",
   "metadata": {},
   "outputs": [
    {
     "name": "stdout",
     "output_type": "stream",
     "text": [
      "+---+------------+--------+---------+-------+-------+-------+----+-------+---+-----+--------+--------+-----+--------+--------+---+-----------+\n",
      "|age|         job| marital|education|default|balance|housing|loan|contact|day|month|duration|campaign|pdays|previous|poutcome|  y|converted_y|\n",
      "+---+------------+--------+---------+-------+-------+-------+----+-------+---+-----+--------+--------+-----+--------+--------+---+-----------+\n",
      "| 58|  management| married| tertiary|     no|   2143|    yes|  no|unknown|  5|  may|     261|       1|   -1|       0| unknown| no|        0.0|\n",
      "| 44|  technician|  single|secondary|     no|     29|    yes|  no|unknown|  5|  may|     151|       1|   -1|       0| unknown| no|        0.0|\n",
      "| 33|entrepreneur| married|secondary|     no|      2|    yes| yes|unknown|  5|  may|      76|       1|   -1|       0| unknown| no|        0.0|\n",
      "| 47| blue-collar| married|  unknown|     no|   1506|    yes|  no|unknown|  5|  may|      92|       1|   -1|       0| unknown| no|        0.0|\n",
      "| 33|     unknown|  single|  unknown|     no|      1|     no|  no|unknown|  5|  may|     198|       1|   -1|       0| unknown| no|        0.0|\n",
      "| 35|  management| married| tertiary|     no|    231|    yes|  no|unknown|  5|  may|     139|       1|   -1|       0| unknown| no|        0.0|\n",
      "| 28|  management|  single| tertiary|     no|    447|    yes| yes|unknown|  5|  may|     217|       1|   -1|       0| unknown| no|        0.0|\n",
      "| 42|entrepreneur|divorced| tertiary|    yes|      2|    yes|  no|unknown|  5|  may|     380|       1|   -1|       0| unknown| no|        0.0|\n",
      "| 58|     retired| married|  primary|     no|    121|    yes|  no|unknown|  5|  may|      50|       1|   -1|       0| unknown| no|        0.0|\n",
      "| 43|  technician|  single|secondary|     no|    593|    yes|  no|unknown|  5|  may|      55|       1|   -1|       0| unknown| no|        0.0|\n",
      "| 41|      admin.|divorced|secondary|     no|    270|    yes|  no|unknown|  5|  may|     222|       1|   -1|       0| unknown| no|        0.0|\n",
      "| 29|      admin.|  single|secondary|     no|    390|    yes|  no|unknown|  5|  may|     137|       1|   -1|       0| unknown| no|        0.0|\n",
      "| 53|  technician| married|secondary|     no|      6|    yes|  no|unknown|  5|  may|     517|       1|   -1|       0| unknown| no|        0.0|\n",
      "| 58|  technician| married|  unknown|     no|     71|    yes|  no|unknown|  5|  may|      71|       1|   -1|       0| unknown| no|        0.0|\n",
      "| 57|    services| married|secondary|     no|    162|    yes|  no|unknown|  5|  may|     174|       1|   -1|       0| unknown| no|        0.0|\n",
      "| 51|     retired| married|  primary|     no|    229|    yes|  no|unknown|  5|  may|     353|       1|   -1|       0| unknown| no|        0.0|\n",
      "| 45|      admin.|  single|  unknown|     no|     13|    yes|  no|unknown|  5|  may|      98|       1|   -1|       0| unknown| no|        0.0|\n",
      "| 57| blue-collar| married|  primary|     no|     52|    yes|  no|unknown|  5|  may|      38|       1|   -1|       0| unknown| no|        0.0|\n",
      "| 60|     retired| married|  primary|     no|     60|    yes|  no|unknown|  5|  may|     219|       1|   -1|       0| unknown| no|        0.0|\n",
      "| 33|    services| married|secondary|     no|      0|    yes|  no|unknown|  5|  may|      54|       1|   -1|       0| unknown| no|        0.0|\n",
      "+---+------------+--------+---------+-------+-------+-------+----+-------+---+-----+--------+--------+-----+--------+--------+---+-----------+\n",
      "only showing top 20 rows\n",
      "\n"
     ]
    }
   ],
   "source": [
    "data = data.withColumn('converted_y', when(col('y') == 'yes', lit(1.0)).otherwise(lit(0.0)))\n",
    "data.show()"
   ]
  },
  {
   "cell_type": "markdown",
   "id": "d74b0051-f0a0-4f9a-a0d9-ed609cd68be0",
   "metadata": {},
   "source": [
    "#### default列のインデックス化"
   ]
  },
  {
   "cell_type": "code",
   "execution_count": 38,
   "id": "ae65aec4-00cd-4d17-9784-0d653bbe30a6",
   "metadata": {},
   "outputs": [
    {
     "ename": "IllegalArgumentException",
     "evalue": "requirement failed: Output column default_index already exists.",
     "output_type": "error",
     "traceback": [
      "\u001b[0;31m---------------------------------------------------------------------------\u001b[0m",
      "\u001b[0;31mIllegalArgumentException\u001b[0m                  Traceback (most recent call last)",
      "Cell \u001b[0;32mIn[38], line 2\u001b[0m\n\u001b[1;32m      1\u001b[0m default_index \u001b[38;5;241m=\u001b[39m StringIndexer(inputCol \u001b[38;5;241m=\u001b[39m \u001b[38;5;124m'\u001b[39m\u001b[38;5;124mdefault\u001b[39m\u001b[38;5;124m'\u001b[39m, outputCol \u001b[38;5;241m=\u001b[39m \u001b[38;5;124m'\u001b[39m\u001b[38;5;124mdefault_index\u001b[39m\u001b[38;5;124m'\u001b[39m)\n\u001b[0;32m----> 2\u001b[0m data \u001b[38;5;241m=\u001b[39m \u001b[43mdefault_index\u001b[49m\u001b[38;5;241;43m.\u001b[39;49m\u001b[43mfit\u001b[49m\u001b[43m(\u001b[49m\u001b[43mdata\u001b[49m\u001b[43m)\u001b[49m\u001b[38;5;241m.\u001b[39mtransform(data)\n",
      "File \u001b[0;32m/usr/local/spark/python/pyspark/ml/base.py:205\u001b[0m, in \u001b[0;36mEstimator.fit\u001b[0;34m(self, dataset, params)\u001b[0m\n\u001b[1;32m    203\u001b[0m         \u001b[38;5;28;01mreturn\u001b[39;00m \u001b[38;5;28mself\u001b[39m\u001b[38;5;241m.\u001b[39mcopy(params)\u001b[38;5;241m.\u001b[39m_fit(dataset)\n\u001b[1;32m    204\u001b[0m     \u001b[38;5;28;01melse\u001b[39;00m:\n\u001b[0;32m--> 205\u001b[0m         \u001b[38;5;28;01mreturn\u001b[39;00m \u001b[38;5;28;43mself\u001b[39;49m\u001b[38;5;241;43m.\u001b[39;49m\u001b[43m_fit\u001b[49m\u001b[43m(\u001b[49m\u001b[43mdataset\u001b[49m\u001b[43m)\u001b[49m\n\u001b[1;32m    206\u001b[0m \u001b[38;5;28;01melse\u001b[39;00m:\n\u001b[1;32m    207\u001b[0m     \u001b[38;5;28;01mraise\u001b[39;00m \u001b[38;5;167;01mTypeError\u001b[39;00m(\n\u001b[1;32m    208\u001b[0m         \u001b[38;5;124m\"\u001b[39m\u001b[38;5;124mParams must be either a param map or a list/tuple of param maps, \u001b[39m\u001b[38;5;124m\"\u001b[39m\n\u001b[1;32m    209\u001b[0m         \u001b[38;5;124m\"\u001b[39m\u001b[38;5;124mbut got \u001b[39m\u001b[38;5;132;01m%s\u001b[39;00m\u001b[38;5;124m.\u001b[39m\u001b[38;5;124m\"\u001b[39m \u001b[38;5;241m%\u001b[39m \u001b[38;5;28mtype\u001b[39m(params)\n\u001b[1;32m    210\u001b[0m     )\n",
      "File \u001b[0;32m/usr/local/spark/python/pyspark/ml/wrapper.py:383\u001b[0m, in \u001b[0;36mJavaEstimator._fit\u001b[0;34m(self, dataset)\u001b[0m\n\u001b[1;32m    382\u001b[0m \u001b[38;5;28;01mdef\u001b[39;00m \u001b[38;5;21m_fit\u001b[39m(\u001b[38;5;28mself\u001b[39m, dataset: DataFrame) \u001b[38;5;241m-\u001b[39m\u001b[38;5;241m>\u001b[39m JM:\n\u001b[0;32m--> 383\u001b[0m     java_model \u001b[38;5;241m=\u001b[39m \u001b[38;5;28;43mself\u001b[39;49m\u001b[38;5;241;43m.\u001b[39;49m\u001b[43m_fit_java\u001b[49m\u001b[43m(\u001b[49m\u001b[43mdataset\u001b[49m\u001b[43m)\u001b[49m\n\u001b[1;32m    384\u001b[0m     model \u001b[38;5;241m=\u001b[39m \u001b[38;5;28mself\u001b[39m\u001b[38;5;241m.\u001b[39m_create_model(java_model)\n\u001b[1;32m    385\u001b[0m     \u001b[38;5;28;01mreturn\u001b[39;00m \u001b[38;5;28mself\u001b[39m\u001b[38;5;241m.\u001b[39m_copyValues(model)\n",
      "File \u001b[0;32m/usr/local/spark/python/pyspark/ml/wrapper.py:380\u001b[0m, in \u001b[0;36mJavaEstimator._fit_java\u001b[0;34m(self, dataset)\u001b[0m\n\u001b[1;32m    377\u001b[0m \u001b[38;5;28;01massert\u001b[39;00m \u001b[38;5;28mself\u001b[39m\u001b[38;5;241m.\u001b[39m_java_obj \u001b[38;5;129;01mis\u001b[39;00m \u001b[38;5;129;01mnot\u001b[39;00m \u001b[38;5;28;01mNone\u001b[39;00m\n\u001b[1;32m    379\u001b[0m \u001b[38;5;28mself\u001b[39m\u001b[38;5;241m.\u001b[39m_transfer_params_to_java()\n\u001b[0;32m--> 380\u001b[0m \u001b[38;5;28;01mreturn\u001b[39;00m \u001b[38;5;28;43mself\u001b[39;49m\u001b[38;5;241;43m.\u001b[39;49m\u001b[43m_java_obj\u001b[49m\u001b[38;5;241;43m.\u001b[39;49m\u001b[43mfit\u001b[49m\u001b[43m(\u001b[49m\u001b[43mdataset\u001b[49m\u001b[38;5;241;43m.\u001b[39;49m\u001b[43m_jdf\u001b[49m\u001b[43m)\u001b[49m\n",
      "File \u001b[0;32m/usr/local/spark/python/lib/py4j-0.10.9.5-src.zip/py4j/java_gateway.py:1321\u001b[0m, in \u001b[0;36mJavaMember.__call__\u001b[0;34m(self, *args)\u001b[0m\n\u001b[1;32m   1315\u001b[0m command \u001b[38;5;241m=\u001b[39m proto\u001b[38;5;241m.\u001b[39mCALL_COMMAND_NAME \u001b[38;5;241m+\u001b[39m\\\n\u001b[1;32m   1316\u001b[0m     \u001b[38;5;28mself\u001b[39m\u001b[38;5;241m.\u001b[39mcommand_header \u001b[38;5;241m+\u001b[39m\\\n\u001b[1;32m   1317\u001b[0m     args_command \u001b[38;5;241m+\u001b[39m\\\n\u001b[1;32m   1318\u001b[0m     proto\u001b[38;5;241m.\u001b[39mEND_COMMAND_PART\n\u001b[1;32m   1320\u001b[0m answer \u001b[38;5;241m=\u001b[39m \u001b[38;5;28mself\u001b[39m\u001b[38;5;241m.\u001b[39mgateway_client\u001b[38;5;241m.\u001b[39msend_command(command)\n\u001b[0;32m-> 1321\u001b[0m return_value \u001b[38;5;241m=\u001b[39m \u001b[43mget_return_value\u001b[49m\u001b[43m(\u001b[49m\n\u001b[1;32m   1322\u001b[0m \u001b[43m    \u001b[49m\u001b[43manswer\u001b[49m\u001b[43m,\u001b[49m\u001b[43m \u001b[49m\u001b[38;5;28;43mself\u001b[39;49m\u001b[38;5;241;43m.\u001b[39;49m\u001b[43mgateway_client\u001b[49m\u001b[43m,\u001b[49m\u001b[43m \u001b[49m\u001b[38;5;28;43mself\u001b[39;49m\u001b[38;5;241;43m.\u001b[39;49m\u001b[43mtarget_id\u001b[49m\u001b[43m,\u001b[49m\u001b[43m \u001b[49m\u001b[38;5;28;43mself\u001b[39;49m\u001b[38;5;241;43m.\u001b[39;49m\u001b[43mname\u001b[49m\u001b[43m)\u001b[49m\n\u001b[1;32m   1324\u001b[0m \u001b[38;5;28;01mfor\u001b[39;00m temp_arg \u001b[38;5;129;01min\u001b[39;00m temp_args:\n\u001b[1;32m   1325\u001b[0m     temp_arg\u001b[38;5;241m.\u001b[39m_detach()\n",
      "File \u001b[0;32m/usr/local/spark/python/pyspark/sql/utils.py:196\u001b[0m, in \u001b[0;36mcapture_sql_exception.<locals>.deco\u001b[0;34m(*a, **kw)\u001b[0m\n\u001b[1;32m    192\u001b[0m converted \u001b[38;5;241m=\u001b[39m convert_exception(e\u001b[38;5;241m.\u001b[39mjava_exception)\n\u001b[1;32m    193\u001b[0m \u001b[38;5;28;01mif\u001b[39;00m \u001b[38;5;129;01mnot\u001b[39;00m \u001b[38;5;28misinstance\u001b[39m(converted, UnknownException):\n\u001b[1;32m    194\u001b[0m     \u001b[38;5;66;03m# Hide where the exception came from that shows a non-Pythonic\u001b[39;00m\n\u001b[1;32m    195\u001b[0m     \u001b[38;5;66;03m# JVM exception message.\u001b[39;00m\n\u001b[0;32m--> 196\u001b[0m     \u001b[38;5;28;01mraise\u001b[39;00m converted \u001b[38;5;28;01mfrom\u001b[39;00m \u001b[38;5;28mNone\u001b[39m\n\u001b[1;32m    197\u001b[0m \u001b[38;5;28;01melse\u001b[39;00m:\n\u001b[1;32m    198\u001b[0m     \u001b[38;5;28;01mraise\u001b[39;00m\n",
      "\u001b[0;31mIllegalArgumentException\u001b[0m: requirement failed: Output column default_index already exists."
     ]
    }
   ],
   "source": [
    "default_index = StringIndexer(inputCol = 'default', outputCol = 'default_index')\n",
    "data = default_index.fit(data).transform(data)"
   ]
  },
  {
   "cell_type": "code",
   "execution_count": 20,
   "id": "008dbd15-4cdd-4dd1-b3b0-9bbe8e6ccfa7",
   "metadata": {},
   "outputs": [
    {
     "name": "stdout",
     "output_type": "stream",
     "text": [
      "+---+------------+--------+---------+-------+-------+-------+----+-------+---+-----+--------+--------+-----+--------+--------+---+-----------+-------------+\n",
      "|age|         job| marital|education|default|balance|housing|loan|contact|day|month|duration|campaign|pdays|previous|poutcome|  y|converted_y|default_index|\n",
      "+---+------------+--------+---------+-------+-------+-------+----+-------+---+-----+--------+--------+-----+--------+--------+---+-----------+-------------+\n",
      "| 58|  management| married| tertiary|     no|   2143|    yes|  no|unknown|  5|  may|     261|       1|   -1|       0| unknown| no|        0.0|          0.0|\n",
      "| 44|  technician|  single|secondary|     no|     29|    yes|  no|unknown|  5|  may|     151|       1|   -1|       0| unknown| no|        0.0|          0.0|\n",
      "| 33|entrepreneur| married|secondary|     no|      2|    yes| yes|unknown|  5|  may|      76|       1|   -1|       0| unknown| no|        0.0|          0.0|\n",
      "| 47| blue-collar| married|  unknown|     no|   1506|    yes|  no|unknown|  5|  may|      92|       1|   -1|       0| unknown| no|        0.0|          0.0|\n",
      "| 33|     unknown|  single|  unknown|     no|      1|     no|  no|unknown|  5|  may|     198|       1|   -1|       0| unknown| no|        0.0|          0.0|\n",
      "| 35|  management| married| tertiary|     no|    231|    yes|  no|unknown|  5|  may|     139|       1|   -1|       0| unknown| no|        0.0|          0.0|\n",
      "| 28|  management|  single| tertiary|     no|    447|    yes| yes|unknown|  5|  may|     217|       1|   -1|       0| unknown| no|        0.0|          0.0|\n",
      "| 42|entrepreneur|divorced| tertiary|    yes|      2|    yes|  no|unknown|  5|  may|     380|       1|   -1|       0| unknown| no|        0.0|          1.0|\n",
      "| 58|     retired| married|  primary|     no|    121|    yes|  no|unknown|  5|  may|      50|       1|   -1|       0| unknown| no|        0.0|          0.0|\n",
      "| 43|  technician|  single|secondary|     no|    593|    yes|  no|unknown|  5|  may|      55|       1|   -1|       0| unknown| no|        0.0|          0.0|\n",
      "| 41|      admin.|divorced|secondary|     no|    270|    yes|  no|unknown|  5|  may|     222|       1|   -1|       0| unknown| no|        0.0|          0.0|\n",
      "| 29|      admin.|  single|secondary|     no|    390|    yes|  no|unknown|  5|  may|     137|       1|   -1|       0| unknown| no|        0.0|          0.0|\n",
      "| 53|  technician| married|secondary|     no|      6|    yes|  no|unknown|  5|  may|     517|       1|   -1|       0| unknown| no|        0.0|          0.0|\n",
      "| 58|  technician| married|  unknown|     no|     71|    yes|  no|unknown|  5|  may|      71|       1|   -1|       0| unknown| no|        0.0|          0.0|\n",
      "| 57|    services| married|secondary|     no|    162|    yes|  no|unknown|  5|  may|     174|       1|   -1|       0| unknown| no|        0.0|          0.0|\n",
      "| 51|     retired| married|  primary|     no|    229|    yes|  no|unknown|  5|  may|     353|       1|   -1|       0| unknown| no|        0.0|          0.0|\n",
      "| 45|      admin.|  single|  unknown|     no|     13|    yes|  no|unknown|  5|  may|      98|       1|   -1|       0| unknown| no|        0.0|          0.0|\n",
      "| 57| blue-collar| married|  primary|     no|     52|    yes|  no|unknown|  5|  may|      38|       1|   -1|       0| unknown| no|        0.0|          0.0|\n",
      "| 60|     retired| married|  primary|     no|     60|    yes|  no|unknown|  5|  may|     219|       1|   -1|       0| unknown| no|        0.0|          0.0|\n",
      "| 33|    services| married|secondary|     no|      0|    yes|  no|unknown|  5|  may|      54|       1|   -1|       0| unknown| no|        0.0|          0.0|\n",
      "+---+------------+--------+---------+-------+-------+-------+----+-------+---+-----+--------+--------+-----+--------+--------+---+-----------+-------------+\n",
      "only showing top 20 rows\n",
      "\n"
     ]
    }
   ],
   "source": [
    "data.show()"
   ]
  },
  {
   "cell_type": "markdown",
   "id": "70173852-6b4f-435b-9a4d-26e65c1c0759",
   "metadata": {},
   "source": [
    "#### 特徴量のアッセンブル化"
   ]
  },
  {
   "cell_type": "code",
   "execution_count": 31,
   "id": "851be724-2832-4cbf-be5e-cc4daeb70cca",
   "metadata": {},
   "outputs": [],
   "source": [
    "use_data = data.select(['age', 'balance', 'duration', 'campaign', 'previous', 'default_index', 'converted_y'])\n",
    "features = ['age', 'balance', 'duration', 'campaign', 'previous', 'default_index']\n",
    "assemble = VectorAssembler(inputCols = features, outputCol = 'features')\n",
    "df = assemble.transform(use_data)"
   ]
  },
  {
   "cell_type": "code",
   "execution_count": 11,
   "id": "6f01bb33-af14-45fd-ab28-f753c4892951",
   "metadata": {},
   "outputs": [],
   "source": [
    "pipeline = Pipeline(stages = [default_index, assemble, scaler, lr])"
   ]
  },
  {
   "cell_type": "markdown",
   "id": "55f6bcee-8e08-4de0-8cd0-1baadcb821cb",
   "metadata": {},
   "source": [
    "#### 訓練データ、テストデータの作成"
   ]
  },
  {
   "cell_type": "code",
   "execution_count": 33,
   "id": "b0ca2e16-8045-49ff-9ff1-80fb915a4e39",
   "metadata": {},
   "outputs": [],
   "source": [
    "train_df, test_df = df.randomSplit([0.7, 0.3], seed = 1)"
   ]
  },
  {
   "cell_type": "markdown",
   "id": "5f274ecd-0b4b-4f4c-b1a3-51545bbb5588",
   "metadata": {},
   "source": [
    "#### ランダムフォレストのインスタンス化"
   ]
  },
  {
   "cell_type": "code",
   "execution_count": 39,
   "id": "7e255e26-80b8-4010-8152-2c5ec5a23ac2",
   "metadata": {},
   "outputs": [],
   "source": [
    "clf = RandomForestClassifier(featuresCol = 'features', labelCol = 'converted_y', impurity = 'gini')"
   ]
  },
  {
   "cell_type": "markdown",
   "id": "44ffb99d-a261-4ec5-9148-5d520695fbaf",
   "metadata": {},
   "source": [
    "#### 学習・モデルの確認"
   ]
  },
  {
   "cell_type": "code",
   "execution_count": 40,
   "id": "c4076cc7-8364-48dd-8b04-f7bda12480ab",
   "metadata": {},
   "outputs": [],
   "source": [
    "model = clf.fit(train_df)"
   ]
  },
  {
   "cell_type": "code",
   "execution_count": 42,
   "id": "b9cfb021-71e9-4983-847a-de1d57dbc791",
   "metadata": {},
   "outputs": [
    {
     "data": {
      "text/plain": [
       "[('age', 0.09087071851444256),\n",
       " ('balance', 0.024584708285500398),\n",
       " ('duration', 0.7533667648196009),\n",
       " ('campaign', 0.008547053468375754),\n",
       " ('previous', 0.12224716403624954),\n",
       " ('default_index', 0.0003835908758308951)]"
      ]
     },
     "execution_count": 42,
     "metadata": {},
     "output_type": "execute_result"
    }
   ],
   "source": [
    "list(zip(features, model.featureImportances))"
   ]
  },
  {
   "cell_type": "markdown",
   "id": "0725da5a-79e5-45d2-a3ae-338c4ec687a0",
   "metadata": {},
   "source": [
    "#### 推論"
   ]
  },
  {
   "cell_type": "code",
   "execution_count": 43,
   "id": "45ddeb88-a331-49aa-82d7-e3c4f105e930",
   "metadata": {},
   "outputs": [
    {
     "name": "stdout",
     "output_type": "stream",
     "text": [
      "+---+-------+--------+--------+--------+-------------+-----------+--------------------+--------------------+--------------------+----------+\n",
      "|age|balance|duration|campaign|previous|default_index|converted_y|            features|       rawPrediction|         probability|prediction|\n",
      "+---+-------+--------+--------+--------+-------------+-----------+--------------------+--------------------+--------------------+----------+\n",
      "| 18|    108|     167|       1|       0|          0.0|        1.0|[18.0,108.0,167.0...|[18.9573529299031...|[0.94786764649515...|       0.0|\n",
      "| 18|    608|     267|       1|       0|          0.0|        1.0|[18.0,608.0,267.0...|[18.2993006871985...|[0.91496503435992...|       0.0|\n",
      "| 18|   1944|     122|       3|       0|          0.0|        0.0|[18.0,1944.0,122....|[18.9724096512982...|[0.94862048256491...|       0.0|\n",
      "| 19|      0|      72|       4|       0|          0.0|        0.0|[19.0,0.0,72.0,4....|[19.1300805309482...|[0.95650402654741...|       0.0|\n",
      "| 19|     56|     246|       1|       0|          0.0|        0.0|[19.0,56.0,246.0,...|[18.8851387931137...|[0.94425693965568...|       0.0|\n",
      "| 19|     60|     253|       1|       0|          0.0|        0.0|[19.0,60.0,253.0,...|[18.8283355666225...|[0.94141677833112...|       0.0|\n",
      "| 19|     96|     106|       3|       0|          0.0|        0.0|[19.0,96.0,106.0,...|[19.0037160002553...|[0.95018580001276...|       0.0|\n",
      "| 19|    103|     104|       2|       0|          0.0|        1.0|[19.0,103.0,104.0...|[19.0037160002553...|[0.95018580001276...|       0.0|\n",
      "| 19|    134|     271|       2|       0|          0.0|        1.0|[19.0,134.0,271.0...|[18.3512153196751...|[0.91756076598375...|       0.0|\n",
      "| 19|    291|     291|       5|       0|          0.0|        0.0|[19.0,291.0,291.0...|[18.3500753946493...|[0.91750376973246...|       0.0|\n",
      "| 19|    626|     117|       1|       0|          0.0|        0.0|[19.0,626.0,117.0...|[18.9518013677788...|[0.94759006838894...|       0.0|\n",
      "| 19|   5368|      77|       6|       0|          0.0|        0.0|[19.0,5368.0,77.0...|[19.0375615451329...|[0.95187807725664...|       0.0|\n",
      "| 20|   -322|      73|       4|       0|          0.0|        0.0|[20.0,-322.0,73.0...|[19.1300805309482...|[0.95650402654741...|       0.0|\n",
      "| 20|   -172|     238|       3|       0|          0.0|        0.0|[20.0,-172.0,238....|[18.9908155176929...|[0.94954077588464...|       0.0|\n",
      "| 20|   -103|     180|       1|       0|          0.0|        0.0|[20.0,-103.0,180....|[18.9717301976978...|[0.94858650988489...|       0.0|\n",
      "| 20|     53|     203|       1|       0|          0.0|        0.0|[20.0,53.0,203.0,...|[18.8851387931137...|[0.94425693965568...|       0.0|\n",
      "| 20|     66|      75|       2|       0|          0.0|        0.0|[20.0,66.0,75.0,2...|[19.0037160002553...|[0.95018580001276...|       0.0|\n",
      "| 20|     67|     387|       1|       0|          0.0|        0.0|[20.0,67.0,387.0,...|[18.5891488028268...|[0.92945744014134...|       0.0|\n",
      "| 20|     76|     639|       2|       0|          0.0|        1.0|[20.0,76.0,639.0,...|[14.3183921071888...|[0.71591960535944...|       0.0|\n",
      "| 20|     79|     168|       3|       0|          0.0|        0.0|[20.0,79.0,168.0,...|[19.0037160002553...|[0.95018580001276...|       0.0|\n",
      "+---+-------+--------+--------+--------+-------------+-----------+--------------------+--------------------+--------------------+----------+\n",
      "only showing top 20 rows\n",
      "\n"
     ]
    }
   ],
   "source": [
    "# 訓練データの推論\n",
    "pred_train = model.transform(train_df)\n",
    "pred_train.show()"
   ]
  },
  {
   "cell_type": "code",
   "execution_count": 44,
   "id": "414c4d63-8e02-4f6c-be91-d265f31b9f7d",
   "metadata": {},
   "outputs": [
    {
     "name": "stdout",
     "output_type": "stream",
     "text": [
      "+---+-------+--------+--------+--------+-------------+-----------+--------------------+--------------------+--------------------+----------+\n",
      "|age|balance|duration|campaign|previous|default_index|converted_y|            features|       rawPrediction|         probability|prediction|\n",
      "+---+-------+--------+--------+--------+-------------+-----------+--------------------+--------------------+--------------------+----------+\n",
      "| 19|      0|     123|       3|       0|          0.0|        0.0|[19.0,0.0,123.0,3...|[19.0649286371135...|[0.95324643185567...|       0.0|\n",
      "| 19|     27|      86|      12|       0|          0.0|        0.0|[19.0,27.0,86.0,1...|[19.1300805309482...|[0.95650402654741...|       0.0|\n",
      "| 19|    779|     184|       4|       0|          0.0|        1.0|[19.0,779.0,184.0...|[19.0008443780016...|[0.95004221890008...|       0.0|\n",
      "| 19|   1169|     463|      18|       0|          0.0|        0.0|[19.0,1169.0,463....|[17.7366943716801...|[0.88683471858400...|       0.0|\n",
      "| 19|   1247|      94|       1|       0|          0.0|        0.0|[19.0,1247.0,94.0...|[18.9416831658466...|[0.94708415829233...|       0.0|\n",
      "| 19|   1803|      59|       1|       0|          0.0|        0.0|[19.0,1803.0,59.0...|[18.9416831658466...|[0.94708415829233...|       0.0|\n",
      "| 19|   1803|     124|       1|       1|          0.0|        0.0|[19.0,1803.0,124....|[17.8678928586773...|[0.89339464293386...|       0.0|\n",
      "| 20|    130|      88|       1|       3|          0.0|        0.0|[20.0,130.0,88.0,...|[18.0441984807240...|[0.90220992403620...|       0.0|\n",
      "| 20|    292|      45|       1|       0|          0.0|        0.0|[20.0,292.0,45.0,...|[18.9633342138920...|[0.94816671069460...|       0.0|\n",
      "| 20|    292|     385|       2|       1|          0.0|        1.0|[20.0,292.0,385.0...|[14.6219322551171...|[0.73109661275585...|       0.0|\n",
      "| 20|    336|     133|       1|       0|          0.0|        0.0|[20.0,336.0,133.0...|[18.9633342138920...|[0.94816671069460...|       0.0|\n",
      "| 20|    556|      15|      10|       0|          0.0|        0.0|[20.0,556.0,15.0,...|[19.0476797470651...|[0.95238398735325...|       0.0|\n",
      "| 20|   1191|     274|       1|       0|          0.0|        0.0|[20.0,1191.0,274....|[18.2891824852663...|[0.91445912426331...|       0.0|\n",
      "| 20|   1681|     130|       1|       0|          0.0|        0.0|[20.0,1681.0,130....|[18.9416831658466...|[0.94708415829233...|       0.0|\n",
      "| 20|   1819|     245|       3|       0|          0.0|        1.0|[20.0,1819.0,245....|[18.8982965318776...|[0.94491482659388...|       0.0|\n",
      "| 21|   -172|     409|       1|       3|          0.0|        1.0|[21.0,-172.0,409....|[15.3108091964881...|[0.76554045982440...|       0.0|\n",
      "| 21|      0|     168|       5|       0|          0.0|        0.0|[21.0,0.0,168.0,5...|[19.1300805309482...|[0.95650402654741...|       0.0|\n",
      "| 21|     64|      16|       1|       0|          0.0|        0.0|[21.0,64.0,16.0,1...|[18.9573529299031...|[0.94786764649515...|       0.0|\n",
      "| 21|    164|     260|       1|       0|          0.0|        0.0|[21.0,164.0,260.0...|[18.3048522493229...|[0.91524261246614...|       0.0|\n",
      "| 21|    232|     110|       2|       0|          0.0|        0.0|[21.0,232.0,110.0...|[19.0096972842442...|[0.95048486421221...|       0.0|\n",
      "+---+-------+--------+--------+--------+-------------+-----------+--------------------+--------------------+--------------------+----------+\n",
      "only showing top 20 rows\n",
      "\n"
     ]
    }
   ],
   "source": [
    "# テストデータの推論\n",
    "pred_test = model.transform(test_df)\n",
    "pred_test.show()"
   ]
  },
  {
   "cell_type": "code",
   "execution_count": 45,
   "id": "b8a13ee5-fbbb-4aca-81b3-714a1a8bd362",
   "metadata": {},
   "outputs": [
    {
     "name": "stdout",
     "output_type": "stream",
     "text": [
      "+----------------------------------------+----------+\n",
      "|probability                             |prediction|\n",
      "+----------------------------------------+----------+\n",
      "|[0.9478676464951595,0.05213235350484048]|0.0       |\n",
      "|[0.9149650343599278,0.08503496564007215]|0.0       |\n",
      "|[0.9486204825649118,0.05137951743508819]|0.0       |\n",
      "|[0.9565040265474114,0.04349597345258869]|0.0       |\n",
      "|[0.9442569396556861,0.05574306034431386]|0.0       |\n",
      "|[0.9414167783311266,0.0585832216688734] |0.0       |\n",
      "|[0.9501858000127698,0.04981419998723034]|0.0       |\n",
      "|[0.9501858000127698,0.04981419998723034]|0.0       |\n",
      "|[0.9175607659837561,0.08243923401624388]|0.0       |\n",
      "|[0.9175037697324697,0.08249623026753022]|0.0       |\n",
      "|[0.9475900683889413,0.05240993161105863]|0.0       |\n",
      "|[0.9518780772566464,0.04812192274335364]|0.0       |\n",
      "|[0.9565040265474114,0.04349597345258869]|0.0       |\n",
      "|[0.949540775884645,0.05045922411535492] |0.0       |\n",
      "|[0.9485865098848943,0.05141349011510565]|0.0       |\n",
      "|[0.9442569396556861,0.05574306034431386]|0.0       |\n",
      "|[0.9501858000127698,0.04981419998723034]|0.0       |\n",
      "|[0.9294574401413408,0.07054255985865916]|0.0       |\n",
      "|[0.7159196053594445,0.2840803946405554] |0.0       |\n",
      "|[0.9501858000127698,0.04981419998723034]|0.0       |\n",
      "+----------------------------------------+----------+\n",
      "only showing top 20 rows\n",
      "\n"
     ]
    }
   ],
   "source": [
    "# predictionは予測結果\n",
    "# probabilityは0である確率と、1である確率をそれぞれ表す\n",
    "pred_train.select(['probability', 'prediction']).show(truncate = False)"
   ]
  },
  {
   "cell_type": "markdown",
   "id": "bd062d0e-8460-4f73-9d52-91263214f843",
   "metadata": {},
   "source": [
    "#### 精度評価"
   ]
  },
  {
   "cell_type": "code",
   "execution_count": 46,
   "id": "89cabe7a-4708-4d84-b2ce-24d32a680002",
   "metadata": {},
   "outputs": [
    {
     "data": {
      "text/plain": [
       "0.8499073601518856"
      ]
     },
     "execution_count": 46,
     "metadata": {},
     "output_type": "execute_result"
    }
   ],
   "source": [
    "# 訓練データの精度評価\n",
    "evaluator = BinaryClassificationEvaluator(labelCol = 'converted_y')\n",
    "auc = evaluator.evaluate(pred_train)\n",
    "auc"
   ]
  },
  {
   "cell_type": "code",
   "execution_count": 47,
   "id": "3a3bb2de-1d29-4a99-a652-4cc636ac093a",
   "metadata": {},
   "outputs": [
    {
     "data": {
      "text/plain": [
       "0.8428355659500473"
      ]
     },
     "execution_count": 47,
     "metadata": {},
     "output_type": "execute_result"
    }
   ],
   "source": [
    "# テストデータの精度評価\n",
    "evaluator = BinaryClassificationEvaluator(labelCol = 'converted_y')\n",
    "auc = evaluator.evaluate(pred_test)\n",
    "auc"
   ]
  }
 ],
 "metadata": {
  "kernelspec": {
   "display_name": "Python 3 (ipykernel)",
   "language": "python",
   "name": "python3"
  },
  "language_info": {
   "codemirror_mode": {
    "name": "ipython",
    "version": 3
   },
   "file_extension": ".py",
   "mimetype": "text/x-python",
   "name": "python",
   "nbconvert_exporter": "python",
   "pygments_lexer": "ipython3",
   "version": "3.10.8"
  }
 },
 "nbformat": 4,
 "nbformat_minor": 5
}
