{
 "cells": [
  {
   "cell_type": "markdown",
   "id": "a352dbb5-8149-472a-92ed-1aea3794c23d",
   "metadata": {},
   "source": [
    "### Spark ML 線形重回帰による数値予測"
   ]
  },
  {
   "cell_type": "markdown",
   "id": "a7722c4d-4313-45fb-a9c5-5e5d38c39c56",
   "metadata": {},
   "source": [
    "* bank-fullのbalance列について数値予測する\n",
    "* 特徴量は簡易化のため、数値列と文字列の'default'列のみを使用する\n",
    "* 数値列は標準化を行う\n",
    "* 文字列はインデックス化（ラベルエンコーディング）を行う\n",
    "* 評価はRMSEにて行う"
   ]
  },
  {
   "cell_type": "code",
   "execution_count": 1,
   "id": "385c23a3-ab00-4183-8cea-221cb9f7a902",
   "metadata": {},
   "outputs": [],
   "source": [
    "import pandas as pd\n",
    "import numpy as np\n",
    "\n",
    "from pyspark.sql import SparkSession\n",
    "from pyspark.sql.functions import lit, when, col\n",
    "from pyspark.ml import Pipeline\n",
    "from pyspark.ml.feature import StringIndexer, VectorAssembler, StandardScaler\n",
    "from pyspark.ml.regression import LinearRegression\n",
    "from sklearn.metrics import mean_squared_error"
   ]
  },
  {
   "cell_type": "markdown",
   "id": "b7cae76b-4c16-45ec-b65d-e01fa036debe",
   "metadata": {},
   "source": [
    "#### SparkSessionの作成"
   ]
  },
  {
   "cell_type": "code",
   "execution_count": 2,
   "id": "4bd6ad64-91bd-44ec-9f5d-cdeb46085b87",
   "metadata": {},
   "outputs": [],
   "source": [
    "spark = SparkSession.builder.getOrCreate()"
   ]
  },
  {
   "cell_type": "markdown",
   "id": "e8a3ff7c-3a50-47bc-9af6-b5471a850b2f",
   "metadata": {},
   "source": [
    "#### データの読み込み"
   ]
  },
  {
   "cell_type": "code",
   "execution_count": 3,
   "id": "983485a8-4317-4b1d-b901-8dd245c250da",
   "metadata": {},
   "outputs": [],
   "source": [
    "data = spark.read.load('data/bank-full.csv',\n",
    "                       format = 'csv',\n",
    "                       sep = ';',\n",
    "                       header = True,\n",
    "                       inferSchema = True)"
   ]
  },
  {
   "cell_type": "code",
   "execution_count": 4,
   "id": "ff23a2fb-7228-45ac-8db0-f5a42d25331e",
   "metadata": {},
   "outputs": [
    {
     "name": "stdout",
     "output_type": "stream",
     "text": [
      "+---+------------+--------+---------+-------+-------+-------+----+-------+---+-----+--------+--------+-----+--------+--------+---+\n",
      "|age|         job| marital|education|default|balance|housing|loan|contact|day|month|duration|campaign|pdays|previous|poutcome|  y|\n",
      "+---+------------+--------+---------+-------+-------+-------+----+-------+---+-----+--------+--------+-----+--------+--------+---+\n",
      "| 58|  management| married| tertiary|     no|   2143|    yes|  no|unknown|  5|  may|     261|       1|   -1|       0| unknown| no|\n",
      "| 44|  technician|  single|secondary|     no|     29|    yes|  no|unknown|  5|  may|     151|       1|   -1|       0| unknown| no|\n",
      "| 33|entrepreneur| married|secondary|     no|      2|    yes| yes|unknown|  5|  may|      76|       1|   -1|       0| unknown| no|\n",
      "| 47| blue-collar| married|  unknown|     no|   1506|    yes|  no|unknown|  5|  may|      92|       1|   -1|       0| unknown| no|\n",
      "| 33|     unknown|  single|  unknown|     no|      1|     no|  no|unknown|  5|  may|     198|       1|   -1|       0| unknown| no|\n",
      "| 35|  management| married| tertiary|     no|    231|    yes|  no|unknown|  5|  may|     139|       1|   -1|       0| unknown| no|\n",
      "| 28|  management|  single| tertiary|     no|    447|    yes| yes|unknown|  5|  may|     217|       1|   -1|       0| unknown| no|\n",
      "| 42|entrepreneur|divorced| tertiary|    yes|      2|    yes|  no|unknown|  5|  may|     380|       1|   -1|       0| unknown| no|\n",
      "| 58|     retired| married|  primary|     no|    121|    yes|  no|unknown|  5|  may|      50|       1|   -1|       0| unknown| no|\n",
      "| 43|  technician|  single|secondary|     no|    593|    yes|  no|unknown|  5|  may|      55|       1|   -1|       0| unknown| no|\n",
      "| 41|      admin.|divorced|secondary|     no|    270|    yes|  no|unknown|  5|  may|     222|       1|   -1|       0| unknown| no|\n",
      "| 29|      admin.|  single|secondary|     no|    390|    yes|  no|unknown|  5|  may|     137|       1|   -1|       0| unknown| no|\n",
      "| 53|  technician| married|secondary|     no|      6|    yes|  no|unknown|  5|  may|     517|       1|   -1|       0| unknown| no|\n",
      "| 58|  technician| married|  unknown|     no|     71|    yes|  no|unknown|  5|  may|      71|       1|   -1|       0| unknown| no|\n",
      "| 57|    services| married|secondary|     no|    162|    yes|  no|unknown|  5|  may|     174|       1|   -1|       0| unknown| no|\n",
      "| 51|     retired| married|  primary|     no|    229|    yes|  no|unknown|  5|  may|     353|       1|   -1|       0| unknown| no|\n",
      "| 45|      admin.|  single|  unknown|     no|     13|    yes|  no|unknown|  5|  may|      98|       1|   -1|       0| unknown| no|\n",
      "| 57| blue-collar| married|  primary|     no|     52|    yes|  no|unknown|  5|  may|      38|       1|   -1|       0| unknown| no|\n",
      "| 60|     retired| married|  primary|     no|     60|    yes|  no|unknown|  5|  may|     219|       1|   -1|       0| unknown| no|\n",
      "| 33|    services| married|secondary|     no|      0|    yes|  no|unknown|  5|  may|      54|       1|   -1|       0| unknown| no|\n",
      "+---+------------+--------+---------+-------+-------+-------+----+-------+---+-----+--------+--------+-----+--------+--------+---+\n",
      "only showing top 20 rows\n",
      "\n"
     ]
    }
   ],
   "source": [
    "data.show()"
   ]
  },
  {
   "cell_type": "code",
   "execution_count": 5,
   "id": "4528b808-41d0-47c6-ab5c-6671d31050f8",
   "metadata": {},
   "outputs": [
    {
     "data": {
      "text/plain": [
       "[('age', 'int'),\n",
       " ('job', 'string'),\n",
       " ('marital', 'string'),\n",
       " ('education', 'string'),\n",
       " ('default', 'string'),\n",
       " ('balance', 'int'),\n",
       " ('housing', 'string'),\n",
       " ('loan', 'string'),\n",
       " ('contact', 'string'),\n",
       " ('day', 'int'),\n",
       " ('month', 'string'),\n",
       " ('duration', 'int'),\n",
       " ('campaign', 'int'),\n",
       " ('pdays', 'int'),\n",
       " ('previous', 'int'),\n",
       " ('poutcome', 'string'),\n",
       " ('y', 'string')]"
      ]
     },
     "execution_count": 5,
     "metadata": {},
     "output_type": "execute_result"
    }
   ],
   "source": [
    "data.dtypes"
   ]
  },
  {
   "cell_type": "markdown",
   "id": "f40c76eb-5e42-4855-a159-f090e31c0446",
   "metadata": {},
   "source": [
    "#### ①default列のインデックス化ステージ"
   ]
  },
  {
   "cell_type": "code",
   "execution_count": 6,
   "id": "feecf4aa-44e1-4ecd-b66e-e3a4fdd5b32a",
   "metadata": {},
   "outputs": [],
   "source": [
    "default_index = StringIndexer(inputCol = 'default', outputCol = 'default_index')"
   ]
  },
  {
   "cell_type": "markdown",
   "id": "7b8fc5a4-328f-4690-b35f-06d6b863b81c",
   "metadata": {},
   "source": [
    "#### ②特徴量のアッセンブル化ステージ"
   ]
  },
  {
   "cell_type": "code",
   "execution_count": 7,
   "id": "1e52f27c-b3a3-43cb-84f8-5e60b91c065d",
   "metadata": {},
   "outputs": [],
   "source": [
    "features = ['age', 'duration', 'campaign', 'previous', 'default_index']\n",
    "assemble = VectorAssembler(inputCols = features, outputCol = 'features')"
   ]
  },
  {
   "cell_type": "markdown",
   "id": "1b46eea7-c98c-4f09-8263-1a1ca26ac0e5",
   "metadata": {},
   "source": [
    "#### ③特徴量の標準化ステージ"
   ]
  },
  {
   "cell_type": "code",
   "execution_count": 8,
   "id": "33d2f4c2-3b8c-467f-a3fd-89183133ee37",
   "metadata": {},
   "outputs": [],
   "source": [
    "scaler = StandardScaler(inputCol = 'features', outputCol = 'scaled_features')"
   ]
  },
  {
   "cell_type": "markdown",
   "id": "3e64cf10-43e3-4840-8b86-eefc6568ee10",
   "metadata": {},
   "source": [
    "#### ④ロジスティック回帰のインスタンス化ステージ"
   ]
  },
  {
   "cell_type": "code",
   "execution_count": 9,
   "id": "f232035c-24cb-47a2-a124-308e9d431cb2",
   "metadata": {},
   "outputs": [],
   "source": [
    "lr = LinearRegression(featuresCol = 'scaled_features', labelCol = 'balance')"
   ]
  },
  {
   "cell_type": "markdown",
   "id": "3876d9c9-7846-44b6-8e63-932b5e32ae70",
   "metadata": {},
   "source": [
    "#### パイプラインの登録（①～④）"
   ]
  },
  {
   "cell_type": "code",
   "execution_count": 10,
   "id": "e2dc1bdf-7653-4ebe-91ed-cbaca000262a",
   "metadata": {},
   "outputs": [],
   "source": [
    "pipeline = Pipeline(stages= [default_index, assemble, scaler, lr])"
   ]
  },
  {
   "cell_type": "markdown",
   "id": "82a698f1-b3a4-4eb8-9b03-cd4870d476df",
   "metadata": {},
   "source": [
    "#### 訓練データ、テストデータの作成"
   ]
  },
  {
   "cell_type": "code",
   "execution_count": 11,
   "id": "258a6dd9-af7d-4251-9ab9-0b635f73e402",
   "metadata": {},
   "outputs": [],
   "source": [
    "df = data.select(['age', 'balance', 'duration', 'campaign', 'previous', 'default'])\n",
    "train_df, test_df = df.randomSplit([0.7, 0.3], seed = 1)"
   ]
  },
  {
   "cell_type": "markdown",
   "id": "733ac58b-a2c5-4e5e-b7da-3304498ae5d8",
   "metadata": {},
   "source": [
    "#### 学習・モデルの確認"
   ]
  },
  {
   "cell_type": "code",
   "execution_count": 12,
   "id": "6f605cd5-2e74-4c61-8bdc-dbb3177e4f85",
   "metadata": {},
   "outputs": [],
   "source": [
    "model = pipeline.fit(train_df)"
   ]
  },
  {
   "cell_type": "code",
   "execution_count": 13,
   "id": "2b9178e7-7922-4493-80b6-603408de54de",
   "metadata": {},
   "outputs": [
    {
     "data": {
      "text/plain": [
       "DenseVector([305.1062, 53.9093, -38.3768, 30.5633, -200.5981])"
      ]
     },
     "execution_count": 13,
     "metadata": {},
     "output_type": "execute_result"
    }
   ],
   "source": [
    "# 係数\n",
    "model.stages[3].coefficients"
   ]
  },
  {
   "cell_type": "code",
   "execution_count": 14,
   "id": "b1e9f12a-fafc-4b34-9381-06d096f201a9",
   "metadata": {},
   "outputs": [
    {
     "data": {
      "text/plain": [
       "191.97247324503448"
      ]
     },
     "execution_count": 14,
     "metadata": {},
     "output_type": "execute_result"
    }
   ],
   "source": [
    "# 切片\n",
    "model.stages[3].intercept"
   ]
  },
  {
   "cell_type": "markdown",
   "id": "75b566fa-fd91-4e93-b203-3ba8b6e2dddb",
   "metadata": {},
   "source": [
    "#### 推論"
   ]
  },
  {
   "cell_type": "code",
   "execution_count": 15,
   "id": "59a14758-635d-4469-bcc8-22345b60f644",
   "metadata": {},
   "outputs": [
    {
     "name": "stdout",
     "output_type": "stream",
     "text": [
      "+---+-------+--------+--------+--------+-------+-------------+--------------------+--------------------+-----------------+\n",
      "|age|balance|duration|campaign|previous|default|default_index|            features|     scaled_features|       prediction|\n",
      "+---+-------+--------+--------+--------+-------+-------------+--------------------+--------------------+-----------------+\n",
      "| 18|    108|     167|       1|       0|     no|          0.0|[18.0,167.0,1.0,0...|[1.69530409029658...|731.5546261499119|\n",
      "| 18|    608|     267|       1|       0|     no|          0.0|[18.0,267.0,1.0,0...|[1.69530409029658...|752.4158980570883|\n",
      "| 18|   1944|     122|       3|       0|     no|          0.0|[18.0,122.0,3.0,0...|[1.69530409029658...|697.1592887093236|\n",
      "| 19|      0|      72|       4|       0|     no|          0.0|[19.0,72.0,4.0,0....|[1.78948765086861...|702.9607541790599|\n",
      "| 19|     56|     246|       1|       0|     no|          0.0|[19.0,246.0,1.0,0...|[1.78948765086861...|776.7710149210851|\n",
      "| 19|     60|     253|       1|       0|     no|          0.0|[19.0,253.0,1.0,0...|[1.78948765086861...|778.2313039545875|\n",
      "| 19|     96|     106|       3|       0|     no|          0.0|[19.0,106.0,3.0,0...|[1.78948765086861...|722.5574691686793|\n",
      "| 19|    103|     104|       2|       0|     no|          0.0|[19.0,104.0,2.0,0...|[1.78948765086861...|734.6441262717151|\n",
      "| 19|    134|     271|       2|       0|     no|          0.0|[19.0,271.0,2.0,0...|[1.78948765086861...|769.4824503566998|\n",
      "| 19|    291|     291|       5|       0|     no|          0.0|[19.0,291.0,5.0,0...|[1.78948765086861...| 736.143057114597|\n",
      "| 19|    626|     117|       1|       0|     no|          0.0|[19.0,117.0,1.0,0...|[1.78948765086861...|749.8599741608275|\n",
      "| 19|   5368|      77|       6|       0|     no|          0.0|[19.0,77.0,6.0,0....|[1.78948765086861...|678.9960526920601|\n",
      "| 20|   -322|      73|       4|       0|     no|          0.0|[20.0,73.0,4.0,0....|[1.88367121144064...|731.9053508626358|\n",
      "| 20|   -172|     238|       3|       0|     no|          0.0|[20.0,238.0,3.0,0...|[1.88367121144064...|778.8303320506562|\n",
      "| 20|   -103|     180|       1|       0|     no|          0.0|[20.0,180.0,1.0,0...|[1.88367121144064...|791.7385594268527|\n",
      "| 20|     53|     203|       1|       0|     no|          0.0|[20.0,203.0,1.0,0...|[1.88367121144064...|796.5366519655033|\n",
      "| 20|     66|      75|       2|       0|     no|          0.0|[20.0,75.0,2.0,0....|[1.88367121144064...| 757.330341383138|\n",
      "| 20|     67|     387|       1|       0|     no|          0.0|[20.0,387.0,1.0,0...|[1.88367121144064...| 834.921392274708|\n",
      "| 20|     76|     639|       2|       0|     no|          0.0|[20.0,639.0,2.0,0...|[1.88367121144064...|874.9879149396132|\n",
      "| 20|     79|     168|       3|       0|     no|          0.0|[20.0,168.0,3.0,0...|[1.88367121144064...|764.2274417156328|\n",
      "+---+-------+--------+--------+--------+-------+-------------+--------------------+--------------------+-----------------+\n",
      "only showing top 20 rows\n",
      "\n"
     ]
    }
   ],
   "source": [
    "# 訓練データの推論\n",
    "pred_train = model.transform(train_df)\n",
    "pred_train.show()"
   ]
  },
  {
   "cell_type": "code",
   "execution_count": 16,
   "id": "a754c5e4-01da-4686-b9ee-664d016fb399",
   "metadata": {},
   "outputs": [
    {
     "name": "stdout",
     "output_type": "stream",
     "text": [
      "+---+-------+--------+--------+--------+-------+-------------+--------------------+--------------------+-----------------+\n",
      "|age|balance|duration|campaign|previous|default|default_index|            features|     scaled_features|       prediction|\n",
      "+---+-------+--------+--------+--------+-------+-------------+--------------------+--------------------+-----------------+\n",
      "| 19|      0|     123|       3|       0|     no|          0.0|[19.0,123.0,3.0,0...|[1.78948765086861...|726.1038853928993|\n",
      "| 19|     27|      86|      12|       0|     no|          0.0|[19.0,86.0,12.0,0...|[1.78948765086861...|605.8502719166297|\n",
      "| 19|    779|     184|       4|       0|     no|          0.0|[19.0,184.0,4.0,0...|[1.78948765086861...|726.3253787150976|\n",
      "| 19|   1169|     463|      18|       0|     no|          0.0|[19.0,463.0,18.0,...|[1.78948765086861...|609.4739717596086|\n",
      "| 19|   1247|      94|       1|       0|     no|          0.0|[19.0,94.0,1.0,0....|[1.78948765086861...| 745.061881622177|\n",
      "| 19|   1803|      59|       1|       0|     no|          0.0|[19.0,59.0,1.0,0....|[1.78948765086861...|737.7604364546652|\n",
      "| 19|   1803|     124|       1|       1|     no|          0.0|[19.0,124.0,1.0,1...|[1.78948765086861...|763.8374303093949|\n",
      "| 20|    130|      88|       1|       3|     no|          0.0|[20.0,88.0,1.0,3....|[1.88367121144064...|810.0976906174456|\n",
      "| 20|    292|      45|       1|       0|     no|          0.0|[20.0,45.0,1.0,0....|[1.88367121144064...|763.5758423521645|\n",
      "| 20|    292|     385|       2|       1|     no|          0.0|[20.0,385.0,2.0,1...|[1.88367121144064...|  834.51745141045|\n",
      "| 20|    336|     133|       1|       0|     no|          0.0|[20.0,133.0,1.0,0...|[1.88367121144064...|781.9337616304798|\n",
      "| 20|    556|      15|      10|       0|     no|          0.0|[20.0,15.0,10.0,0...|[1.88367121144064...|644.7825179093971|\n",
      "| 20|   1191|     274|       1|       0|     no|          0.0|[20.0,274.0,1.0,0...|[1.88367121144064...|811.3481550195986|\n",
      "| 20|   1681|     130|       1|       0|     no|          0.0|[20.0,130.0,1.0,0...|[1.88367121144064...|781.3079234732645|\n",
      "| 20|   1819|     245|       3|       0|     no|          0.0|[20.0,245.0,3.0,0...|[1.88367121144064...|780.2906210841586|\n",
      "| 21|   -172|     409|       1|       3|     no|          0.0|[21.0,409.0,1.0,3...|[1.97785477201267...| 905.798357403986|\n",
      "| 21|      0|     168|       5|       0|     no|          0.0|[21.0,168.0,5.0,0...|[1.97785477201267...| 767.955660597778|\n",
      "| 21|     64|      16|       1|       0|     no|          0.0|[21.0,16.0,1.0,0....|[1.97785477201267...|786.2620574635874|\n",
      "| 21|    164|     260|       1|       0|     no|          0.0|[21.0,260.0,1.0,0...|[1.97785477201267...|837.1635609170979|\n",
      "| 21|    232|     110|       2|       0|     no|          0.0|[21.0,110.0,2.0,0...|[1.97785477201267...|793.3677705151538|\n",
      "+---+-------+--------+--------+--------+-------+-------------+--------------------+--------------------+-----------------+\n",
      "only showing top 20 rows\n",
      "\n"
     ]
    }
   ],
   "source": [
    "# テストデータの推論\n",
    "pred_test = model.transform(test_df)\n",
    "pred_test.show()"
   ]
  },
  {
   "cell_type": "markdown",
   "id": "87a1eaa7-3837-400d-aec4-1bcf6479f9bf",
   "metadata": {},
   "source": [
    "#### 精度評価"
   ]
  },
  {
   "cell_type": "code",
   "execution_count": 17,
   "id": "9fc44ea3-eaaa-4719-87ba-d767473c0710",
   "metadata": {},
   "outputs": [
    {
     "data": {
      "text/plain": [
       "3083.9550864640278"
      ]
     },
     "execution_count": 17,
     "metadata": {},
     "output_type": "execute_result"
    }
   ],
   "source": [
    "# 訓練データの精度評価\n",
    "pred_train_pandas = pred_train.toPandas()\n",
    "rmse = np.sqrt(mean_squared_error(pred_train_pandas['balance'], pred_train_pandas['prediction']))\n",
    "rmse"
   ]
  },
  {
   "cell_type": "code",
   "execution_count": 18,
   "id": "e3e3c430-a4a1-4d8c-9c4e-00b56bfa1959",
   "metadata": {},
   "outputs": [
    {
     "data": {
      "text/plain": [
       "2873.365122582927"
      ]
     },
     "execution_count": 18,
     "metadata": {},
     "output_type": "execute_result"
    }
   ],
   "source": [
    "# テストデータの精度評価\n",
    "pred_test_pandas = pred_test.toPandas()\n",
    "rmse = np.sqrt(mean_squared_error(pred_test_pandas['balance'], pred_test_pandas['prediction']))\n",
    "rmse"
   ]
  }
 ],
 "metadata": {
  "kernelspec": {
   "display_name": "Python 3 (ipykernel)",
   "language": "python",
   "name": "python3"
  },
  "language_info": {
   "codemirror_mode": {
    "name": "ipython",
    "version": 3
   },
   "file_extension": ".py",
   "mimetype": "text/x-python",
   "name": "python",
   "nbconvert_exporter": "python",
   "pygments_lexer": "ipython3",
   "version": "3.10.8"
  }
 },
 "nbformat": 4,
 "nbformat_minor": 5
}
