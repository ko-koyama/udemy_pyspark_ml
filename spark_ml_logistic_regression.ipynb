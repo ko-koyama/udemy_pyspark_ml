{
 "cells": [
  {
   "cell_type": "markdown",
   "id": "48fb0aa8-dd0d-4954-a5f1-95c85e1c3c83",
   "metadata": {},
   "source": [
    "### Spark ML ロジスティック回帰による分類予測"
   ]
  },
  {
   "cell_type": "markdown",
   "id": "dea0f1cf-40ed-4af2-85a4-d65eb1fb203d",
   "metadata": {},
   "source": [
    "* bank-fullのy列について分類予測する\n",
    "* 特徴量は簡易化のため、数値列と文字列の'default'列のみを使用する\n",
    "* 数値列は標準化を行う\n",
    "* 文字列はインデックス化（ラベルエンコーディング）を行う\n",
    "* 評価はAUCにて行う"
   ]
  },
  {
   "cell_type": "code",
   "execution_count": 1,
   "id": "a4f1acef-d023-48ee-bb75-1ab16e3d5d85",
   "metadata": {},
   "outputs": [],
   "source": [
    "import pandas as pd\n",
    "import numpy as np\n",
    "\n",
    "from pyspark.sql import SparkSession\n",
    "from pyspark.sql.functions import lit, when, col\n",
    "from pyspark.ml import Pipeline\n",
    "from pyspark.ml.feature import StringIndexer, VectorAssembler, StandardScaler\n",
    "from pyspark.ml.classification import LogisticRegression\n",
    "from pyspark.ml.evaluation import BinaryClassificationEvaluator"
   ]
  },
  {
   "cell_type": "markdown",
   "id": "9498e653-c141-46de-83e1-38288001cf13",
   "metadata": {},
   "source": [
    "#### SparkSessionの作成"
   ]
  },
  {
   "cell_type": "code",
   "execution_count": 2,
   "id": "11a61b74-0da7-4000-b2a1-32ac79bf2ce0",
   "metadata": {},
   "outputs": [],
   "source": [
    "spark = SparkSession.builder.getOrCreate()"
   ]
  },
  {
   "cell_type": "markdown",
   "id": "4246e712-1464-43d7-af86-921c65e08c7f",
   "metadata": {},
   "source": [
    "#### データの読み込み"
   ]
  },
  {
   "cell_type": "code",
   "execution_count": 3,
   "id": "883113bc-5db9-4091-9f4d-c446b14c77fb",
   "metadata": {},
   "outputs": [],
   "source": [
    "data = spark.read.load('data/bank-full.csv',\n",
    "                       format = 'csv',\n",
    "                       sep = ';',\n",
    "                       header = True,\n",
    "                       inferSchema = True)"
   ]
  },
  {
   "cell_type": "code",
   "execution_count": 4,
   "id": "a0b42513-7293-41b8-a9d5-a840c7a8baa9",
   "metadata": {},
   "outputs": [
    {
     "name": "stdout",
     "output_type": "stream",
     "text": [
      "+---+------------+--------+---------+-------+-------+-------+----+-------+---+-----+--------+--------+-----+--------+--------+---+\n",
      "|age|         job| marital|education|default|balance|housing|loan|contact|day|month|duration|campaign|pdays|previous|poutcome|  y|\n",
      "+---+------------+--------+---------+-------+-------+-------+----+-------+---+-----+--------+--------+-----+--------+--------+---+\n",
      "| 58|  management| married| tertiary|     no|   2143|    yes|  no|unknown|  5|  may|     261|       1|   -1|       0| unknown| no|\n",
      "| 44|  technician|  single|secondary|     no|     29|    yes|  no|unknown|  5|  may|     151|       1|   -1|       0| unknown| no|\n",
      "| 33|entrepreneur| married|secondary|     no|      2|    yes| yes|unknown|  5|  may|      76|       1|   -1|       0| unknown| no|\n",
      "| 47| blue-collar| married|  unknown|     no|   1506|    yes|  no|unknown|  5|  may|      92|       1|   -1|       0| unknown| no|\n",
      "| 33|     unknown|  single|  unknown|     no|      1|     no|  no|unknown|  5|  may|     198|       1|   -1|       0| unknown| no|\n",
      "| 35|  management| married| tertiary|     no|    231|    yes|  no|unknown|  5|  may|     139|       1|   -1|       0| unknown| no|\n",
      "| 28|  management|  single| tertiary|     no|    447|    yes| yes|unknown|  5|  may|     217|       1|   -1|       0| unknown| no|\n",
      "| 42|entrepreneur|divorced| tertiary|    yes|      2|    yes|  no|unknown|  5|  may|     380|       1|   -1|       0| unknown| no|\n",
      "| 58|     retired| married|  primary|     no|    121|    yes|  no|unknown|  5|  may|      50|       1|   -1|       0| unknown| no|\n",
      "| 43|  technician|  single|secondary|     no|    593|    yes|  no|unknown|  5|  may|      55|       1|   -1|       0| unknown| no|\n",
      "| 41|      admin.|divorced|secondary|     no|    270|    yes|  no|unknown|  5|  may|     222|       1|   -1|       0| unknown| no|\n",
      "| 29|      admin.|  single|secondary|     no|    390|    yes|  no|unknown|  5|  may|     137|       1|   -1|       0| unknown| no|\n",
      "| 53|  technician| married|secondary|     no|      6|    yes|  no|unknown|  5|  may|     517|       1|   -1|       0| unknown| no|\n",
      "| 58|  technician| married|  unknown|     no|     71|    yes|  no|unknown|  5|  may|      71|       1|   -1|       0| unknown| no|\n",
      "| 57|    services| married|secondary|     no|    162|    yes|  no|unknown|  5|  may|     174|       1|   -1|       0| unknown| no|\n",
      "| 51|     retired| married|  primary|     no|    229|    yes|  no|unknown|  5|  may|     353|       1|   -1|       0| unknown| no|\n",
      "| 45|      admin.|  single|  unknown|     no|     13|    yes|  no|unknown|  5|  may|      98|       1|   -1|       0| unknown| no|\n",
      "| 57| blue-collar| married|  primary|     no|     52|    yes|  no|unknown|  5|  may|      38|       1|   -1|       0| unknown| no|\n",
      "| 60|     retired| married|  primary|     no|     60|    yes|  no|unknown|  5|  may|     219|       1|   -1|       0| unknown| no|\n",
      "| 33|    services| married|secondary|     no|      0|    yes|  no|unknown|  5|  may|      54|       1|   -1|       0| unknown| no|\n",
      "+---+------------+--------+---------+-------+-------+-------+----+-------+---+-----+--------+--------+-----+--------+--------+---+\n",
      "only showing top 20 rows\n",
      "\n"
     ]
    }
   ],
   "source": [
    "data.show()"
   ]
  },
  {
   "cell_type": "code",
   "execution_count": 5,
   "id": "9d39dbf9-f689-4e45-be01-d6b9a02c5a61",
   "metadata": {},
   "outputs": [
    {
     "data": {
      "text/plain": [
       "[('age', 'int'),\n",
       " ('job', 'string'),\n",
       " ('marital', 'string'),\n",
       " ('education', 'string'),\n",
       " ('default', 'string'),\n",
       " ('balance', 'int'),\n",
       " ('housing', 'string'),\n",
       " ('loan', 'string'),\n",
       " ('contact', 'string'),\n",
       " ('day', 'int'),\n",
       " ('month', 'string'),\n",
       " ('duration', 'int'),\n",
       " ('campaign', 'int'),\n",
       " ('pdays', 'int'),\n",
       " ('previous', 'int'),\n",
       " ('poutcome', 'string'),\n",
       " ('y', 'string')]"
      ]
     },
     "execution_count": 5,
     "metadata": {},
     "output_type": "execute_result"
    }
   ],
   "source": [
    "data.dtypes"
   ]
  },
  {
   "cell_type": "markdown",
   "id": "e6822945-2f16-4664-b7bb-4f6f67df5a01",
   "metadata": {},
   "source": [
    "#### 目的変数の作成"
   ]
  },
  {
   "cell_type": "code",
   "execution_count": 6,
   "id": "be6576ad-3e4f-45d7-b40e-6e5005b8807d",
   "metadata": {},
   "outputs": [
    {
     "name": "stdout",
     "output_type": "stream",
     "text": [
      "+---+------------+--------+---------+-------+-------+-------+----+-------+---+-----+--------+--------+-----+--------+--------+---+-----------+\n",
      "|age|         job| marital|education|default|balance|housing|loan|contact|day|month|duration|campaign|pdays|previous|poutcome|  y|converted_y|\n",
      "+---+------------+--------+---------+-------+-------+-------+----+-------+---+-----+--------+--------+-----+--------+--------+---+-----------+\n",
      "| 58|  management| married| tertiary|     no|   2143|    yes|  no|unknown|  5|  may|     261|       1|   -1|       0| unknown| no|        0.0|\n",
      "| 44|  technician|  single|secondary|     no|     29|    yes|  no|unknown|  5|  may|     151|       1|   -1|       0| unknown| no|        0.0|\n",
      "| 33|entrepreneur| married|secondary|     no|      2|    yes| yes|unknown|  5|  may|      76|       1|   -1|       0| unknown| no|        0.0|\n",
      "| 47| blue-collar| married|  unknown|     no|   1506|    yes|  no|unknown|  5|  may|      92|       1|   -1|       0| unknown| no|        0.0|\n",
      "| 33|     unknown|  single|  unknown|     no|      1|     no|  no|unknown|  5|  may|     198|       1|   -1|       0| unknown| no|        0.0|\n",
      "| 35|  management| married| tertiary|     no|    231|    yes|  no|unknown|  5|  may|     139|       1|   -1|       0| unknown| no|        0.0|\n",
      "| 28|  management|  single| tertiary|     no|    447|    yes| yes|unknown|  5|  may|     217|       1|   -1|       0| unknown| no|        0.0|\n",
      "| 42|entrepreneur|divorced| tertiary|    yes|      2|    yes|  no|unknown|  5|  may|     380|       1|   -1|       0| unknown| no|        0.0|\n",
      "| 58|     retired| married|  primary|     no|    121|    yes|  no|unknown|  5|  may|      50|       1|   -1|       0| unknown| no|        0.0|\n",
      "| 43|  technician|  single|secondary|     no|    593|    yes|  no|unknown|  5|  may|      55|       1|   -1|       0| unknown| no|        0.0|\n",
      "| 41|      admin.|divorced|secondary|     no|    270|    yes|  no|unknown|  5|  may|     222|       1|   -1|       0| unknown| no|        0.0|\n",
      "| 29|      admin.|  single|secondary|     no|    390|    yes|  no|unknown|  5|  may|     137|       1|   -1|       0| unknown| no|        0.0|\n",
      "| 53|  technician| married|secondary|     no|      6|    yes|  no|unknown|  5|  may|     517|       1|   -1|       0| unknown| no|        0.0|\n",
      "| 58|  technician| married|  unknown|     no|     71|    yes|  no|unknown|  5|  may|      71|       1|   -1|       0| unknown| no|        0.0|\n",
      "| 57|    services| married|secondary|     no|    162|    yes|  no|unknown|  5|  may|     174|       1|   -1|       0| unknown| no|        0.0|\n",
      "| 51|     retired| married|  primary|     no|    229|    yes|  no|unknown|  5|  may|     353|       1|   -1|       0| unknown| no|        0.0|\n",
      "| 45|      admin.|  single|  unknown|     no|     13|    yes|  no|unknown|  5|  may|      98|       1|   -1|       0| unknown| no|        0.0|\n",
      "| 57| blue-collar| married|  primary|     no|     52|    yes|  no|unknown|  5|  may|      38|       1|   -1|       0| unknown| no|        0.0|\n",
      "| 60|     retired| married|  primary|     no|     60|    yes|  no|unknown|  5|  may|     219|       1|   -1|       0| unknown| no|        0.0|\n",
      "| 33|    services| married|secondary|     no|      0|    yes|  no|unknown|  5|  may|      54|       1|   -1|       0| unknown| no|        0.0|\n",
      "+---+------------+--------+---------+-------+-------+-------+----+-------+---+-----+--------+--------+-----+--------+--------+---+-----------+\n",
      "only showing top 20 rows\n",
      "\n"
     ]
    }
   ],
   "source": [
    "data = data.withColumn('converted_y', when(col('y') == 'yes', lit(1.0)).otherwise(lit(0.0)))\n",
    "data.show()"
   ]
  },
  {
   "cell_type": "markdown",
   "id": "d74b0051-f0a0-4f9a-a0d9-ed609cd68be0",
   "metadata": {},
   "source": [
    "#### ①default列のインデックス化ステージ"
   ]
  },
  {
   "cell_type": "code",
   "execution_count": 7,
   "id": "ae65aec4-00cd-4d17-9784-0d653bbe30a6",
   "metadata": {},
   "outputs": [],
   "source": [
    "default_index = StringIndexer(inputCol = 'default', outputCol = 'default_index')"
   ]
  },
  {
   "cell_type": "markdown",
   "id": "70173852-6b4f-435b-9a4d-26e65c1c0759",
   "metadata": {},
   "source": [
    "#### ②特徴量のアッセンブル化ステージ"
   ]
  },
  {
   "cell_type": "code",
   "execution_count": 8,
   "id": "851be724-2832-4cbf-be5e-cc4daeb70cca",
   "metadata": {},
   "outputs": [],
   "source": [
    "features = ['age', 'balance', 'duration', 'campaign', 'previous', 'default_index']\n",
    "assemble = VectorAssembler(inputCols = features, outputCol = 'features')"
   ]
  },
  {
   "cell_type": "markdown",
   "id": "6e7f977d-27d6-43b1-892f-eb64a7b00251",
   "metadata": {
    "tags": []
   },
   "source": [
    "#### ③特徴量の標準化ステージ"
   ]
  },
  {
   "cell_type": "code",
   "execution_count": 9,
   "id": "3c329f8e-d950-4ec2-ac82-31f59798d746",
   "metadata": {},
   "outputs": [],
   "source": [
    "scaler = StandardScaler(inputCol = 'features', outputCol = 'scaled_features')"
   ]
  },
  {
   "cell_type": "markdown",
   "id": "5f274ecd-0b4b-4f4c-b1a3-51545bbb5588",
   "metadata": {},
   "source": [
    "#### ④ロジスティック回帰のインスタンス化ステージ"
   ]
  },
  {
   "cell_type": "code",
   "execution_count": 10,
   "id": "7e255e26-80b8-4010-8152-2c5ec5a23ac2",
   "metadata": {},
   "outputs": [],
   "source": [
    "clf = LogisticRegression(featuresCol = 'scaled_features', labelCol = 'converted_y')"
   ]
  },
  {
   "cell_type": "markdown",
   "id": "f22173d8-63dc-4616-8bde-ea624990d64b",
   "metadata": {},
   "source": [
    "#### パイプラインの登録（①～④）"
   ]
  },
  {
   "cell_type": "code",
   "execution_count": 11,
   "id": "6f01bb33-af14-45fd-ab28-f753c4892951",
   "metadata": {},
   "outputs": [],
   "source": [
    "pipeline = Pipeline(stages = [default_index, assemble, scaler, clf])"
   ]
  },
  {
   "cell_type": "markdown",
   "id": "55f6bcee-8e08-4de0-8cd0-1baadcb821cb",
   "metadata": {},
   "source": [
    "#### 訓練データ、テストデータの作成"
   ]
  },
  {
   "cell_type": "code",
   "execution_count": 12,
   "id": "b0ca2e16-8045-49ff-9ff1-80fb915a4e39",
   "metadata": {},
   "outputs": [],
   "source": [
    "df = data.select(['age', 'balance', 'duration', 'campaign', 'previous', 'default', 'converted_y'])\n",
    "train_df, test_df = df.randomSplit([0.7, 0.3], seed = 1)"
   ]
  },
  {
   "cell_type": "markdown",
   "id": "44ffb99d-a261-4ec5-9148-5d520695fbaf",
   "metadata": {},
   "source": [
    "#### 学習・モデルの確認"
   ]
  },
  {
   "cell_type": "code",
   "execution_count": 13,
   "id": "c4076cc7-8364-48dd-8b04-f7bda12480ab",
   "metadata": {},
   "outputs": [],
   "source": [
    "model = pipeline.fit(train_df)"
   ]
  },
  {
   "cell_type": "code",
   "execution_count": 14,
   "id": "b9cfb021-71e9-4983-847a-de1d57dbc791",
   "metadata": {},
   "outputs": [
    {
     "data": {
      "text/plain": [
       "DenseVector([0.0805, 0.1095, 0.9311, -0.4427, 0.3169, -0.0549])"
      ]
     },
     "execution_count": 14,
     "metadata": {},
     "output_type": "execute_result"
    }
   ],
   "source": [
    "# 係数\n",
    "model.stages[3].coefficients"
   ]
  },
  {
   "cell_type": "code",
   "execution_count": 15,
   "id": "3d5adff6-d209-47be-b66c-dd3d1a2d7a75",
   "metadata": {},
   "outputs": [
    {
     "data": {
      "text/plain": [
       "-3.3476369699341983"
      ]
     },
     "execution_count": 15,
     "metadata": {},
     "output_type": "execute_result"
    }
   ],
   "source": [
    "# 切片\n",
    "model.stages[3].intercept"
   ]
  },
  {
   "cell_type": "markdown",
   "id": "0725da5a-79e5-45d2-a3ae-338c4ec687a0",
   "metadata": {},
   "source": [
    "#### 推論"
   ]
  },
  {
   "cell_type": "code",
   "execution_count": 16,
   "id": "45ddeb88-a331-49aa-82d7-e3c4f105e930",
   "metadata": {},
   "outputs": [
    {
     "name": "stdout",
     "output_type": "stream",
     "text": [
      "+---+-------+--------+--------+--------+-------+-----------+-------------+--------------------+--------------------+--------------------+--------------------+----------+\n",
      "|age|balance|duration|campaign|previous|default|converted_y|default_index|            features|     scaled_features|       rawPrediction|         probability|prediction|\n",
      "+---+-------+--------+--------+--------+-------+-----------+-------------+--------------------+--------------------+--------------------+--------------------+----------+\n",
      "| 18|    108|     167|       1|       0|     no|        1.0|          0.0|[18.0,108.0,167.0...|[1.69530409029658...|[2.74984510998285...|[0.93990460162342...|       0.0|\n",
      "| 18|    608|     267|       1|       0|     no|        1.0|          0.0|[18.0,608.0,267.0...|[1.69530409029658...|[2.37190871404581...|[0.91465996723821...|       0.0|\n",
      "| 18|   1944|     122|       3|       0|     no|        0.0|          0.0|[18.0,1944.0,122....|[1.69530409029658...|[3.13571448331020...|[0.95834212784433...|       0.0|\n",
      "| 19|      0|      72|       4|       0|     no|        0.0|          0.0|[19.0,0.0,72.0,4....|[1.78948765086861...|[3.52104728232269...|[0.97128073188375...|       0.0|\n",
      "| 19|     56|     246|       1|       0|     no|        0.0|          0.0|[19.0,56.0,246.0,...|[1.78948765086861...|[2.45945067746480...|[0.92124981947513...|       0.0|\n",
      "| 19|     60|     253|       1|       0|     no|        0.0|          0.0|[19.0,60.0,253.0,...|[1.78948765086861...|[2.43408799419663...|[0.91939002214747...|       0.0|\n",
      "| 19|     96|     106|       3|       0|     no|        0.0|          0.0|[19.0,96.0,106.0,...|[1.78948765086861...|[3.25092975386940...|[0.96270650768296...|       0.0|\n",
      "| 19|    103|     104|       2|       0|     no|        1.0|          0.0|[19.0,103.0,104.0...|[1.78948765086861...|[3.11366124199487...|[0.95745275376815...|       0.0|\n",
      "| 19|    134|     271|       2|       0|     no|        1.0|          0.0|[19.0,134.0,271.0...|[1.78948765086861...|[2.51085142902938...|[0.92489905285470...|       0.0|\n",
      "| 19|    291|     291|       5|       0|     no|        0.0|          0.0|[19.0,291.0,291.0...|[1.78948765086861...|[2.86593847050171...|[0.94613673894435...|       0.0|\n",
      "| 19|    626|     117|       1|       0|     no|        0.0|          0.0|[19.0,626.0,117.0...|[1.78948765086861...|[2.90415539262287...|[0.94805147095046...|       0.0|\n",
      "| 19|   5368|      77|       6|       0|     no|        0.0|          0.0|[19.0,5368.0,77.0...|[1.78948765086861...|[3.60224584102182...|[0.97346108855764...|       0.0|\n",
      "| 20|   -322|      73|       4|       0|     no|        0.0|          0.0|[20.0,-322.0,73.0...|[1.88367121144064...|[3.52121279561323...|[0.97128534842944...|       0.0|\n",
      "| 20|   -172|     238|       3|       0|     no|        0.0|          0.0|[20.0,-172.0,238....|[1.88367121144064...|[2.77718605728574...|[0.94143047869202...|       0.0|\n",
      "| 20|   -103|     180|       1|       0|     no|        0.0|          0.0|[20.0,-103.0,180....|[1.88367121144064...|[2.69527723749065...|[0.93674738867442...|       0.0|\n",
      "| 20|     53|     203|       1|       0|     no|        0.0|          0.0|[20.0,53.0,203.0,...|[1.88367121144064...|[2.60690646505918...|[0.93130474749159...|       0.0|\n",
      "| 20|     66|      75|       2|       0|     no|        0.0|          0.0|[20.0,66.0,75.0,2...|[1.88367121144064...|[3.21187231811072...|[0.96127861725566...|       0.0|\n",
      "| 20|     67|     387|       1|       0|     no|        0.0|          0.0|[20.0,67.0,387.0,...|[1.88367121144064...|[1.94344334135333...|[0.87472994322774...|       0.0|\n",
      "| 20|     76|     639|       2|       0|     no|        1.0|          0.0|[20.0,76.0,639.0,...|[1.88367121144064...|[1.17937391913117...|[0.76483521408481...|       0.0|\n",
      "| 20|     79|     168|       3|       0|     no|        0.0|          0.0|[20.0,79.0,168.0,...|[1.88367121144064...|[3.02055406563835...|[0.95349410064791...|       0.0|\n",
      "+---+-------+--------+--------+--------+-------+-----------+-------------+--------------------+--------------------+--------------------+--------------------+----------+\n",
      "only showing top 20 rows\n",
      "\n"
     ]
    }
   ],
   "source": [
    "# 訓練データの推論\n",
    "pred_train = model.transform(train_df)\n",
    "pred_train.show()"
   ]
  },
  {
   "cell_type": "code",
   "execution_count": 17,
   "id": "414c4d63-8e02-4f6c-be91-d265f31b9f7d",
   "metadata": {},
   "outputs": [
    {
     "name": "stdout",
     "output_type": "stream",
     "text": [
      "+---+-------+--------+--------+--------+-------+-----------+-------------+--------------------+--------------------+--------------------+--------------------+----------+\n",
      "|age|balance|duration|campaign|previous|default|converted_y|default_index|            features|     scaled_features|       rawPrediction|         probability|prediction|\n",
      "+---+-------+--------+--------+--------+-------+-----------+-------------+--------------------+--------------------+--------------------+--------------------+----------+\n",
      "| 19|      0|     123|       3|       0|     no|        0.0|          0.0|[19.0,0.0,123.0,3...|[1.78948765086861...|[3.19306148478539...|[0.96057233208168...|       0.0|\n",
      "| 19|     27|      86|      12|       0|     no|        0.0|          0.0|[19.0,27.0,86.0,1...|[1.78948765086861...|[4.62347551189535...|[0.99027685579104...|       0.0|\n",
      "| 19|    779|     184|       4|       0|     no|        1.0|          0.0|[19.0,779.0,184.0...|[1.78948765086861...|[3.09003796035752...|[0.95647994521221...|       0.0|\n",
      "| 19|   1169|     463|      18|       0|     no|        0.0|          0.0|[19.0,1169.0,463....|[1.78948765086861...|[4.09021635444972...|[0.98353985820944...|       0.0|\n",
      "| 19|   1247|      94|       1|       0|     no|        0.0|          0.0|[19.0,1247.0,94.0...|[1.78948765086861...|[2.96513404648499...|[0.95097391111825...|       0.0|\n",
      "| 19|   1803|      59|       1|       0|     no|        0.0|          0.0|[19.0,1803.0,59.0...|[1.78948765086861...|[3.07164133631883...|[0.95570770297171...|       0.0|\n",
      "| 19|   1803|     124|       1|       1|     no|        0.0|          0.0|[19.0,1803.0,124....|[1.78948765086861...|[2.70766552494155...|[0.93747745658752...|       0.0|\n",
      "| 20|    130|      88|       1|       3|     no|        0.0|          0.0|[20.0,130.0,88.0,...|[1.88367121144064...|[2.62922410168825...|[0.93271887474295...|       0.0|\n",
      "| 20|    292|      45|       1|       0|     no|        0.0|          0.0|[20.0,292.0,45.0,...|[1.88367121144064...|[3.16776992172354...|[0.95960322441993...|       0.0|\n",
      "| 20|    292|     385|       2|       1|     no|        1.0|          0.0|[20.0,292.0,385.0...|[1.88367121144064...|[1.95717077484828...|[0.87622643905984...|       0.0|\n",
      "| 20|    336|     133|       1|       0|     no|        0.0|          0.0|[20.0,336.0,133.0...|[1.88367121144064...|[2.84914635527251...|[0.94527454002539...|       0.0|\n",
      "| 20|    556|      15|      10|       0|     no|        0.0|          0.0|[20.0,556.0,15.0,...|[1.88367121144064...|[4.56460715536371...|[0.98969336352233...|       0.0|\n",
      "| 20|   1191|     274|       1|       0|     no|        0.0|          0.0|[20.0,1191.0,274....|[1.88367121144064...|[2.31096798322342...|[0.90978133816039...|       0.0|\n",
      "| 20|   1681|     130|       1|       0|     no|        0.0|          0.0|[20.0,1681.0,130....|[1.88367121144064...|[2.81253942623131...|[0.94334968170843...|       0.0|\n",
      "| 20|   1819|     245|       3|       0|     no|        1.0|          0.0|[20.0,1819.0,245....|[1.88367121144064...|[2.68177428830678...|[0.93594258170823...|       0.0|\n",
      "| 21|   -172|     409|       1|       3|     no|        1.0|          0.0|[21.0,-172.0,409....|[1.97785477201267...|[1.47569398110712...|[0.81392130080707...|       0.0|\n",
      "| 21|      0|     168|       5|       0|     no|        0.0|          0.0|[21.0,0.0,168.0,5...|[1.97785477201267...|[3.30421188137241...|[0.96457302071821...|       0.0|\n",
      "| 21|     64|      16|       1|       0|     no|        0.0|          0.0|[21.0,64.0,16.0,1...|[1.97785477201267...|[3.27271445298320...|[0.96348080149036...|       0.0|\n",
      "| 21|    164|     260|       1|       0|     no|        0.0|          0.0|[21.0,164.0,260.0...|[1.97785477201267...|[2.39003378177156...|[0.91606416563997...|       0.0|\n",
      "| 21|    232|     110|       2|       0|     no|        0.0|          0.0|[21.0,232.0,110.0...|[1.97785477201267...|[3.07232878277360...|[0.95573679380204...|       0.0|\n",
      "+---+-------+--------+--------+--------+-------+-----------+-------------+--------------------+--------------------+--------------------+--------------------+----------+\n",
      "only showing top 20 rows\n",
      "\n"
     ]
    }
   ],
   "source": [
    "# テストデータの推論\n",
    "pred_test = model.transform(test_df)\n",
    "pred_test.show()"
   ]
  },
  {
   "cell_type": "code",
   "execution_count": 18,
   "id": "b8a13ee5-fbbb-4aca-81b3-714a1a8bd362",
   "metadata": {},
   "outputs": [
    {
     "name": "stdout",
     "output_type": "stream",
     "text": [
      "+-----------------------------------------+----------+\n",
      "|probability                              |prediction|\n",
      "+-----------------------------------------+----------+\n",
      "|[0.939904601623422,0.06009539837657796]  |0.0       |\n",
      "|[0.914659967238211,0.08534003276178903]  |0.0       |\n",
      "|[0.9583421278443363,0.041657872155663744]|0.0       |\n",
      "|[0.971280731883753,0.028719268116247032] |0.0       |\n",
      "|[0.9212498194751397,0.07875018052486027] |0.0       |\n",
      "|[0.919390022147477,0.080609977852523]    |0.0       |\n",
      "|[0.9627065076829667,0.03729349231703327] |0.0       |\n",
      "|[0.9574527537681594,0.042547246231840585]|0.0       |\n",
      "|[0.9248990528547075,0.07510094714529247] |0.0       |\n",
      "|[0.946136738944358,0.05386326105564199]  |0.0       |\n",
      "|[0.9480514709504603,0.05194852904953973] |0.0       |\n",
      "|[0.9734610885576411,0.02653891144235887] |0.0       |\n",
      "|[0.971285348429445,0.028714651570554972] |0.0       |\n",
      "|[0.9414304786920291,0.058569521307970884]|0.0       |\n",
      "|[0.9367473886744273,0.0632526113255727]  |0.0       |\n",
      "|[0.9313047474915968,0.06869525250840325] |0.0       |\n",
      "|[0.9612786172556608,0.03872138274433923] |0.0       |\n",
      "|[0.8747299432277438,0.12527005677225622] |0.0       |\n",
      "|[0.7648352140848155,0.23516478591518453] |0.0       |\n",
      "|[0.9534941006479138,0.046505899352086155]|0.0       |\n",
      "+-----------------------------------------+----------+\n",
      "only showing top 20 rows\n",
      "\n"
     ]
    }
   ],
   "source": [
    "# predictionは予測結果\n",
    "# probabilityは0である確率と、1である確率をそれぞれ表す\n",
    "pred_train.select(['probability', 'prediction']).show(truncate = False)"
   ]
  },
  {
   "cell_type": "markdown",
   "id": "bd062d0e-8460-4f73-9d52-91263214f843",
   "metadata": {},
   "source": [
    "#### 精度評価"
   ]
  },
  {
   "cell_type": "code",
   "execution_count": 19,
   "id": "89cabe7a-4708-4d84-b2ce-24d32a680002",
   "metadata": {},
   "outputs": [
    {
     "data": {
      "text/plain": [
       "0.8323554117294152"
      ]
     },
     "execution_count": 19,
     "metadata": {},
     "output_type": "execute_result"
    }
   ],
   "source": [
    "# 訓練データの精度評価\n",
    "evaluator = BinaryClassificationEvaluator(labelCol = 'converted_y')\n",
    "auc = evaluator.evaluate(pred_train)\n",
    "auc"
   ]
  },
  {
   "cell_type": "code",
   "execution_count": 20,
   "id": "3a3bb2de-1d29-4a99-a652-4cc636ac093a",
   "metadata": {},
   "outputs": [
    {
     "data": {
      "text/plain": [
       "0.8286565521242742"
      ]
     },
     "execution_count": 20,
     "metadata": {},
     "output_type": "execute_result"
    }
   ],
   "source": [
    "# テストデータの精度評価\n",
    "evaluator = BinaryClassificationEvaluator(labelCol = 'converted_y')\n",
    "auc = evaluator.evaluate(pred_test)\n",
    "auc"
   ]
  }
 ],
 "metadata": {
  "kernelspec": {
   "display_name": "Python 3 (ipykernel)",
   "language": "python",
   "name": "python3"
  },
  "language_info": {
   "codemirror_mode": {
    "name": "ipython",
    "version": 3
   },
   "file_extension": ".py",
   "mimetype": "text/x-python",
   "name": "python",
   "nbconvert_exporter": "python",
   "pygments_lexer": "ipython3",
   "version": "3.10.8"
  }
 },
 "nbformat": 4,
 "nbformat_minor": 5
}
